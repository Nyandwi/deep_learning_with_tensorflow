{
 "cells": [
  {
   "cell_type": "markdown",
   "id": "d7d558d1",
   "metadata": {},
   "source": [
    "<table align=\"left\">\n",
    "  <td>\n",
    "    <a href=\"https://colab.research.google.com/github/nyandwi/machine_learning_complete/blob/main/9_nlp_with_tensorflow/5_using_pretrained_bert_for_text_classification.ipynb\" target=\"_parent\"><img src=\"https://colab.research.google.com/assets/colab-badge.svg\" alt=\"Open In Colab\"/></a>\n",
    "  </td>\n",
    "</table>"
   ]
  },
  {
   "cell_type": "markdown",
   "id": "b55d6622",
   "metadata": {},
   "source": [
    "*This notebook was created by [Jean de Dieu Nyandwi](https://twitter.com/jeande_d) for the love of machine learning community. For any feedback, errors or suggestion, he can be reached on email (johnjw7084 at gmail dot com), [Twitter](https://twitter.com/jeande_d), or [LinkedIn](https://linkedin.com/in/nyandwi).*"
   ]
  },
  {
   "cell_type": "markdown",
   "id": "304ad719",
   "metadata": {
    "id": "304ad719"
   },
   "source": [
    "<a name='0'></a>\n",
    "# Using Pretrained BERT for Text Classification"
   ]
  },
  {
   "cell_type": "markdown",
   "id": "b6a095ea",
   "metadata": {
    "id": "b6a095ea"
   },
   "source": [
    "## Contents \n",
    "\n",
    "* [1. Intro to BERT](#1)\n",
    "* [2. In Practice: Finetuning a Pretrained BERT](#2)\n",
    "   * [2.1 Getting the data](#2-1)\n",
    "   * [2.2 Preparing the data](#2-2)\n",
    "   * [2.3 Getting the BERT and its preprocesing model from TensorFlow Hub](#2-3)\n",
    "   * [2.4 Building a news classifier](#2-4)\n",
    "   * [2.5 Training a finetuned BERT model](#2-4)\n",
    "   * [2.6 Visualizing the model results](#2-4)\n",
    "   * [2.7 Performing the inference on new texts](#2-4)\n",
    "\n",
    "* [3. Futher learning](#3)"
   ]
  },
  {
   "cell_type": "markdown",
   "id": "NpH129c1ipzK",
   "metadata": {
    "id": "NpH129c1ipzK"
   },
   "source": [
    "<a name='1'></a>\n",
    "## 1. Intro to BERT"
   ]
  },
  {
   "cell_type": "markdown",
   "id": "qxOWDkU-Z3jj",
   "metadata": {
    "id": "qxOWDkU-Z3jj"
   },
   "source": [
    "BERT stands for Bidirectional Encoder Representations from Transformers. It is one of the recent state of the art language models that can be used for variety of tasks such as question answering, text classification, machine translation and so forth. \n",
    "\n",
    "As it sounds and hence the name, BERT is based on Transformers. Transformers are a neural network type architecture that uses attention mechanisms([Attention is All you Need](https://arxiv.org/pdf/1706.03762.pdf))\n",
    "\n",
    "BERT is deeply bidirectional: it captures the full context of the input text (converted to tokens) from both directions. The traditional language models (e.g [Word2vec](https://arxiv.org/abs/1301.3781)) are undirectional and thus, they don't take into account the context of each occurence of a given word. \n",
    "\n",
    "To quote its [paper](https://arxiv.org/pdf/1810.04805.pdf), BERT also uses a `next word prediction` task that jointly pretrains text-pair representations. \n",
    "\n"
   ]
  },
  {
   "cell_type": "markdown",
   "id": "6b0vYfygj3nk",
   "metadata": {
    "id": "6b0vYfygj3nk"
   },
   "source": [
    "TensorFlow Hub contains many version of [BERT](https://tfhub.dev/google/collections/bert/1) such as: [Small BERT](https://tfhub.dev/google/collections/bert/1), [Albert](https://tfhub.dev/google/collections/albert/1), [Electra](https://tfhub.dev/google/collections/albert/1), [BERT Expert](https://tfhub.dev/google/collections/experts/bert/1). "
   ]
  },
  {
   "cell_type": "markdown",
   "id": "pJsFn5Jukzvi",
   "metadata": {
    "id": "pJsFn5Jukzvi"
   },
   "source": [
    "<a name='2'></a>\n",
    "\n",
    "## 2. In Practice: Finetuning a Pretrained BERT"
   ]
  },
  {
   "cell_type": "markdown",
   "id": "hROK2TTUtEm5",
   "metadata": {
    "id": "hROK2TTUtEm5"
   },
   "source": [
    "We are going to use `ag_news_subset` dataset that is available in [TensorFlow datasets](https://www.tensorflow.org/datasets/catalog/ag_news_subset). TensorFlow datasets is a collection of awesome datasets that can be used right away with little preparations. \n",
    "\n",
    "AG is a collection of more than 1 million news articles gathered from more than 2000 news sources by ComeToMyHead in more than 1 year of activity. \n",
    "\n",
    "The AG dataset contains 4 classes that are: World(0), Sports(1), Business(2), Sci/Tech(3). The total number of training samples is 120,000 and testing 7,600. Each class contains 30,000 training samples and 1,900 testing samples. \n",
    "\n",
    "You can learn more about the dataset [here](http://groups.di.unipi.it/~gulli/AG_corpus_of_news_articles.html).\n",
    "\n",
    "\n",
    "Let's get the dataset from TensorFlow datasets."
   ]
  },
  {
   "cell_type": "markdown",
   "id": "BwdYMcP3vb4K",
   "metadata": {
    "id": "BwdYMcP3vb4K"
   },
   "source": [
    "<a name='2-1'></a>\n",
    "\n",
    "## 2.1 Getting the Data"
   ]
  },
  {
   "cell_type": "markdown",
   "id": "wkrr7SMgwXwt",
   "metadata": {
    "id": "wkrr7SMgwXwt"
   },
   "source": [
    "#### Imports"
   ]
  },
  {
   "cell_type": "code",
   "execution_count": 1,
   "id": "a2PFMTFVwPkY",
   "metadata": {
    "id": "a2PFMTFVwPkY"
   },
   "outputs": [],
   "source": [
    "import tensorflow as tf\n",
    "import tensorflow_datasets as tfds\n",
    "import numpy as np\n",
    "import matplotlib.pyplot as plt\n",
    "import tensorflow_hub as hub"
   ]
  },
  {
   "cell_type": "markdown",
   "id": "nSyKsBxnXEY3",
   "metadata": {
    "id": "nSyKsBxnXEY3"
   },
   "source": [
    "The dataset that we are going to download has only one version so far. Let's specify it so that when it is updated, our lab will not be affected. If loading the data fails, run the cell again. It happens sometime when loading datasets from TF datasets."
   ]
  },
  {
   "cell_type": "code",
   "execution_count": 3,
   "id": "6JIKIZDRQwVV",
   "metadata": {
    "colab": {
     "base_uri": "https://localhost:8080/",
     "height": 316,
     "referenced_widgets": [
      "ffe4fbd6097e414b99cb4c4780557553",
      "40ad8f616a684bedb5dc40639541e466",
      "515f8749c3cd420d85289ac142257240",
      "377499c0d2c94299926b820deee71819",
      "d6a78c6422574503a85c7bbc8be3321c",
      "e9c1537f77814146b98ed4e0772626e2",
      "feb1ffd9c3504e238531a5d8b3ee9f8a",
      "75c874a4d3884c8cbbc26ffa57d97b6f",
      "64fe9627b18644668b6f386b72f9ec98",
      "3211dd4a60b04381a2ce78c2278b5023",
      "c17648de297344679cdec0b3c734b223",
      "2c48c62afa474d1a9a62b6daf6931d40",
      "12b0c1fcd12c4d4fa1dfdc1593ff3972",
      "d8deccabcafc4e649e46fca288bf95dd",
      "ed825f71daa6460da541326d01b098e9",
      "25f4bb62d1ab47779bfbe78dfe58fdac",
      "a13335e07e85455e8366cb35077de77e",
      "1bcd2619383e41c6ae1ae9108530d3e8",
      "9cd6636a115c404099bf30a71eb44738",
      "a9a512b8b9254d91a5530852bd8033df",
      "85b1127de5c245f1ad61b33bae41279e",
      "b99b0cff30294582ae1e66e2a633869b",
      "2ac92ba33fcd419991df92f41de01c65",
      "cde24def6f35489391282d157e6a3550",
      "66370f990ba64dc1a28c984e344b23ac",
      "66e634e821fc4c55a84f314a472170f0",
      "d14cd8661cae4f7a8c6785f56b398dc6",
      "b0a973b98e5d4541a0c677c874e64c50",
      "354f3b9cc77c4615a762df558e5c5267",
      "046226810bd141599517fba1ded1ed8f",
      "aa33d0e6a828439db44ff7bb83e728a3",
      "a3c813936264408d99f3119fd9499df2",
      "97b8666b250d46c9b8d8f463464ce793",
      "f9ed0b3303a549b6a1620a7b0f43ad45",
      "f9b9ef9699704cbbb8920fef2e60fe71",
      "8fa058e1bdd7435b890054f3f0aa06df",
      "d63a80ebc12a4adfbb6238033f91c638",
      "b18fb0dc468b42ea8afd392b9cb4f727",
      "27ffec67ddd849778376db18144d6f38",
      "c4b2124409f64d0ca42ffb44056504de",
      "6c57f7f09d7d4e6a89e4b02ce378aae0",
      "b67c6831b62e4e28ad081517a6ea06eb",
      "0ba653c10cc449368a8910a5854ddb71",
      "f11bb92965034840b21e3a050c7ad8a6",
      "8ffdc8e410ff467f826aa116f517658e",
      "6578461a0b3040418cf2fec36cc26bd4",
      "68f17020d75d4e2e834536fa9838a76b",
      "7fbfd0d4356349f99215c963d9d0f58b",
      "3fb758f51cb2447ba8e5767fcc95ea2b",
      "ea1ab1d0e9244801852bfd6840d8cbc4",
      "c1cf085a00d148b4b583950ac8f06073",
      "2fc4685daa1f4c8dbd3833fb607aa650",
      "8e85031ac9fc4d9d9f6a55e8172e4df6",
      "0cc6e536dabf4e3397f1d8db0765bb63",
      "f704ed4f5e254d04b2d8d1fb36f77e1a",
      "566bb79ab07f4e208fc43e0643d76bc3",
      "0ca9a37cd38b4ce8ba1d6535c2d85712",
      "85842ecd8d1f44a58fbcea48c39b904b",
      "d3a0f7aba98d4742a8cdcb7c315390c3",
      "d25d9a0a261b4c2db8f7020b7ec2cc9f",
      "7ee38e0deb744620a1eb7c866c24f640",
      "6e8761c0b1ad41f29dd174a2d4373fe5",
      "69e2be6bc02b4283aeedc41683d2c75d",
      "519c55322a6940e789892928e9e62e24",
      "f0ed3f707f0140af8a7dfcb5b843254c",
      "5f5ba5d5d3be47b69202839d3ce3dd27",
      "80af01b6d7a54fa99744a536f5580529",
      "fe9f20e182a2454c804e68c317834c96",
      "7374cef848094e08bf146366013931bf",
      "d4cb8bcdf308470c9d7a5949b5181736",
      "feca4ddf88df4f72ac3dfd6fb124ccf3",
      "4ce8e034694f4ae3a84560d66705ddab",
      "0d8bf4e088a849b6a0fb83f7bbeba65d",
      "9c3c2794090b410da00dd380ae00e34e",
      "a50d20a0b4fe4bd2bcdcff21b9eb64ba",
      "98e6f46668294d71bea96540e5cc3122",
      "cebb666792534b11ab7696da849ee17d"
     ]
    },
    "id": "6JIKIZDRQwVV",
    "outputId": "c25b028f-d238-4abb-e5ab-46d25b6dee3c"
   },
   "outputs": [
    {
     "name": "stdout",
     "output_type": "stream",
     "text": [
      "\u001b[1mDownloading and preparing dataset ag_news_subset/1.0.0 (download: 11.24 MiB, generated: 35.79 MiB, total: 47.03 MiB) to /root/tensorflow_datasets/ag_news_subset/1.0.0...\u001b[0m\n"
     ]
    },
    {
     "data": {
      "application/vnd.jupyter.widget-view+json": {
       "model_id": "ffe4fbd6097e414b99cb4c4780557553",
       "version_major": 2,
       "version_minor": 0
      },
      "text/plain": [
       "Dl Completed...: 0 url [00:00, ? url/s]"
      ]
     },
     "metadata": {},
     "output_type": "display_data"
    },
    {
     "data": {
      "application/vnd.jupyter.widget-view+json": {
       "model_id": "2c48c62afa474d1a9a62b6daf6931d40",
       "version_major": 2,
       "version_minor": 0
      },
      "text/plain": [
       "Dl Size...: 0 MiB [00:00, ? MiB/s]"
      ]
     },
     "metadata": {},
     "output_type": "display_data"
    },
    {
     "data": {
      "application/vnd.jupyter.widget-view+json": {
       "model_id": "2ac92ba33fcd419991df92f41de01c65",
       "version_major": 2,
       "version_minor": 0
      },
      "text/plain": [
       "Extraction completed...: 0 file [00:00, ? file/s]"
      ]
     },
     "metadata": {},
     "output_type": "display_data"
    },
    {
     "name": "stdout",
     "output_type": "stream",
     "text": [
      "\n",
      "\n",
      "\n"
     ]
    },
    {
     "data": {
      "application/vnd.jupyter.widget-view+json": {
       "model_id": "f9ed0b3303a549b6a1620a7b0f43ad45",
       "version_major": 2,
       "version_minor": 0
      },
      "text/plain": [
       "0 examples [00:00, ? examples/s]"
      ]
     },
     "metadata": {},
     "output_type": "display_data"
    },
    {
     "name": "stdout",
     "output_type": "stream",
     "text": [
      "Shuffling and writing examples to /root/tensorflow_datasets/ag_news_subset/1.0.0.incompleteIWSQ9J/ag_news_subset-train.tfrecord\n"
     ]
    },
    {
     "data": {
      "application/vnd.jupyter.widget-view+json": {
       "model_id": "8ffdc8e410ff467f826aa116f517658e",
       "version_major": 2,
       "version_minor": 0
      },
      "text/plain": [
       "  0%|          | 0/120000 [00:00<?, ? examples/s]"
      ]
     },
     "metadata": {},
     "output_type": "display_data"
    },
    {
     "data": {
      "application/vnd.jupyter.widget-view+json": {
       "model_id": "566bb79ab07f4e208fc43e0643d76bc3",
       "version_major": 2,
       "version_minor": 0
      },
      "text/plain": [
       "0 examples [00:00, ? examples/s]"
      ]
     },
     "metadata": {},
     "output_type": "display_data"
    },
    {
     "name": "stdout",
     "output_type": "stream",
     "text": [
      "Shuffling and writing examples to /root/tensorflow_datasets/ag_news_subset/1.0.0.incompleteIWSQ9J/ag_news_subset-test.tfrecord\n"
     ]
    },
    {
     "data": {
      "application/vnd.jupyter.widget-view+json": {
       "model_id": "80af01b6d7a54fa99744a536f5580529",
       "version_major": 2,
       "version_minor": 0
      },
      "text/plain": [
       "  0%|          | 0/7600 [00:00<?, ? examples/s]"
      ]
     },
     "metadata": {},
     "output_type": "display_data"
    },
    {
     "name": "stdout",
     "output_type": "stream",
     "text": [
      "\u001b[1mDataset ag_news_subset downloaded and prepared to /root/tensorflow_datasets/ag_news_subset/1.0.0. Subsequent calls will reuse this data.\u001b[0m\n"
     ]
    }
   ],
   "source": [
    "(train_data, val_data), info = tfds.load('ag_news_subset:1.0.0', #version 1.0.0\n",
    "                                         split=('train', 'test'),\n",
    "                                         with_info=True, \n",
    "                                         as_supervised=True)"
   ]
  },
  {
   "cell_type": "markdown",
   "id": "378IQW1eSVlz",
   "metadata": {
    "id": "378IQW1eSVlz"
   },
   "source": [
    "Now that we have the data, we can look into some examples. This is always a good practice. \n",
    "\n",
    "Printing `info` that we loaded with the dataset, we can see pretty much everything we would need to know about the data. "
   ]
  },
  {
   "cell_type": "code",
   "execution_count": 4,
   "id": "kEVqTS2aRiOF",
   "metadata": {
    "colab": {
     "base_uri": "https://localhost:8080/"
    },
    "id": "kEVqTS2aRiOF",
    "outputId": "8ef7c8af-32ad-44e4-fefb-9356fe5709e3"
   },
   "outputs": [
    {
     "name": "stdout",
     "output_type": "stream",
     "text": [
      "tfds.core.DatasetInfo(\n",
      "    name='ag_news_subset',\n",
      "    version=1.0.0,\n",
      "    description='AG is a collection of more than 1 million news articles.\n",
      "News articles have been gathered from more than 2000  news sources by ComeToMyHead in more than 1 year of activity.\n",
      "ComeToMyHead is an academic news search engine which has been running since July, 2004.\n",
      "The dataset is provided by the academic comunity for research purposes in data mining (clustering, classification, etc),\n",
      "information retrieval (ranking, search, etc), xml, data compression, data streaming,\n",
      "and any other non-commercial activity.\n",
      "For more information, please refer to the link http://www.di.unipi.it/~gulli/AG_corpus_of_news_articles.html .\n",
      "\n",
      "The AG's news topic classification dataset is constructed by Xiang Zhang (xiang.zhang@nyu.edu) from the dataset above.\n",
      "It is used as a text classification benchmark in the following paper:\n",
      "Xiang Zhang, Junbo Zhao, Yann LeCun. Character-level Convolutional Networks for Text Classification. Advances in Neural Information Processing Systems 28 (NIPS 2015).\n",
      "\n",
      "The AG's news topic classification dataset is constructed by choosing 4 largest classes from the original corpus.\n",
      "Each class contains 30,000 training samples and 1,900 testing samples.\n",
      "The total number of training samples is 120,000 and testing 7,600.',\n",
      "    homepage='https://arxiv.org/abs/1509.01626',\n",
      "    features=FeaturesDict({\n",
      "        'description': Text(shape=(), dtype=tf.string),\n",
      "        'label': ClassLabel(shape=(), dtype=tf.int64, num_classes=4),\n",
      "        'title': Text(shape=(), dtype=tf.string),\n",
      "    }),\n",
      "    total_num_examples=127600,\n",
      "    splits={\n",
      "        'test': 7600,\n",
      "        'train': 120000,\n",
      "    },\n",
      "    supervised_keys=('description', 'label'),\n",
      "    citation=\"\"\"@misc{zhang2015characterlevel,\n",
      "        title={Character-level Convolutional Networks for Text Classification},\n",
      "        author={Xiang Zhang and Junbo Zhao and Yann LeCun},\n",
      "        year={2015},\n",
      "        eprint={1509.01626},\n",
      "        archivePrefix={arXiv},\n",
      "        primaryClass={cs.LG}\n",
      "    }\"\"\",\n",
      "    redistribution_info=,\n",
      ")\n",
      "\n"
     ]
    }
   ],
   "source": [
    "print(info)"
   ]
  },
  {
   "cell_type": "code",
   "execution_count": 5,
   "id": "03IBh4d1S1eJ",
   "metadata": {
    "colab": {
     "base_uri": "https://localhost:8080/"
    },
    "id": "03IBh4d1S1eJ",
    "outputId": "dc971fd9-14f1-47aa-b36c-2b87f561571d"
   },
   "outputs": [
    {
     "name": "stdout",
     "output_type": "stream",
     "text": [
      "The news are grouped into 4 classes that are :['World', 'Sports', 'Business', 'Sci/Tech']\n"
     ]
    }
   ],
   "source": [
    "# Displaying the classes\n",
    "\n",
    "class_names = info.features['label'].names\n",
    "num_classes = info.features['label'].num_classes\n",
    "\n",
    "print(f'The news are grouped into {num_classes} classes that are :{class_names}')"
   ]
  },
  {
   "cell_type": "code",
   "execution_count": 6,
   "id": "uUzqSrGwY7dU",
   "metadata": {
    "colab": {
     "base_uri": "https://localhost:8080/"
    },
    "id": "uUzqSrGwY7dU",
    "outputId": "40230be6-3bc1-4506-aa19-f16e2dd2f39e"
   },
   "outputs": [
    {
     "name": "stdout",
     "output_type": "stream",
     "text": [
      "The number of training samples: 120000 \n",
      "The number of validation samples: 7600\n"
     ]
    }
   ],
   "source": [
    "num_train = info.splits['train'].num_examples\n",
    "num_val = info.splits['test'].num_examples\n",
    "\n",
    "print(f'The number of training samples: {num_train} \\nThe number of validation samples: {num_val}')"
   ]
  },
  {
   "cell_type": "markdown",
   "id": "_AGay5wWZ_xs",
   "metadata": {
    "id": "_AGay5wWZ_xs"
   },
   "source": [
    "We can also display the first 10 news samples. We can use [`tfds.as_dataframe`](https://www.tensorflow.org/datasets/api_docs/python/tfds/as_dataframe) to display them as dataframe."
   ]
  },
  {
   "cell_type": "code",
   "execution_count": 7,
   "id": "kGj0TRaXaHG1",
   "metadata": {
    "colab": {
     "base_uri": "https://localhost:8080/",
     "height": 359
    },
    "id": "kGj0TRaXaHG1",
    "outputId": "a301ab2d-8a29-455f-bd13-248bbd4438f5"
   },
   "outputs": [
    {
     "data": {
      "text/html": [
       "<div>\n",
       "<style scoped>\n",
       "    .dataframe tbody tr th:only-of-type {\n",
       "        vertical-align: middle;\n",
       "    }\n",
       "\n",
       "    .dataframe tbody tr th {\n",
       "        vertical-align: top;\n",
       "    }\n",
       "\n",
       "    .dataframe thead th {\n",
       "        text-align: right;\n",
       "    }\n",
       "</style>\n",
       "<table border=\"1\" class=\"dataframe\">\n",
       "  <thead>\n",
       "    <tr style=\"text-align: right;\">\n",
       "      <th></th>\n",
       "      <th>description</th>\n",
       "      <th>label</th>\n",
       "    </tr>\n",
       "  </thead>\n",
       "  <tbody>\n",
       "    <tr>\n",
       "      <th>0</th>\n",
       "      <td>b'AMD #39;s new dual-core Opteron chip is desi...</td>\n",
       "      <td>3</td>\n",
       "    </tr>\n",
       "    <tr>\n",
       "      <th>1</th>\n",
       "      <td>b'Reuters - Major League Baseball\\\\Monday anno...</td>\n",
       "      <td>1</td>\n",
       "    </tr>\n",
       "    <tr>\n",
       "      <th>2</th>\n",
       "      <td>b'President Bush #39;s  quot;revenue-neutral q...</td>\n",
       "      <td>2</td>\n",
       "    </tr>\n",
       "    <tr>\n",
       "      <th>3</th>\n",
       "      <td>b'Britain will run out of leading scientists u...</td>\n",
       "      <td>3</td>\n",
       "    </tr>\n",
       "    <tr>\n",
       "      <th>4</th>\n",
       "      <td>b'London, England (Sports Network) - England m...</td>\n",
       "      <td>1</td>\n",
       "    </tr>\n",
       "    <tr>\n",
       "      <th>5</th>\n",
       "      <td>b'TOKYO - Sony Corp. is banking on the \\\\$3 bi...</td>\n",
       "      <td>0</td>\n",
       "    </tr>\n",
       "    <tr>\n",
       "      <th>6</th>\n",
       "      <td>b'Giant pandas may well prefer bamboo to lapto...</td>\n",
       "      <td>3</td>\n",
       "    </tr>\n",
       "    <tr>\n",
       "      <th>7</th>\n",
       "      <td>b'VILNIUS, Lithuania - Lithuania #39;s main pa...</td>\n",
       "      <td>0</td>\n",
       "    </tr>\n",
       "    <tr>\n",
       "      <th>8</th>\n",
       "      <td>b'Witnesses in the trial of a US soldier charg...</td>\n",
       "      <td>0</td>\n",
       "    </tr>\n",
       "    <tr>\n",
       "      <th>9</th>\n",
       "      <td>b'Dan Olsen of Ponte Vedra Beach, Fla., shot a...</td>\n",
       "      <td>1</td>\n",
       "    </tr>\n",
       "  </tbody>\n",
       "</table>\n",
       "</div>"
      ],
      "text/plain": [
       "                                         description  label\n",
       "0  b'AMD #39;s new dual-core Opteron chip is desi...      3\n",
       "1  b'Reuters - Major League Baseball\\\\Monday anno...      1\n",
       "2  b'President Bush #39;s  quot;revenue-neutral q...      2\n",
       "3  b'Britain will run out of leading scientists u...      3\n",
       "4  b'London, England (Sports Network) - England m...      1\n",
       "5  b'TOKYO - Sony Corp. is banking on the \\\\$3 bi...      0\n",
       "6  b'Giant pandas may well prefer bamboo to lapto...      3\n",
       "7  b'VILNIUS, Lithuania - Lithuania #39;s main pa...      0\n",
       "8  b'Witnesses in the trial of a US soldier charg...      0\n",
       "9  b'Dan Olsen of Ponte Vedra Beach, Fla., shot a...      1"
      ]
     },
     "execution_count": 7,
     "metadata": {},
     "output_type": "execute_result"
    }
   ],
   "source": [
    "news_df = tfds.as_dataframe(train_data.take(10), info)\n",
    "\n",
    "news_df.head(10)"
   ]
  },
  {
   "cell_type": "markdown",
   "id": "ksGa0Z4JaJDx",
   "metadata": {
    "id": "ksGa0Z4JaJDx"
   },
   "source": [
    "Let's display some full news."
   ]
  },
  {
   "cell_type": "code",
   "execution_count": 8,
   "id": "7Dq5HE_2Y2tm",
   "metadata": {
    "colab": {
     "base_uri": "https://localhost:8080/"
    },
    "id": "7Dq5HE_2Y2tm",
    "outputId": "c412b9af-7ccd-41bd-9ce0-4c35d3877950"
   },
   "outputs": [
    {
     "name": "stdout",
     "output_type": "stream",
     "text": [
      "Sample news 0\n",
      "   Label: 3 World\n",
      "   Description: b'AMD #39;s new dual-core Opteron chip is designed mainly for corporate computing applications, including databases, Web services, and financial transactions.'\n",
      "----------\n",
      "\n",
      "Sample news 1\n",
      "   Label: 1 Sports\n",
      "   Description: b'Reuters - Major League Baseball\\\\Monday announced a decision on the appeal filed by Chicago Cubs\\\\pitcher Kerry Wood regarding a suspension stemming from an\\\\incident earlier this season.'\n",
      "----------\n",
      "\n",
      "Sample news 2\n",
      "   Label: 2 Business\n",
      "   Description: b'President Bush #39;s  quot;revenue-neutral quot; tax reform needs losers to balance its winners, and people claiming the federal deduction for state and local taxes may be in administration planners #39; sights, news reports say.'\n",
      "----------\n",
      "\n",
      "Sample news 3\n",
      "   Label: 3 Sci/Tech\n",
      "   Description: b'Britain will run out of leading scientists unless science education is improved, says Professor Colin Pillinger.'\n",
      "----------\n",
      "\n"
     ]
    }
   ],
   "source": [
    "for i in range (0,4):\n",
    "\n",
    "  print(f\"Sample news {i}\\n \\\n",
    "  Label: {news_df['label'][i]} {(class_names[i])}\\n \\\n",
    "  Description: {news_df['description'][i]}\\n----------\\n\")"
   ]
  },
  {
   "cell_type": "code",
   "execution_count": 9,
   "id": "omL7uadpazuc",
   "metadata": {
    "colab": {
     "base_uri": "https://localhost:8080/"
    },
    "id": "omL7uadpazuc",
    "outputId": "c178f9a3-45b5-4514-df0e-9de2989d25b0"
   },
   "outputs": [
    {
     "data": {
      "text/plain": [
       "Index(['description', 'label'], dtype='object')"
      ]
     },
     "execution_count": 9,
     "metadata": {},
     "output_type": "execute_result"
    }
   ],
   "source": [
    "news_df.columns"
   ]
  },
  {
   "cell_type": "markdown",
   "id": "F-jPA6TEd3sw",
   "metadata": {
    "id": "F-jPA6TEd3sw"
   },
   "source": [
    "Now that we understand the data, let's prepare it before we can use LSTMs to classify the news.  "
   ]
  },
  {
   "cell_type": "markdown",
   "id": "EKjyyw21bRzM",
   "metadata": {
    "id": "EKjyyw21bRzM"
   },
   "source": [
    "<a name='2-2'></a>\n",
    "\n",
    "## 2.2 Preparing the Data"
   ]
  },
  {
   "cell_type": "markdown",
   "id": "w-KMfmo0dOWc",
   "metadata": {
    "id": "w-KMfmo0dOWc"
   },
   "source": [
    "For this practice of using a pretrained BERT, we will not need to vectorize the data. We will feed the sentences directly to the model. \n",
    "\n",
    "Let's just only shuffle and batch the training data. For validation data, we don't shuffle. We only batch it."
   ]
  },
  {
   "cell_type": "code",
   "execution_count": 10,
   "id": "i3e-BTCUfmdr",
   "metadata": {
    "id": "i3e-BTCUfmdr"
   },
   "outputs": [],
   "source": [
    "buffer_size = 1000\n",
    "batch_size = 32\n",
    "\n",
    "train_data = train_data.shuffle(buffer_size)\n",
    "train_data = train_data.batch(batch_size).prefetch(1)\n",
    "val_data = val_data.batch(batch_size).prefetch(1)"
   ]
  },
  {
   "cell_type": "code",
   "execution_count": 11,
   "id": "E0x15xiSogyS",
   "metadata": {
    "colab": {
     "base_uri": "https://localhost:8080/"
    },
    "id": "E0x15xiSogyS",
    "outputId": "b1b5c652-56aa-40c9-b818-25de49ee6ea1"
   },
   "outputs": [
    {
     "name": "stdout",
     "output_type": "stream",
     "text": [
      "Sample news\n",
      "----\n",
      " [b'RAMALLAH: Palestinian leader Yasser Arafat is  quot;very, very sick quot; and the ex-guerrilla who for decades symbolised a struggle for statehood is slipping in and out of consciousness, officials and medics said today.'\n",
      " b'AOL said it was intent on making travel an important part of its content expansion, which increasingly includes general Web properties that all Internet users can access as well as content just '\n",
      " b'AP - WHAT WAS FOUND: A microscopic diamond embedded in kimberlite, the molten rock in which diamonds are found, in Montana.'\n",
      " b'The US military in Iraq has denied reports that the former Iraqi leader Saddam Hussein is on hunger strike. But a spokesman told the BBC that some of his former aides who are also in custody, including  quot;Chemical '] \n",
      "----\n",
      "Corresponding labels: [0 2 3 0]\n"
     ]
    }
   ],
   "source": [
    "for news, label in train_data.take(1):\n",
    "\n",
    "  print(f'Sample news\\n----\\n {news.numpy()[:4]} \\n----\\nCorresponding labels: {label.numpy()[:4]}')"
   ]
  },
  {
   "cell_type": "markdown",
   "id": "B0vO0wXq7FO8",
   "metadata": {
    "id": "B0vO0wXq7FO8"
   },
   "source": [
    "<a name='2-3'></a>\n",
    "\n",
    "## 2.3 Getting the BERT Model and its Preprocessing Model from TF Hub"
   ]
  },
  {
   "cell_type": "markdown",
   "id": "kUnQsfjf7eAf",
   "metadata": {
    "id": "kUnQsfjf7eAf"
   },
   "source": [
    "There many versions of BERT that are optimized for different use cases. The choice of a given version is going to depend on computation time & speed, accuracy, and the size of that particular BERT version. \n",
    "\n",
    "For our case, we can use [SmallBERT](https://tfhub.dev/tensorflow/bert_en_uncased_preprocess/3). It is also worth mentioning that each BERT model has its preprocessing model that will convert the texts into tokens. The BERT models and their corresponding preprocesing models are pretty detailed on [TensorFlow Hub BERT models page](https://tfhub.dev/google/collections/bert/1). "
   ]
  },
  {
   "cell_type": "markdown",
   "id": "-ZrJ7X2x9ZQV",
   "metadata": {
    "id": "-ZrJ7X2x9ZQV"
   },
   "source": [
    "The preprocessing model use [TensorFlow Text](https://www.tensorflow.org/text) operations. We have to install it. "
   ]
  },
  {
   "cell_type": "code",
   "execution_count": 12,
   "id": "uM8eTKO79YkG",
   "metadata": {
    "colab": {
     "base_uri": "https://localhost:8080/"
    },
    "id": "uM8eTKO79YkG",
    "outputId": "d1ca81b0-c26f-4030-9d70-49fd0f47d1bb"
   },
   "outputs": [
    {
     "name": "stdout",
     "output_type": "stream",
     "text": [
      "Collecting tensorflow_text\n",
      "  Downloading tensorflow_text-2.6.0-cp37-cp37m-manylinux1_x86_64.whl (4.4 MB)\n",
      "\u001b[K     |████████████████████████████████| 4.4 MB 5.1 MB/s \n",
      "\u001b[?25hRequirement already satisfied: tensorflow-hub>=0.8.0 in /usr/local/lib/python3.7/dist-packages (from tensorflow_text) (0.12.0)\n",
      "Requirement already satisfied: tensorflow<2.7,>=2.6.0 in /usr/local/lib/python3.7/dist-packages (from tensorflow_text) (2.6.0)\n",
      "Requirement already satisfied: clang~=5.0 in /usr/local/lib/python3.7/dist-packages (from tensorflow<2.7,>=2.6.0->tensorflow_text) (5.0)\n",
      "Requirement already satisfied: absl-py~=0.10 in /usr/local/lib/python3.7/dist-packages (from tensorflow<2.7,>=2.6.0->tensorflow_text) (0.12.0)\n",
      "Requirement already satisfied: google-pasta~=0.2 in /usr/local/lib/python3.7/dist-packages (from tensorflow<2.7,>=2.6.0->tensorflow_text) (0.2.0)\n",
      "Requirement already satisfied: flatbuffers~=1.12.0 in /usr/local/lib/python3.7/dist-packages (from tensorflow<2.7,>=2.6.0->tensorflow_text) (1.12)\n",
      "Requirement already satisfied: termcolor~=1.1.0 in /usr/local/lib/python3.7/dist-packages (from tensorflow<2.7,>=2.6.0->tensorflow_text) (1.1.0)\n",
      "Requirement already satisfied: six~=1.15.0 in /usr/local/lib/python3.7/dist-packages (from tensorflow<2.7,>=2.6.0->tensorflow_text) (1.15.0)\n",
      "Requirement already satisfied: tensorboard~=2.6 in /usr/local/lib/python3.7/dist-packages (from tensorflow<2.7,>=2.6.0->tensorflow_text) (2.6.0)\n",
      "Requirement already satisfied: tensorflow-estimator~=2.6 in /usr/local/lib/python3.7/dist-packages (from tensorflow<2.7,>=2.6.0->tensorflow_text) (2.6.0)\n",
      "Requirement already satisfied: wheel~=0.35 in /usr/local/lib/python3.7/dist-packages (from tensorflow<2.7,>=2.6.0->tensorflow_text) (0.37.0)\n",
      "Requirement already satisfied: protobuf>=3.9.2 in /usr/local/lib/python3.7/dist-packages (from tensorflow<2.7,>=2.6.0->tensorflow_text) (3.17.3)\n",
      "Requirement already satisfied: keras-preprocessing~=1.1.2 in /usr/local/lib/python3.7/dist-packages (from tensorflow<2.7,>=2.6.0->tensorflow_text) (1.1.2)\n",
      "Requirement already satisfied: wrapt~=1.12.1 in /usr/local/lib/python3.7/dist-packages (from tensorflow<2.7,>=2.6.0->tensorflow_text) (1.12.1)\n",
      "Requirement already satisfied: typing-extensions~=3.7.4 in /usr/local/lib/python3.7/dist-packages (from tensorflow<2.7,>=2.6.0->tensorflow_text) (3.7.4.3)\n",
      "Requirement already satisfied: astunparse~=1.6.3 in /usr/local/lib/python3.7/dist-packages (from tensorflow<2.7,>=2.6.0->tensorflow_text) (1.6.3)\n",
      "Requirement already satisfied: gast==0.4.0 in /usr/local/lib/python3.7/dist-packages (from tensorflow<2.7,>=2.6.0->tensorflow_text) (0.4.0)\n",
      "Requirement already satisfied: numpy~=1.19.2 in /usr/local/lib/python3.7/dist-packages (from tensorflow<2.7,>=2.6.0->tensorflow_text) (1.19.5)\n",
      "Requirement already satisfied: h5py~=3.1.0 in /usr/local/lib/python3.7/dist-packages (from tensorflow<2.7,>=2.6.0->tensorflow_text) (3.1.0)\n",
      "Requirement already satisfied: keras~=2.6 in /usr/local/lib/python3.7/dist-packages (from tensorflow<2.7,>=2.6.0->tensorflow_text) (2.6.0)\n",
      "Requirement already satisfied: opt-einsum~=3.3.0 in /usr/local/lib/python3.7/dist-packages (from tensorflow<2.7,>=2.6.0->tensorflow_text) (3.3.0)\n",
      "Requirement already satisfied: grpcio<2.0,>=1.37.0 in /usr/local/lib/python3.7/dist-packages (from tensorflow<2.7,>=2.6.0->tensorflow_text) (1.39.0)\n",
      "Requirement already satisfied: cached-property in /usr/local/lib/python3.7/dist-packages (from h5py~=3.1.0->tensorflow<2.7,>=2.6.0->tensorflow_text) (1.5.2)\n",
      "Requirement already satisfied: requests<3,>=2.21.0 in /usr/local/lib/python3.7/dist-packages (from tensorboard~=2.6->tensorflow<2.7,>=2.6.0->tensorflow_text) (2.23.0)\n",
      "Requirement already satisfied: tensorboard-plugin-wit>=1.6.0 in /usr/local/lib/python3.7/dist-packages (from tensorboard~=2.6->tensorflow<2.7,>=2.6.0->tensorflow_text) (1.8.0)\n",
      "Requirement already satisfied: google-auth-oauthlib<0.5,>=0.4.1 in /usr/local/lib/python3.7/dist-packages (from tensorboard~=2.6->tensorflow<2.7,>=2.6.0->tensorflow_text) (0.4.5)\n",
      "Requirement already satisfied: setuptools>=41.0.0 in /usr/local/lib/python3.7/dist-packages (from tensorboard~=2.6->tensorflow<2.7,>=2.6.0->tensorflow_text) (57.4.0)\n",
      "Requirement already satisfied: markdown>=2.6.8 in /usr/local/lib/python3.7/dist-packages (from tensorboard~=2.6->tensorflow<2.7,>=2.6.0->tensorflow_text) (3.3.4)\n",
      "Requirement already satisfied: google-auth<2,>=1.6.3 in /usr/local/lib/python3.7/dist-packages (from tensorboard~=2.6->tensorflow<2.7,>=2.6.0->tensorflow_text) (1.34.0)\n",
      "Requirement already satisfied: tensorboard-data-server<0.7.0,>=0.6.0 in /usr/local/lib/python3.7/dist-packages (from tensorboard~=2.6->tensorflow<2.7,>=2.6.0->tensorflow_text) (0.6.1)\n",
      "Requirement already satisfied: werkzeug>=0.11.15 in /usr/local/lib/python3.7/dist-packages (from tensorboard~=2.6->tensorflow<2.7,>=2.6.0->tensorflow_text) (1.0.1)\n",
      "Requirement already satisfied: cachetools<5.0,>=2.0.0 in /usr/local/lib/python3.7/dist-packages (from google-auth<2,>=1.6.3->tensorboard~=2.6->tensorflow<2.7,>=2.6.0->tensorflow_text) (4.2.2)\n",
      "Requirement already satisfied: rsa<5,>=3.1.4 in /usr/local/lib/python3.7/dist-packages (from google-auth<2,>=1.6.3->tensorboard~=2.6->tensorflow<2.7,>=2.6.0->tensorflow_text) (4.7.2)\n",
      "Requirement already satisfied: pyasn1-modules>=0.2.1 in /usr/local/lib/python3.7/dist-packages (from google-auth<2,>=1.6.3->tensorboard~=2.6->tensorflow<2.7,>=2.6.0->tensorflow_text) (0.2.8)\n",
      "Requirement already satisfied: requests-oauthlib>=0.7.0 in /usr/local/lib/python3.7/dist-packages (from google-auth-oauthlib<0.5,>=0.4.1->tensorboard~=2.6->tensorflow<2.7,>=2.6.0->tensorflow_text) (1.3.0)\n",
      "Requirement already satisfied: importlib-metadata in /usr/local/lib/python3.7/dist-packages (from markdown>=2.6.8->tensorboard~=2.6->tensorflow<2.7,>=2.6.0->tensorflow_text) (4.6.4)\n",
      "Requirement already satisfied: pyasn1<0.5.0,>=0.4.6 in /usr/local/lib/python3.7/dist-packages (from pyasn1-modules>=0.2.1->google-auth<2,>=1.6.3->tensorboard~=2.6->tensorflow<2.7,>=2.6.0->tensorflow_text) (0.4.8)\n",
      "Requirement already satisfied: idna<3,>=2.5 in /usr/local/lib/python3.7/dist-packages (from requests<3,>=2.21.0->tensorboard~=2.6->tensorflow<2.7,>=2.6.0->tensorflow_text) (2.10)\n",
      "Requirement already satisfied: certifi>=2017.4.17 in /usr/local/lib/python3.7/dist-packages (from requests<3,>=2.21.0->tensorboard~=2.6->tensorflow<2.7,>=2.6.0->tensorflow_text) (2021.5.30)\n",
      "Requirement already satisfied: chardet<4,>=3.0.2 in /usr/local/lib/python3.7/dist-packages (from requests<3,>=2.21.0->tensorboard~=2.6->tensorflow<2.7,>=2.6.0->tensorflow_text) (3.0.4)\n",
      "Requirement already satisfied: urllib3!=1.25.0,!=1.25.1,<1.26,>=1.21.1 in /usr/local/lib/python3.7/dist-packages (from requests<3,>=2.21.0->tensorboard~=2.6->tensorflow<2.7,>=2.6.0->tensorflow_text) (1.24.3)\n",
      "Requirement already satisfied: oauthlib>=3.0.0 in /usr/local/lib/python3.7/dist-packages (from requests-oauthlib>=0.7.0->google-auth-oauthlib<0.5,>=0.4.1->tensorboard~=2.6->tensorflow<2.7,>=2.6.0->tensorflow_text) (3.1.1)\n",
      "Requirement already satisfied: zipp>=0.5 in /usr/local/lib/python3.7/dist-packages (from importlib-metadata->markdown>=2.6.8->tensorboard~=2.6->tensorflow<2.7,>=2.6.0->tensorflow_text) (3.5.0)\n",
      "Installing collected packages: tensorflow-text\n",
      "Successfully installed tensorflow-text-2.6.0\n"
     ]
    }
   ],
   "source": [
    "!pip install tensorflow_text\n",
    "import tensorflow_text as text"
   ]
  },
  {
   "cell_type": "code",
   "execution_count": 13,
   "id": "zb7F36kY6quG",
   "metadata": {
    "id": "zb7F36kY6quG"
   },
   "outputs": [],
   "source": [
    "bert_handle = 'https://tfhub.dev/tensorflow/small_bert/bert_en_uncased_L-4_H-512_A-8/2'\n",
    "preprocessing_model = 'https://tfhub.dev/tensorflow/bert_en_uncased_preprocess/3'"
   ]
  },
  {
   "cell_type": "markdown",
   "id": "VGHlY82i_Gde",
   "metadata": {
    "id": "VGHlY82i_Gde"
   },
   "source": [
    "Let's wrap `preprocessing_model` into a [KerasLayer](https://www.tensorflow.org/hub/api_docs/python/hub/KerasLayer) and test it on some sample sentences. "
   ]
  },
  {
   "cell_type": "code",
   "execution_count": 14,
   "id": "-8iJ0dhE_WHh",
   "metadata": {
    "id": "-8iJ0dhE_WHh"
   },
   "outputs": [],
   "source": [
    "preprocess_layer = hub.KerasLayer(preprocessing_model)"
   ]
  },
  {
   "cell_type": "markdown",
   "id": "IYjYF5jDEEdk",
   "metadata": {
    "id": "IYjYF5jDEEdk"
   },
   "source": [
    "The output of [preprocess model](https://tfhub.dev/tensorflow/bert_en_uncased_preprocess/3) is made of 3 elements or keys that are:   `input_word_ids`, `input_mask`, `input_type_ids`. Here are what they mean.\n",
    "\n",
    "* `input_word_ids`: has the token ids of the input sequences.\n",
    "* `input_mask`: has value 1 at the position of all input tokens present before padding and value 0 for the padding tokens.\n",
    "\n",
    "* `input_type_ids`: has the index of the input segment that gave rise to the input token at the respective position. The first input segment (index 0) includes the start-of-sequence token and its end-of-segment token. The second segment (index 1, if present) includes its end-of-segment token. Padding tokens get index 0 again.\n",
    "\n",
    "Source: [TF Hub doc](https://tfhub.dev/tensorflow/bert_en_uncased_preprocess/3)."
   ]
  },
  {
   "cell_type": "code",
   "execution_count": 15,
   "id": "NpLEBPAK_sEn",
   "metadata": {
    "colab": {
     "base_uri": "https://localhost:8080/"
    },
    "id": "NpLEBPAK_sEn",
    "outputId": "23141b2a-b577-4baf-c0f3-7dd340317ebe"
   },
   "outputs": [
    {
     "name": "stdout",
     "output_type": "stream",
     "text": [
      "Keys       : ['input_mask', 'input_word_ids', 'input_type_ids']\n",
      "Shape      : (1, 128)\n",
      "Word Ids   : [  101  6627 11256  1024  1996]\n",
      "Input Mask : [1 1 1 1 1]\n",
      "Type Ids   : [0 0 0 0 0]\n"
     ]
    }
   ],
   "source": [
    "sample_news = ['Tech rumors: The tech giant Apple is working on its self driving car']\n",
    "\n",
    "preprocessed_news = preprocess_layer(sample_news)\n",
    "\n",
    "print(f'Keys       : {list(preprocessed_news.keys())}')\n",
    "print(f'Shape      : {preprocessed_news[\"input_word_ids\"].shape}')\n",
    "print(f'Word Ids   : {preprocessed_news[\"input_word_ids\"][0, :5]}')\n",
    "print(f'Input Mask : {preprocessed_news[\"input_mask\"][0, :5]}')\n",
    "print(f'Type Ids   : {preprocessed_news[\"input_type_ids\"][0, :5]}')"
   ]
  },
  {
   "cell_type": "markdown",
   "id": "fQqja4ZQF0W1",
   "metadata": {
    "id": "fQqja4ZQF0W1"
   },
   "source": [
    "We can also see what kinds of the output the BERT model will give if we feed it the preprocessed texts. \n",
    "\n",
    "The bert model expect 3 input tensors: `input_word_ids`, `input_mask`, `input_type_ids`."
   ]
  },
  {
   "cell_type": "code",
   "execution_count": 16,
   "id": "-hrBJ4HQAzCg",
   "metadata": {
    "id": "-hrBJ4HQAzCg"
   },
   "outputs": [],
   "source": [
    "bert_model = hub.KerasLayer(bert_handle)"
   ]
  },
  {
   "cell_type": "markdown",
   "id": "tH8A0H_IHHE3",
   "metadata": {
    "id": "tH8A0H_IHHE3"
   },
   "source": [
    "The `bert_model` returns 2 main keys: `pooled_output`, `sequence_output`. \n",
    "\n",
    "Here are what they mean:\n",
    "\n",
    "* `pooled_output` represents the  input sequence.\n",
    "* `sequence_output` denotes each input token in the context. \n",
    "\n",
    "Any of those keys can be used as input to the rest of the model. We will see that later.\n",
    "\n"
   ]
  },
  {
   "cell_type": "code",
   "execution_count": 17,
   "id": "G0ONfy_dGg2s",
   "metadata": {
    "colab": {
     "base_uri": "https://localhost:8080/"
    },
    "id": "G0ONfy_dGg2s",
    "outputId": "8ce38ddf-ea7b-41aa-e54a-6d19149134af"
   },
   "outputs": [
    {
     "name": "stdout",
     "output_type": "stream",
     "text": [
      "Pooled output shape:(1, 512)\n",
      "Pooled output values:[ 0.944598    0.9861868  -0.15102872  0.17372097 -0.6424564 ]\n",
      "Sequence output shape:(1, 128, 512)\n",
      "Sequence output values:[[-0.60826176  0.2623035   1.2436793  ... -0.8821719   0.36095393\n",
      "  -0.00184657]\n",
      " [ 0.33820462  0.07993765  1.1374032  ... -1.6438915  -1.0649079\n",
      "  -0.7371688 ]\n",
      " [-0.6054905  -0.14994524  0.8464851  ... -0.74730563  0.84758896\n",
      "   0.13153419]\n",
      " [ 0.06868989  0.6969774   1.5265335  ... -0.7680908  -0.30986136\n",
      "   0.25017208]\n",
      " [-1.2314899   1.4334055  -0.37746784 ... -1.3110946  -0.01984588\n",
      "   0.7904873 ]]\n"
     ]
    }
   ],
   "source": [
    "bert_outputs = bert_model(preprocessed_news)\n",
    "\n",
    "print(f'Pooled output shape:{bert_outputs[\"pooled_output\"].shape}')\n",
    "print(f'Pooled output values:{bert_outputs[\"pooled_output\"][0, :5]}')\n",
    "print(f'Sequence output shape:{bert_outputs[\"sequence_output\"].shape}')\n",
    "print(f'Sequence output values:{bert_outputs[\"sequence_output\"][0, :5]}')"
   ]
  },
  {
   "cell_type": "markdown",
   "id": "ZfgJaX3bJzko",
   "metadata": {
    "id": "ZfgJaX3bJzko"
   },
   "source": [
    "Now that we understand what the ins and outs of [bert model](https://tfhub.dev/tensorflow/small_bert/bert_en_uncased_L-4_H-512_A-8/2) and its [preprocessor](https://tfhub.dev/tensorflow/bert_en_uncased_preprocess/3), let's build the rest of the model. "
   ]
  },
  {
   "cell_type": "markdown",
   "id": "k1_z6U5WA9Pq",
   "metadata": {
    "id": "k1_z6U5WA9Pq"
   },
   "source": [
    "<a name='2-4'></a>\n",
    "\n",
    "## 2.4 Building a News Classifier with BERT"
   ]
  },
  {
   "cell_type": "markdown",
   "id": "wyPUdJ8aBQmZ",
   "metadata": {
    "id": "wyPUdJ8aBQmZ"
   },
   "source": [
    "Since the main purpose of this practice it to finetune BERT, we are going to add few more layers to it. \n",
    "\n",
    "We will add dropout for regularization, and dense layers for classification purpose. \n",
    "\n",
    "We have been using [Keras Sequential API](https://www.tensorflow.org/api_docs/python/tf/keras/Sequential). There is also a Functional API. This API type make it easy to build flexible models where you can arrange layers in a way you want. Also, Functional API is a suitable API type for the models that take multiple inputs and outputs. "
   ]
  },
  {
   "cell_type": "code",
   "execution_count": 18,
   "id": "5sqJYq7wBCWO",
   "metadata": {
    "id": "5sqJYq7wBCWO"
   },
   "outputs": [],
   "source": [
    "input_text = tf.keras.layers.Input(shape=(), dtype=tf.string, name='Input')\n",
    "\n",
    "# A preprocesing model before layer BERT\n",
    "preprocessing_layer = hub.KerasLayer(preprocessing_model, name='preprocessing_layer')\n",
    "\n",
    "bert_input = preprocessing_layer(input_text)\n",
    "\n",
    "# Getting a Bert model, set trainable to True\n",
    "bert_encoder = hub.KerasLayer(bert_handle, trainable=True, name='bert_encoder')\n",
    "\n",
    "bert_outputs = bert_encoder(bert_input)\n",
    "\n",
    "# For finetuning, we take pooled_output\n",
    "pooled_bert_output = bert_outputs['pooled_output']\n",
    "\n",
    "# Adding a dense layer \n",
    "\n",
    "dense_net = tf.keras.layers.Dense(16, activation='relu', name='fully_connected_layer')(pooled_bert_output)\n",
    "# Add dropout layer for regularization\n",
    "dense_net = tf.keras.layers.Dropout(0.2)(dense_net)\n",
    "\n",
    "# Last dense layer for classification purpose\n",
    "final_output = tf.keras.layers.Dense(4, activation='softmax', name='classifier')(dense_net)\n",
    "\n",
    "# Combine input and output\n",
    "\n",
    "news_classifier = tf.keras.Model(input_text, final_output)"
   ]
  },
  {
   "cell_type": "markdown",
   "id": "bjMQN3ssJE9z",
   "metadata": {
    "id": "bjMQN3ssJE9z"
   },
   "source": [
    "We can display the model summary."
   ]
  },
  {
   "cell_type": "code",
   "execution_count": 19,
   "id": "-UcdFImJIzRC",
   "metadata": {
    "colab": {
     "base_uri": "https://localhost:8080/"
    },
    "id": "-UcdFImJIzRC",
    "outputId": "24cf89b5-6765-4701-d817-1aa9e755b5c6"
   },
   "outputs": [
    {
     "name": "stdout",
     "output_type": "stream",
     "text": [
      "Model: \"model\"\n",
      "__________________________________________________________________________________________________\n",
      "Layer (type)                    Output Shape         Param #     Connected to                     \n",
      "==================================================================================================\n",
      "Input (InputLayer)              [(None,)]            0                                            \n",
      "__________________________________________________________________________________________________\n",
      "preprocessing_layer (KerasLayer {'input_word_ids': ( 0           Input[0][0]                      \n",
      "__________________________________________________________________________________________________\n",
      "bert_encoder (KerasLayer)       {'encoder_outputs':  28763649    preprocessing_layer[0][0]        \n",
      "                                                                 preprocessing_layer[0][1]        \n",
      "                                                                 preprocessing_layer[0][2]        \n",
      "__________________________________________________________________________________________________\n",
      "fully_connected_layer (Dense)   (None, 16)           8208        bert_encoder[0][5]               \n",
      "__________________________________________________________________________________________________\n",
      "dropout (Dropout)               (None, 16)           0           fully_connected_layer[0][0]      \n",
      "__________________________________________________________________________________________________\n",
      "classifier (Dense)              (None, 4)            68          dropout[0][0]                    \n",
      "==================================================================================================\n",
      "Total params: 28,771,925\n",
      "Trainable params: 28,771,924\n",
      "Non-trainable params: 1\n",
      "__________________________________________________________________________________________________\n"
     ]
    }
   ],
   "source": [
    "news_classifier.summary()"
   ]
  },
  {
   "cell_type": "markdown",
   "id": "hJV8VbEDJKbh",
   "metadata": {
    "id": "hJV8VbEDJKbh"
   },
   "source": [
    "Or plot it with `tf.keras.utils.plot_model()`"
   ]
  },
  {
   "cell_type": "code",
   "execution_count": 20,
   "id": "c2SVEGm_JJQP",
   "metadata": {
    "colab": {
     "base_uri": "https://localhost:8080/",
     "height": 53
    },
    "id": "c2SVEGm_JJQP",
    "outputId": "9d1ac06a-813d-4152-9934-15fe7b4ce32d"
   },
   "outputs": [
    {
     "data": {
      "image/png": "[encoded data removed]",
      "text/plain": [
       "<IPython.core.display.Image object>"
      ]
     },
     "execution_count": 20,
     "metadata": {},
     "output_type": "execute_result"
    }
   ],
   "source": [
    "tf.keras.utils.plot_model(news_classifier, rankdir='LR', dpi=120)"
   ]
  },
  {
   "cell_type": "markdown",
   "id": "Nsubq7bBJlsC",
   "metadata": {
    "id": "Nsubq7bBJlsC"
   },
   "source": [
    "We can change the model plot orientation by setting the `rankdir` to either `TB` (top-bottom) or `LR` (left-right)."
   ]
  },
  {
   "cell_type": "code",
   "execution_count": 21,
   "id": "9ixf5A8uJS4i",
   "metadata": {
    "colab": {
     "base_uri": "https://localhost:8080/",
     "height": 700
    },
    "id": "9ixf5A8uJS4i",
    "outputId": "02a711ea-9ccc-4fc4-d36b-0f9a8f1f953a"
   },
   "outputs": [
    {
     "data": {
      "image/png": "[encoded data removed]",
      "text/plain": [
       "<IPython.core.display.Image object>"
      ]
     },
     "execution_count": 21,
     "metadata": {},
     "output_type": "execute_result"
    }
   ],
   "source": [
    "tf.keras.utils.plot_model(news_classifier, rankdir='TB', dpi=120)"
   ]
  },
  {
   "cell_type": "markdown",
   "id": "rMP5y7SwKJS9",
   "metadata": {
    "id": "rMP5y7SwKJS9"
   },
   "source": [
    "<a name='2-5'></a>\n",
    "\n",
    "## 2.5 Training a Finetuned BERT"
   ]
  },
  {
   "cell_type": "markdown",
   "id": "oDYULiuLKPcD",
   "metadata": {
    "id": "oDYULiuLKPcD"
   },
   "source": [
    "Before training a model, we have to compile it. When compiling the model, we specify the loss and optimization function. \n",
    "\n",
    "Loss function is there to measure how far the predictions are from the actual outputs, and optimizer to reduce the loss. "
   ]
  },
  {
   "cell_type": "code",
   "execution_count": 22,
   "id": "lh2sQNQ5JlWz",
   "metadata": {
    "id": "lh2sQNQ5JlWz"
   },
   "outputs": [],
   "source": [
    "news_classifier.compile(optimizer=tf.keras.optimizers.Adam(learning_rate=3e-5), \n",
    "                        loss='sparse_categorical_crossentropy', \n",
    "                        metrics=['accuracy'])"
   ]
  },
  {
   "cell_type": "code",
   "execution_count": 23,
   "id": "HTSFsQe0K9Mz",
   "metadata": {
    "colab": {
     "base_uri": "https://localhost:8080/"
    },
    "id": "HTSFsQe0K9Mz",
    "outputId": "4bd3722d-d2d8-4601-f692-43b35e73e43e"
   },
   "outputs": [
    {
     "name": "stdout",
     "output_type": "stream",
     "text": [
      "Epoch 1/15\n",
      "117/117 [==============================] - 872s 7s/step - loss: 0.9071 - accuracy: 0.5710 - val_loss: 0.7042 - val_accuracy: 0.6205\n",
      "Epoch 2/15\n",
      "117/117 [==============================] - 865s 7s/step - loss: 0.6153 - accuracy: 0.7639 - val_loss: 0.4422 - val_accuracy: 0.8839\n",
      "Epoch 3/15\n",
      "117/117 [==============================] - 867s 7s/step - loss: 0.4662 - accuracy: 0.8288 - val_loss: 0.3497 - val_accuracy: 0.8929\n",
      "Epoch 4/15\n",
      "117/117 [==============================] - 865s 7s/step - loss: 0.4057 - accuracy: 0.8632 - val_loss: 0.3616 - val_accuracy: 0.8973\n",
      "Epoch 5/15\n",
      "117/117 [==============================] - 866s 7s/step - loss: 0.3775 - accuracy: 0.8659 - val_loss: 0.3295 - val_accuracy: 0.9107\n",
      "Epoch 6/15\n",
      "117/117 [==============================] - 863s 7s/step - loss: 0.3795 - accuracy: 0.8657 - val_loss: 0.3112 - val_accuracy: 0.9062\n",
      "Epoch 7/15\n",
      "117/117 [==============================] - 859s 7s/step - loss: 0.3613 - accuracy: 0.8707 - val_loss: 0.3071 - val_accuracy: 0.9107\n",
      "Epoch 8/15\n",
      "117/117 [==============================] - 862s 7s/step - loss: 0.3399 - accuracy: 0.8835 - val_loss: 0.3287 - val_accuracy: 0.9107\n",
      "Epoch 9/15\n",
      "117/117 [==============================] - 858s 7s/step - loss: 0.3523 - accuracy: 0.8798 - val_loss: 0.3150 - val_accuracy: 0.9062\n",
      "Epoch 10/15\n",
      "117/117 [==============================] - 858s 7s/step - loss: 0.3322 - accuracy: 0.8897 - val_loss: 0.2895 - val_accuracy: 0.9196\n",
      "Epoch 11/15\n",
      "117/117 [==============================] - 858s 7s/step - loss: 0.3323 - accuracy: 0.8897 - val_loss: 0.2966 - val_accuracy: 0.9062\n",
      "Epoch 12/15\n",
      "117/117 [==============================] - 857s 7s/step - loss: 0.3362 - accuracy: 0.8862 - val_loss: 0.2875 - val_accuracy: 0.9018\n",
      "Epoch 13/15\n",
      "117/117 [==============================] - 856s 7s/step - loss: 0.3317 - accuracy: 0.8902 - val_loss: 0.2764 - val_accuracy: 0.9196\n",
      "Epoch 14/15\n",
      "117/117 [==============================] - 859s 7s/step - loss: 0.3574 - accuracy: 0.8801 - val_loss: 0.2794 - val_accuracy: 0.9018\n",
      "Epoch 15/15\n",
      "117/117 [==============================] - 861s 7s/step - loss: 0.3299 - accuracy: 0.8870 - val_loss: 0.2577 - val_accuracy: 0.9107\n"
     ]
    }
   ],
   "source": [
    "# Train the model\n",
    "\n",
    "batch_size = 32\n",
    "\n",
    "train_steps = int(len(train_data)/batch_size)\n",
    "val_steps = int(len(val_data)/batch_size)\n",
    "\n",
    "history = news_classifier.fit(train_data, \n",
    "                    epochs=15,\n",
    "                    validation_data=val_data,\n",
    "                    steps_per_epoch=train_steps,\n",
    "                    validation_steps=val_steps\n",
    ")"
   ]
  },
  {
   "cell_type": "markdown",
   "id": "Ahee5IyNNyFp",
   "metadata": {
    "id": "Ahee5IyNNyFp"
   },
   "source": [
    "<a name='2-6'></a>\n",
    "\n",
    "## 2.6 Visualizing the Model Results"
   ]
  },
  {
   "cell_type": "markdown",
   "id": "OQWZqy0RN7tl",
   "metadata": {
    "id": "OQWZqy0RN7tl"
   },
   "source": [
    "It is always a good practice to plot the model results. When doing error analysis, plotting learning curve becomes helpful. \n",
    "\n",
    "Let's plot the loss and accuracy over on the course of epochs."
   ]
  },
  {
   "cell_type": "code",
   "execution_count": 24,
   "id": "9o6jE3u3Lhkp",
   "metadata": {
    "id": "9o6jE3u3Lhkp"
   },
   "outputs": [],
   "source": [
    "# function to plot accuracy and loss\n",
    "\n",
    "def plot_acc_loss(history):\n",
    "\n",
    "  model_history = history.history\n",
    "  acc = model_history['accuracy']\n",
    "  val_acc = model_history['val_accuracy']\n",
    "  loss = model_history['loss']\n",
    "  val_loss = model_history['val_loss']\n",
    "  epochs = history.epoch\n",
    "\n",
    "  plt.figure(figsize=(10,5))\n",
    "  plt.plot(epochs, acc, 'r', label='Training Accuracy')\n",
    "  plt.plot(epochs, val_acc, 'g', label='Validation Accuracy')\n",
    "  plt.title('Training and validation accuracy')\n",
    "  plt.xlabel('Epochs')\n",
    "  plt.ylabel('Accuracy')\n",
    "  plt.legend(loc=0)\n",
    "\n",
    "  # Create a new figure with plt.figure()\n",
    "  plt.figure()\n",
    "\n",
    "  plt.figure(figsize=(10,5))\n",
    "  plt.plot(epochs, loss, 'b', label='Training Loss')\n",
    "  plt.plot(epochs, val_loss, 'y', label='Validation Loss')\n",
    "  plt.title('Training and Validation Loss')\n",
    "  plt.xlabel('Epochs')\n",
    "  plt.ylabel('Loss')\n",
    "  plt.legend(loc=0)\n",
    "  plt.show()"
   ]
  },
  {
   "cell_type": "code",
   "execution_count": 25,
   "id": "AwDAEUfAN_BD",
   "metadata": {
    "colab": {
     "base_uri": "https://localhost:8080/",
     "height": 700
    },
    "id": "AwDAEUfAN_BD",
    "outputId": "608ec765-f238-4f20-b850-d1c2645cd169"
   },
   "outputs": [
    {
     "data": {
      "image/png": "[encoded data removed]",
      "text/plain": [
       "<Figure size 720x360 with 1 Axes>"
      ]
     },
     "metadata": {
      "needs_background": "light"
     },
     "output_type": "display_data"
    },
    {
     "data": {
      "text/plain": [
       "<Figure size 432x288 with 0 Axes>"
      ]
     },
     "metadata": {},
     "output_type": "display_data"
    },
    {
     "data": {
      "image/png": "[encoded data removed]",
      "text/plain": [
       "<Figure size 720x360 with 1 Axes>"
      ]
     },
     "metadata": {
      "needs_background": "light"
     },
     "output_type": "display_data"
    }
   ],
   "source": [
    "plot_acc_loss(history)"
   ]
  },
  {
   "cell_type": "markdown",
   "id": "pbHUMaOjBcpA",
   "metadata": {
    "id": "pbHUMaOjBcpA"
   },
   "source": [
    "Looking on the learning curve, we could have trained the model for fewer epochs, like 9 or 10 because after 9, there seems to be no improvements. "
   ]
  },
  {
   "cell_type": "markdown",
   "id": "DGX0X6PVOE8K",
   "metadata": {
    "id": "DGX0X6PVOE8K"
   },
   "source": [
    "<a name='2-7'></a>\n",
    "\n",
    "## 2.7 Performing Inference on New Texts"
   ]
  },
  {
   "cell_type": "code",
   "execution_count": 26,
   "id": "xgBvWH3VOLdK",
   "metadata": {
    "id": "xgBvWH3VOLdK"
   },
   "outputs": [],
   "source": [
    "def predict(model, sample_news, class_names):\n",
    "\n",
    "  # Convert sample news into array\n",
    "\n",
    "  sample_news = np.array(sample_news)\n",
    "\n",
    "  # Predict the news type\n",
    "\n",
    "  preds = model.predict(sample_news)\n",
    "\n",
    "  pred_class = np.argmax(preds[0])\n",
    "\n",
    "  print(f'predicted class: {pred_class} \\nPredicted Class name: {class_names[pred_class]}')\n"
   ]
  },
  {
   "cell_type": "code",
   "execution_count": 27,
   "id": "vx4pDaAeOPJi",
   "metadata": {
    "colab": {
     "base_uri": "https://localhost:8080/"
    },
    "id": "vx4pDaAeOPJi",
    "outputId": "424b1617-29ff-4760-cec6-64d52700241a"
   },
   "outputs": [
    {
     "name": "stdout",
     "output_type": "stream",
     "text": [
      "predicted class: 3 \n",
      "Predicted Class name: Sci/Tech\n"
     ]
    }
   ],
   "source": [
    "sample_news = ['Tesla, a self driving car company is also planning to make a humanoid robot. This humanoid robot appeared dancing in the latest Tesla AI day']\n",
    "\n",
    "predict(news_classifier, sample_news, class_names)"
   ]
  },
  {
   "cell_type": "code",
   "execution_count": 28,
   "id": "6RrCqt3PORiJ",
   "metadata": {
    "colab": {
     "base_uri": "https://localhost:8080/"
    },
    "id": "6RrCqt3PORiJ",
    "outputId": "958f502e-cc79-4108-b7d7-f693be545c70"
   },
   "outputs": [
    {
     "name": "stdout",
     "output_type": "stream",
     "text": [
      "predicted class: 1 \n",
      "Predicted Class name: Sports\n"
     ]
    }
   ],
   "source": [
    "sample_news = [\"In the last weeks, there has been many transfer suprises in footbal. Ronaldo went back to Old Trafford, \"\n",
    "                \"while Messi went to Paris Saint Germain to join his former colleague Neymar.\"\n",
    "                \"We can't wait to see these two clubs will perform in upcoming leagues\"]\n",
    "            \n",
    "\n",
    "predict(news_classifier, sample_news, class_names)"
   ]
  },
  {
   "cell_type": "code",
   "execution_count": 33,
   "id": "NP4Luis7OT8C",
   "metadata": {
    "colab": {
     "base_uri": "https://localhost:8080/"
    },
    "id": "NP4Luis7OT8C",
    "outputId": "660d8c99-63a6-4908-ef71-6275bd186d81"
   },
   "outputs": [
    {
     "name": "stdout",
     "output_type": "stream",
     "text": [
      "predicted class: 3 \n",
      "Predicted Class name: Sci/Tech\n"
     ]
    }
   ],
   "source": [
    "sample_news = [\"In the latest tech news: The tech giant NVIDIA has acquired ARM, a microproccessor company\"]\n",
    "            \n",
    "\n",
    "predict(news_classifier, sample_news, class_names)"
   ]
  },
  {
   "cell_type": "code",
   "execution_count": 35,
   "id": "_lgKvb97BHNP",
   "metadata": {
    "colab": {
     "base_uri": "https://localhost:8080/"
    },
    "id": "_lgKvb97BHNP",
    "outputId": "58a11fff-ee45-4f20-9b6f-f34e3fc57f53"
   },
   "outputs": [
    {
     "name": "stdout",
     "output_type": "stream",
     "text": [
      "predicted class: 2 \n",
      "Predicted Class name: Business\n"
     ]
    }
   ],
   "source": [
    "sample_news = [\"Salesforce reported making over 1B sales in last quarter\"]\n",
    "            \n",
    "\n",
    "predict(news_classifier, sample_news, class_names)"
   ]
  },
  {
   "cell_type": "markdown",
   "id": "LmMjvJEoOaPZ",
   "metadata": {
    "id": "LmMjvJEoOaPZ"
   },
   "source": [
    "<a name='3'></a>\n",
    "\n",
    "# 3. Further Learning"
   ]
  },
  {
   "cell_type": "markdown",
   "id": "UUPjzSNoPqht",
   "metadata": {
    "id": "UUPjzSNoPqht"
   },
   "source": [
    "We have learned about BERT (Bidirectional Encoder Representation Transformer) and how to finetune it to model basic NLP tasks such as text classification. \n",
    "\n",
    "If you would like to learn more about BERT and Text Classification, here are resources to use:\n",
    "\n",
    "* [TensorFlow official text classification with BERT tutorial](https://tfhub.dev/google/collections/bert/1)\n",
    "* [BERT: Pre-training of Deep Bidirectional Transformers for\n",
    "Language Understanding](https://arxiv.org/pdf/1810.04805.pdf)\n",
    "* [BERT Models in TensorFlow Hub](https://www.tensorflow.org/text/tutorials/classify_text_with_bert)"
   ]
  },
  {
   "cell_type": "markdown",
   "id": "tF8_wNZsQsZw",
   "metadata": {
    "id": "tF8_wNZsQsZw"
   },
   "source": [
    "## [BACK TO TOP](#0)"
   ]
  }
 ],
 "metadata": {
  "accelerator": "GPU",
  "colab": {
   "collapsed_sections": [],
   "name": "9.5 Using Pretrained BERT for Text Classification.ipynb",
   "provenance": []
  },
  "kernelspec": {
   "display_name": "Python 3.7.10 64-bit ('tensor': conda)",
   "language": "python",
   "name": "python3710jvsc74a57bd034ac5db714c5906ee087fcf6e2d00ee4febf096586592b6ba3662ed3b7e7a5f6"
  },
  "language_info": {
   "codemirror_mode": {
    "name": "ipython",
    "version": 3
   },
   "file_extension": ".py",
   "mimetype": "text/x-python",
   "name": "python",
   "nbconvert_exporter": "python",
   "pygments_lexer": "ipython3",
   "version": "3.7.10"
  },
  "widgets": {
   "application/vnd.jupyter.widget-state+json": {
    "046226810bd141599517fba1ded1ed8f": {
     "model_module": "@jupyter-widgets/controls",
     "model_module_version": "1.5.0",
     "model_name": "ProgressStyleModel",
     "state": {
      "_model_module": "@jupyter-widgets/controls",
      "_model_module_version": "1.5.0",
      "_model_name": "ProgressStyleModel",
      "_view_count": null,
      "_view_module": "@jupyter-widgets/base",
      "_view_module_version": "1.2.0",
      "_view_name": "StyleView",
      "bar_color": null,
      "description_width": ""
     }
    },
    "0ba653c10cc449368a8910a5854ddb71": {
     "model_module": "@jupyter-widgets/controls",
     "model_module_version": "1.5.0",
     "model_name": "DescriptionStyleModel",
     "state": {
      "_model_module": "@jupyter-widgets/controls",
      "_model_module_version": "1.5.0",
      "_model_name": "DescriptionStyleModel",
      "_view_count": null,
      "_view_module": "@jupyter-widgets/base",
      "_view_module_version": "1.2.0",
      "_view_name": "StyleView",
      "description_width": ""
     }
    },
    "0ca9a37cd38b4ce8ba1d6535c2d85712": {
     "model_module": "@jupyter-widgets/base",
     "model_module_version": "1.2.0",
     "model_name": "LayoutModel",
     "state": {
      "_model_module": "@jupyter-widgets/base",
      "_model_module_version": "1.2.0",
      "_model_name": "LayoutModel",
      "_view_count": null,
      "_view_module": "@jupyter-widgets/base",
      "_view_module_version": "1.2.0",
      "_view_name": "LayoutView",
      "align_content": null,
      "align_items": null,
      "align_self": null,
      "border": null,
      "bottom": null,
      "display": null,
      "flex": null,
      "flex_flow": null,
      "grid_area": null,
      "grid_auto_columns": null,
      "grid_auto_flow": null,
      "grid_auto_rows": null,
      "grid_column": null,
      "grid_gap": null,
      "grid_row": null,
      "grid_template_areas": null,
      "grid_template_columns": null,
      "grid_template_rows": null,
      "height": null,
      "justify_content": null,
      "justify_items": null,
      "left": null,
      "margin": null,
      "max_height": null,
      "max_width": null,
      "min_height": null,
      "min_width": null,
      "object_fit": null,
      "object_position": null,
      "order": null,
      "overflow": null,
      "overflow_x": null,
      "overflow_y": null,
      "padding": null,
      "right": null,
      "top": null,
      "visibility": null,
      "width": null
     }
    },
    "0cc6e536dabf4e3397f1d8db0765bb63": {
     "model_module": "@jupyter-widgets/controls",
     "model_module_version": "1.5.0",
     "model_name": "DescriptionStyleModel",
     "state": {
      "_model_module": "@jupyter-widgets/controls",
      "_model_module_version": "1.5.0",
      "_model_name": "DescriptionStyleModel",
      "_view_count": null,
      "_view_module": "@jupyter-widgets/base",
      "_view_module_version": "1.2.0",
      "_view_name": "StyleView",
      "description_width": ""
     }
    },
    "0d8bf4e088a849b6a0fb83f7bbeba65d": {
     "model_module": "@jupyter-widgets/base",
     "model_module_version": "1.2.0",
     "model_name": "LayoutModel",
     "state": {
      "_model_module": "@jupyter-widgets/base",
      "_model_module_version": "1.2.0",
      "_model_name": "LayoutModel",
      "_view_count": null,
      "_view_module": "@jupyter-widgets/base",
      "_view_module_version": "1.2.0",
      "_view_name": "LayoutView",
      "align_content": null,
      "align_items": null,
      "align_self": null,
      "border": null,
      "bottom": null,
      "display": null,
      "flex": null,
      "flex_flow": null,
      "grid_area": null,
      "grid_auto_columns": null,
      "grid_auto_flow": null,
      "grid_auto_rows": null,
      "grid_column": null,
      "grid_gap": null,
      "grid_row": null,
      "grid_template_areas": null,
      "grid_template_columns": null,
      "grid_template_rows": null,
      "height": null,
      "justify_content": null,
      "justify_items": null,
      "left": null,
      "margin": null,
      "max_height": null,
      "max_width": null,
      "min_height": null,
      "min_width": null,
      "object_fit": null,
      "object_position": null,
      "order": null,
      "overflow": null,
      "overflow_x": null,
      "overflow_y": null,
      "padding": null,
      "right": null,
      "top": null,
      "visibility": null,
      "width": null
     }
    },
    "12b0c1fcd12c4d4fa1dfdc1593ff3972": {
     "model_module": "@jupyter-widgets/base",
     "model_module_version": "1.2.0",
     "model_name": "LayoutModel",
     "state": {
      "_model_module": "@jupyter-widgets/base",
      "_model_module_version": "1.2.0",
      "_model_name": "LayoutModel",
      "_view_count": null,
      "_view_module": "@jupyter-widgets/base",
      "_view_module_version": "1.2.0",
      "_view_name": "LayoutView",
      "align_content": null,
      "align_items": null,
      "align_self": null,
      "border": null,
      "bottom": null,
      "display": null,
      "flex": null,
      "flex_flow": null,
      "grid_area": null,
      "grid_auto_columns": null,
      "grid_auto_flow": null,
      "grid_auto_rows": null,
      "grid_column": null,
      "grid_gap": null,
      "grid_row": null,
      "grid_template_areas": null,
      "grid_template_columns": null,
      "grid_template_rows": null,
      "height": null,
      "justify_content": null,
      "justify_items": null,
      "left": null,
      "margin": null,
      "max_height": null,
      "max_width": null,
      "min_height": null,
      "min_width": null,
      "object_fit": null,
      "object_position": null,
      "order": null,
      "overflow": null,
      "overflow_x": null,
      "overflow_y": null,
      "padding": null,
      "right": null,
      "top": null,
      "visibility": null,
      "width": null
     }
    },
    "1bcd2619383e41c6ae1ae9108530d3e8": {
     "model_module": "@jupyter-widgets/base",
     "model_module_version": "1.2.0",
     "model_name": "LayoutModel",
     "state": {
      "_model_module": "@jupyter-widgets/base",
      "_model_module_version": "1.2.0",
      "_model_name": "LayoutModel",
      "_view_count": null,
      "_view_module": "@jupyter-widgets/base",
      "_view_module_version": "1.2.0",
      "_view_name": "LayoutView",
      "align_content": null,
      "align_items": null,
      "align_self": null,
      "border": null,
      "bottom": null,
      "display": null,
      "flex": null,
      "flex_flow": null,
      "grid_area": null,
      "grid_auto_columns": null,
      "grid_auto_flow": null,
      "grid_auto_rows": null,
      "grid_column": null,
      "grid_gap": null,
      "grid_row": null,
      "grid_template_areas": null,
      "grid_template_columns": null,
      "grid_template_rows": null,
      "height": null,
      "justify_content": null,
      "justify_items": null,
      "left": null,
      "margin": null,
      "max_height": null,
      "max_width": null,
      "min_height": null,
      "min_width": null,
      "object_fit": null,
      "object_position": null,
      "order": null,
      "overflow": null,
      "overflow_x": null,
      "overflow_y": null,
      "padding": null,
      "right": null,
      "top": null,
      "visibility": null,
      "width": null
     }
    },
    "25f4bb62d1ab47779bfbe78dfe58fdac": {
     "model_module": "@jupyter-widgets/controls",
     "model_module_version": "1.5.0",
     "model_name": "HTMLModel",
     "state": {
      "_dom_classes": [],
      "_model_module": "@jupyter-widgets/controls",
      "_model_module_version": "1.5.0",
      "_model_name": "HTMLModel",
      "_view_count": null,
      "_view_module": "@jupyter-widgets/controls",
      "_view_module_version": "1.5.0",
      "_view_name": "HTMLView",
      "description": "",
      "description_tooltip": null,
      "layout": "IPY_MODEL_b99b0cff30294582ae1e66e2a633869b",
      "placeholder": "​",
      "style": "IPY_MODEL_85b1127de5c245f1ad61b33bae41279e",
      "value": " 0/0 [00:00&lt;?, ? MiB/s]"
     }
    },
    "27ffec67ddd849778376db18144d6f38": {
     "model_module": "@jupyter-widgets/controls",
     "model_module_version": "1.5.0",
     "model_name": "DescriptionStyleModel",
     "state": {
      "_model_module": "@jupyter-widgets/controls",
      "_model_module_version": "1.5.0",
      "_model_name": "DescriptionStyleModel",
      "_view_count": null,
      "_view_module": "@jupyter-widgets/base",
      "_view_module_version": "1.2.0",
      "_view_name": "StyleView",
      "description_width": ""
     }
    },
    "2ac92ba33fcd419991df92f41de01c65": {
     "model_module": "@jupyter-widgets/controls",
     "model_module_version": "1.5.0",
     "model_name": "HBoxModel",
     "state": {
      "_dom_classes": [],
      "_model_module": "@jupyter-widgets/controls",
      "_model_module_version": "1.5.0",
      "_model_name": "HBoxModel",
      "_view_count": null,
      "_view_module": "@jupyter-widgets/controls",
      "_view_module_version": "1.5.0",
      "_view_name": "HBoxView",
      "box_style": "",
      "children": [
       "IPY_MODEL_66370f990ba64dc1a28c984e344b23ac",
       "IPY_MODEL_66e634e821fc4c55a84f314a472170f0",
       "IPY_MODEL_d14cd8661cae4f7a8c6785f56b398dc6"
      ],
      "layout": "IPY_MODEL_cde24def6f35489391282d157e6a3550"
     }
    },
    "2c48c62afa474d1a9a62b6daf6931d40": {
     "model_module": "@jupyter-widgets/controls",
     "model_module_version": "1.5.0",
     "model_name": "HBoxModel",
     "state": {
      "_dom_classes": [],
      "_model_module": "@jupyter-widgets/controls",
      "_model_module_version": "1.5.0",
      "_model_name": "HBoxModel",
      "_view_count": null,
      "_view_module": "@jupyter-widgets/controls",
      "_view_module_version": "1.5.0",
      "_view_name": "HBoxView",
      "box_style": "",
      "children": [
       "IPY_MODEL_d8deccabcafc4e649e46fca288bf95dd",
       "IPY_MODEL_ed825f71daa6460da541326d01b098e9",
       "IPY_MODEL_25f4bb62d1ab47779bfbe78dfe58fdac"
      ],
      "layout": "IPY_MODEL_12b0c1fcd12c4d4fa1dfdc1593ff3972"
     }
    },
    "2fc4685daa1f4c8dbd3833fb607aa650": {
     "model_module": "@jupyter-widgets/controls",
     "model_module_version": "1.5.0",
     "model_name": "ProgressStyleModel",
     "state": {
      "_model_module": "@jupyter-widgets/controls",
      "_model_module_version": "1.5.0",
      "_model_name": "ProgressStyleModel",
      "_view_count": null,
      "_view_module": "@jupyter-widgets/base",
      "_view_module_version": "1.2.0",
      "_view_name": "StyleView",
      "bar_color": null,
      "description_width": ""
     }
    },
    "3211dd4a60b04381a2ce78c2278b5023": {
     "model_module": "@jupyter-widgets/controls",
     "model_module_version": "1.5.0",
     "model_name": "DescriptionStyleModel",
     "state": {
      "_model_module": "@jupyter-widgets/controls",
      "_model_module_version": "1.5.0",
      "_model_name": "DescriptionStyleModel",
      "_view_count": null,
      "_view_module": "@jupyter-widgets/base",
      "_view_module_version": "1.2.0",
      "_view_name": "StyleView",
      "description_width": ""
     }
    },
    "354f3b9cc77c4615a762df558e5c5267": {
     "model_module": "@jupyter-widgets/base",
     "model_module_version": "1.2.0",
     "model_name": "LayoutModel",
     "state": {
      "_model_module": "@jupyter-widgets/base",
      "_model_module_version": "1.2.0",
      "_model_name": "LayoutModel",
      "_view_count": null,
      "_view_module": "@jupyter-widgets/base",
      "_view_module_version": "1.2.0",
      "_view_name": "LayoutView",
      "align_content": null,
      "align_items": null,
      "align_self": null,
      "border": null,
      "bottom": null,
      "display": null,
      "flex": null,
      "flex_flow": null,
      "grid_area": null,
      "grid_auto_columns": null,
      "grid_auto_flow": null,
      "grid_auto_rows": null,
      "grid_column": null,
      "grid_gap": null,
      "grid_row": null,
      "grid_template_areas": null,
      "grid_template_columns": null,
      "grid_template_rows": null,
      "height": null,
      "justify_content": null,
      "justify_items": null,
      "left": null,
      "margin": null,
      "max_height": null,
      "max_width": null,
      "min_height": null,
      "min_width": null,
      "object_fit": null,
      "object_position": null,
      "order": null,
      "overflow": null,
      "overflow_x": null,
      "overflow_y": null,
      "padding": null,
      "right": null,
      "top": null,
      "visibility": null,
      "width": null
     }
    },
    "377499c0d2c94299926b820deee71819": {
     "model_module": "@jupyter-widgets/controls",
     "model_module_version": "1.5.0",
     "model_name": "FloatProgressModel",
     "state": {
      "_dom_classes": [],
      "_model_module": "@jupyter-widgets/controls",
      "_model_module_version": "1.5.0",
      "_model_name": "FloatProgressModel",
      "_view_count": null,
      "_view_module": "@jupyter-widgets/controls",
      "_view_module_version": "1.5.0",
      "_view_name": "ProgressView",
      "bar_style": "success",
      "description": "",
      "description_tooltip": null,
      "layout": "IPY_MODEL_64fe9627b18644668b6f386b72f9ec98",
      "max": 1,
      "min": 0,
      "orientation": "horizontal",
      "style": "IPY_MODEL_75c874a4d3884c8cbbc26ffa57d97b6f",
      "value": 0
     }
    },
    "3fb758f51cb2447ba8e5767fcc95ea2b": {
     "model_module": "@jupyter-widgets/controls",
     "model_module_version": "1.5.0",
     "model_name": "HTMLModel",
     "state": {
      "_dom_classes": [],
      "_model_module": "@jupyter-widgets/controls",
      "_model_module_version": "1.5.0",
      "_model_name": "HTMLModel",
      "_view_count": null,
      "_view_module": "@jupyter-widgets/controls",
      "_view_module_version": "1.5.0",
      "_view_name": "HTMLView",
      "description": "",
      "description_tooltip": null,
      "layout": "IPY_MODEL_f704ed4f5e254d04b2d8d1fb36f77e1a",
      "placeholder": "​",
      "style": "IPY_MODEL_0cc6e536dabf4e3397f1d8db0765bb63",
      "value": " 119999/120000 [00:00&lt;00:00, 247720.17 examples/s]"
     }
    },
    "40ad8f616a684bedb5dc40639541e466": {
     "model_module": "@jupyter-widgets/base",
     "model_module_version": "1.2.0",
     "model_name": "LayoutModel",
     "state": {
      "_model_module": "@jupyter-widgets/base",
      "_model_module_version": "1.2.0",
      "_model_name": "LayoutModel",
      "_view_count": null,
      "_view_module": "@jupyter-widgets/base",
      "_view_module_version": "1.2.0",
      "_view_name": "LayoutView",
      "align_content": null,
      "align_items": null,
      "align_self": null,
      "border": null,
      "bottom": null,
      "display": null,
      "flex": null,
      "flex_flow": null,
      "grid_area": null,
      "grid_auto_columns": null,
      "grid_auto_flow": null,
      "grid_auto_rows": null,
      "grid_column": null,
      "grid_gap": null,
      "grid_row": null,
      "grid_template_areas": null,
      "grid_template_columns": null,
      "grid_template_rows": null,
      "height": null,
      "justify_content": null,
      "justify_items": null,
      "left": null,
      "margin": null,
      "max_height": null,
      "max_width": null,
      "min_height": null,
      "min_width": null,
      "object_fit": null,
      "object_position": null,
      "order": null,
      "overflow": null,
      "overflow_x": null,
      "overflow_y": null,
      "padding": null,
      "right": null,
      "top": null,
      "visibility": null,
      "width": null
     }
    },
    "4ce8e034694f4ae3a84560d66705ddab": {
     "model_module": "@jupyter-widgets/controls",
     "model_module_version": "1.5.0",
     "model_name": "DescriptionStyleModel",
     "state": {
      "_model_module": "@jupyter-widgets/controls",
      "_model_module_version": "1.5.0",
      "_model_name": "DescriptionStyleModel",
      "_view_count": null,
      "_view_module": "@jupyter-widgets/base",
      "_view_module_version": "1.2.0",
      "_view_name": "StyleView",
      "description_width": ""
     }
    },
    "515f8749c3cd420d85289ac142257240": {
     "model_module": "@jupyter-widgets/controls",
     "model_module_version": "1.5.0",
     "model_name": "HTMLModel",
     "state": {
      "_dom_classes": [],
      "_model_module": "@jupyter-widgets/controls",
      "_model_module_version": "1.5.0",
      "_model_name": "HTMLModel",
      "_view_count": null,
      "_view_module": "@jupyter-widgets/controls",
      "_view_module_version": "1.5.0",
      "_view_name": "HTMLView",
      "description": "",
      "description_tooltip": null,
      "layout": "IPY_MODEL_feb1ffd9c3504e238531a5d8b3ee9f8a",
      "placeholder": "​",
      "style": "IPY_MODEL_e9c1537f77814146b98ed4e0772626e2",
      "value": "Dl Completed...: "
     }
    },
    "519c55322a6940e789892928e9e62e24": {
     "model_module": "@jupyter-widgets/base",
     "model_module_version": "1.2.0",
     "model_name": "LayoutModel",
     "state": {
      "_model_module": "@jupyter-widgets/base",
      "_model_module_version": "1.2.0",
      "_model_name": "LayoutModel",
      "_view_count": null,
      "_view_module": "@jupyter-widgets/base",
      "_view_module_version": "1.2.0",
      "_view_name": "LayoutView",
      "align_content": null,
      "align_items": null,
      "align_self": null,
      "border": null,
      "bottom": null,
      "display": null,
      "flex": null,
      "flex_flow": null,
      "grid_area": null,
      "grid_auto_columns": null,
      "grid_auto_flow": null,
      "grid_auto_rows": null,
      "grid_column": null,
      "grid_gap": null,
      "grid_row": null,
      "grid_template_areas": null,
      "grid_template_columns": null,
      "grid_template_rows": null,
      "height": null,
      "justify_content": null,
      "justify_items": null,
      "left": null,
      "margin": null,
      "max_height": null,
      "max_width": null,
      "min_height": null,
      "min_width": null,
      "object_fit": null,
      "object_position": null,
      "order": null,
      "overflow": null,
      "overflow_x": null,
      "overflow_y": null,
      "padding": null,
      "right": null,
      "top": null,
      "visibility": null,
      "width": "20px"
     }
    },
    "566bb79ab07f4e208fc43e0643d76bc3": {
     "model_module": "@jupyter-widgets/controls",
     "model_module_version": "1.5.0",
     "model_name": "HBoxModel",
     "state": {
      "_dom_classes": [],
      "_model_module": "@jupyter-widgets/controls",
      "_model_module_version": "1.5.0",
      "_model_name": "HBoxModel",
      "_view_count": null,
      "_view_module": "@jupyter-widgets/controls",
      "_view_module_version": "1.5.0",
      "_view_name": "HBoxView",
      "box_style": "",
      "children": [
       "IPY_MODEL_85842ecd8d1f44a58fbcea48c39b904b",
       "IPY_MODEL_d3a0f7aba98d4742a8cdcb7c315390c3",
       "IPY_MODEL_d25d9a0a261b4c2db8f7020b7ec2cc9f"
      ],
      "layout": "IPY_MODEL_0ca9a37cd38b4ce8ba1d6535c2d85712"
     }
    },
    "5f5ba5d5d3be47b69202839d3ce3dd27": {
     "model_module": "@jupyter-widgets/base",
     "model_module_version": "1.2.0",
     "model_name": "LayoutModel",
     "state": {
      "_model_module": "@jupyter-widgets/base",
      "_model_module_version": "1.2.0",
      "_model_name": "LayoutModel",
      "_view_count": null,
      "_view_module": "@jupyter-widgets/base",
      "_view_module_version": "1.2.0",
      "_view_name": "LayoutView",
      "align_content": null,
      "align_items": null,
      "align_self": null,
      "border": null,
      "bottom": null,
      "display": null,
      "flex": null,
      "flex_flow": null,
      "grid_area": null,
      "grid_auto_columns": null,
      "grid_auto_flow": null,
      "grid_auto_rows": null,
      "grid_column": null,
      "grid_gap": null,
      "grid_row": null,
      "grid_template_areas": null,
      "grid_template_columns": null,
      "grid_template_rows": null,
      "height": null,
      "justify_content": null,
      "justify_items": null,
      "left": null,
      "margin": null,
      "max_height": null,
      "max_width": null,
      "min_height": null,
      "min_width": null,
      "object_fit": null,
      "object_position": null,
      "order": null,
      "overflow": null,
      "overflow_x": null,
      "overflow_y": null,
      "padding": null,
      "right": null,
      "top": null,
      "visibility": null,
      "width": null
     }
    },
    "64fe9627b18644668b6f386b72f9ec98": {
     "model_module": "@jupyter-widgets/base",
     "model_module_version": "1.2.0",
     "model_name": "LayoutModel",
     "state": {
      "_model_module": "@jupyter-widgets/base",
      "_model_module_version": "1.2.0",
      "_model_name": "LayoutModel",
      "_view_count": null,
      "_view_module": "@jupyter-widgets/base",
      "_view_module_version": "1.2.0",
      "_view_name": "LayoutView",
      "align_content": null,
      "align_items": null,
      "align_self": null,
      "border": null,
      "bottom": null,
      "display": null,
      "flex": null,
      "flex_flow": null,
      "grid_area": null,
      "grid_auto_columns": null,
      "grid_auto_flow": null,
      "grid_auto_rows": null,
      "grid_column": null,
      "grid_gap": null,
      "grid_row": null,
      "grid_template_areas": null,
      "grid_template_columns": null,
      "grid_template_rows": null,
      "height": null,
      "justify_content": null,
      "justify_items": null,
      "left": null,
      "margin": null,
      "max_height": null,
      "max_width": null,
      "min_height": null,
      "min_width": null,
      "object_fit": null,
      "object_position": null,
      "order": null,
      "overflow": null,
      "overflow_x": null,
      "overflow_y": null,
      "padding": null,
      "right": null,
      "top": null,
      "visibility": null,
      "width": "20px"
     }
    },
    "6578461a0b3040418cf2fec36cc26bd4": {
     "model_module": "@jupyter-widgets/base",
     "model_module_version": "1.2.0",
     "model_name": "LayoutModel",
     "state": {
      "_model_module": "@jupyter-widgets/base",
      "_model_module_version": "1.2.0",
      "_model_name": "LayoutModel",
      "_view_count": null,
      "_view_module": "@jupyter-widgets/base",
      "_view_module_version": "1.2.0",
      "_view_name": "LayoutView",
      "align_content": null,
      "align_items": null,
      "align_self": null,
      "border": null,
      "bottom": null,
      "display": null,
      "flex": null,
      "flex_flow": null,
      "grid_area": null,
      "grid_auto_columns": null,
      "grid_auto_flow": null,
      "grid_auto_rows": null,
      "grid_column": null,
      "grid_gap": null,
      "grid_row": null,
      "grid_template_areas": null,
      "grid_template_columns": null,
      "grid_template_rows": null,
      "height": null,
      "justify_content": null,
      "justify_items": null,
      "left": null,
      "margin": null,
      "max_height": null,
      "max_width": null,
      "min_height": null,
      "min_width": null,
      "object_fit": null,
      "object_position": null,
      "order": null,
      "overflow": null,
      "overflow_x": null,
      "overflow_y": null,
      "padding": null,
      "right": null,
      "top": null,
      "visibility": null,
      "width": null
     }
    },
    "66370f990ba64dc1a28c984e344b23ac": {
     "model_module": "@jupyter-widgets/controls",
     "model_module_version": "1.5.0",
     "model_name": "HTMLModel",
     "state": {
      "_dom_classes": [],
      "_model_module": "@jupyter-widgets/controls",
      "_model_module_version": "1.5.0",
      "_model_name": "HTMLModel",
      "_view_count": null,
      "_view_module": "@jupyter-widgets/controls",
      "_view_module_version": "1.5.0",
      "_view_name": "HTMLView",
      "description": "",
      "description_tooltip": null,
      "layout": "IPY_MODEL_354f3b9cc77c4615a762df558e5c5267",
      "placeholder": "​",
      "style": "IPY_MODEL_b0a973b98e5d4541a0c677c874e64c50",
      "value": "Extraction completed...: 100%"
     }
    },
    "66e634e821fc4c55a84f314a472170f0": {
     "model_module": "@jupyter-widgets/controls",
     "model_module_version": "1.5.0",
     "model_name": "FloatProgressModel",
     "state": {
      "_dom_classes": [],
      "_model_module": "@jupyter-widgets/controls",
      "_model_module_version": "1.5.0",
      "_model_name": "FloatProgressModel",
      "_view_count": null,
      "_view_module": "@jupyter-widgets/controls",
      "_view_module_version": "1.5.0",
      "_view_name": "ProgressView",
      "bar_style": "success",
      "description": "",
      "description_tooltip": null,
      "layout": "IPY_MODEL_aa33d0e6a828439db44ff7bb83e728a3",
      "max": 1,
      "min": 0,
      "orientation": "horizontal",
      "style": "IPY_MODEL_046226810bd141599517fba1ded1ed8f",
      "value": 1
     }
    },
    "68f17020d75d4e2e834536fa9838a76b": {
     "model_module": "@jupyter-widgets/controls",
     "model_module_version": "1.5.0",
     "model_name": "HTMLModel",
     "state": {
      "_dom_classes": [],
      "_model_module": "@jupyter-widgets/controls",
      "_model_module_version": "1.5.0",
      "_model_name": "HTMLModel",
      "_view_count": null,
      "_view_module": "@jupyter-widgets/controls",
      "_view_module_version": "1.5.0",
      "_view_name": "HTMLView",
      "description": "",
      "description_tooltip": null,
      "layout": "IPY_MODEL_c1cf085a00d148b4b583950ac8f06073",
      "placeholder": "​",
      "style": "IPY_MODEL_ea1ab1d0e9244801852bfd6840d8cbc4",
      "value": "100%"
     }
    },
    "69e2be6bc02b4283aeedc41683d2c75d": {
     "model_module": "@jupyter-widgets/controls",
     "model_module_version": "1.5.0",
     "model_name": "ProgressStyleModel",
     "state": {
      "_model_module": "@jupyter-widgets/controls",
      "_model_module_version": "1.5.0",
      "_model_name": "ProgressStyleModel",
      "_view_count": null,
      "_view_module": "@jupyter-widgets/base",
      "_view_module_version": "1.2.0",
      "_view_name": "StyleView",
      "bar_color": null,
      "description_width": ""
     }
    },
    "6c57f7f09d7d4e6a89e4b02ce378aae0": {
     "model_module": "@jupyter-widgets/controls",
     "model_module_version": "1.5.0",
     "model_name": "ProgressStyleModel",
     "state": {
      "_model_module": "@jupyter-widgets/controls",
      "_model_module_version": "1.5.0",
      "_model_name": "ProgressStyleModel",
      "_view_count": null,
      "_view_module": "@jupyter-widgets/base",
      "_view_module_version": "1.2.0",
      "_view_name": "StyleView",
      "bar_color": null,
      "description_width": ""
     }
    },
    "6e8761c0b1ad41f29dd174a2d4373fe5": {
     "model_module": "@jupyter-widgets/base",
     "model_module_version": "1.2.0",
     "model_name": "LayoutModel",
     "state": {
      "_model_module": "@jupyter-widgets/base",
      "_model_module_version": "1.2.0",
      "_model_name": "LayoutModel",
      "_view_count": null,
      "_view_module": "@jupyter-widgets/base",
      "_view_module_version": "1.2.0",
      "_view_name": "LayoutView",
      "align_content": null,
      "align_items": null,
      "align_self": null,
      "border": null,
      "bottom": null,
      "display": null,
      "flex": null,
      "flex_flow": null,
      "grid_area": null,
      "grid_auto_columns": null,
      "grid_auto_flow": null,
      "grid_auto_rows": null,
      "grid_column": null,
      "grid_gap": null,
      "grid_row": null,
      "grid_template_areas": null,
      "grid_template_columns": null,
      "grid_template_rows": null,
      "height": null,
      "justify_content": null,
      "justify_items": null,
      "left": null,
      "margin": null,
      "max_height": null,
      "max_width": null,
      "min_height": null,
      "min_width": null,
      "object_fit": null,
      "object_position": null,
      "order": null,
      "overflow": null,
      "overflow_x": null,
      "overflow_y": null,
      "padding": null,
      "right": null,
      "top": null,
      "visibility": null,
      "width": null
     }
    },
    "7374cef848094e08bf146366013931bf": {
     "model_module": "@jupyter-widgets/controls",
     "model_module_version": "1.5.0",
     "model_name": "HTMLModel",
     "state": {
      "_dom_classes": [],
      "_model_module": "@jupyter-widgets/controls",
      "_model_module_version": "1.5.0",
      "_model_name": "HTMLModel",
      "_view_count": null,
      "_view_module": "@jupyter-widgets/controls",
      "_view_module_version": "1.5.0",
      "_view_name": "HTMLView",
      "description": "",
      "description_tooltip": null,
      "layout": "IPY_MODEL_0d8bf4e088a849b6a0fb83f7bbeba65d",
      "placeholder": "​",
      "style": "IPY_MODEL_4ce8e034694f4ae3a84560d66705ddab",
      "value": "100%"
     }
    },
    "75c874a4d3884c8cbbc26ffa57d97b6f": {
     "model_module": "@jupyter-widgets/controls",
     "model_module_version": "1.5.0",
     "model_name": "ProgressStyleModel",
     "state": {
      "_model_module": "@jupyter-widgets/controls",
      "_model_module_version": "1.5.0",
      "_model_name": "ProgressStyleModel",
      "_view_count": null,
      "_view_module": "@jupyter-widgets/base",
      "_view_module_version": "1.2.0",
      "_view_name": "StyleView",
      "bar_color": null,
      "description_width": ""
     }
    },
    "7ee38e0deb744620a1eb7c866c24f640": {
     "model_module": "@jupyter-widgets/controls",
     "model_module_version": "1.5.0",
     "model_name": "DescriptionStyleModel",
     "state": {
      "_model_module": "@jupyter-widgets/controls",
      "_model_module_version": "1.5.0",
      "_model_name": "DescriptionStyleModel",
      "_view_count": null,
      "_view_module": "@jupyter-widgets/base",
      "_view_module_version": "1.2.0",
      "_view_name": "StyleView",
      "description_width": ""
     }
    },
    "7fbfd0d4356349f99215c963d9d0f58b": {
     "model_module": "@jupyter-widgets/controls",
     "model_module_version": "1.5.0",
     "model_name": "FloatProgressModel",
     "state": {
      "_dom_classes": [],
      "_model_module": "@jupyter-widgets/controls",
      "_model_module_version": "1.5.0",
      "_model_name": "FloatProgressModel",
      "_view_count": null,
      "_view_module": "@jupyter-widgets/controls",
      "_view_module_version": "1.5.0",
      "_view_name": "ProgressView",
      "bar_style": "danger",
      "description": "",
      "description_tooltip": null,
      "layout": "IPY_MODEL_8e85031ac9fc4d9d9f6a55e8172e4df6",
      "max": 120000,
      "min": 0,
      "orientation": "horizontal",
      "style": "IPY_MODEL_2fc4685daa1f4c8dbd3833fb607aa650",
      "value": 119999
     }
    },
    "80af01b6d7a54fa99744a536f5580529": {
     "model_module": "@jupyter-widgets/controls",
     "model_module_version": "1.5.0",
     "model_name": "HBoxModel",
     "state": {
      "_dom_classes": [],
      "_model_module": "@jupyter-widgets/controls",
      "_model_module_version": "1.5.0",
      "_model_name": "HBoxModel",
      "_view_count": null,
      "_view_module": "@jupyter-widgets/controls",
      "_view_module_version": "1.5.0",
      "_view_name": "HBoxView",
      "box_style": "",
      "children": [
       "IPY_MODEL_7374cef848094e08bf146366013931bf",
       "IPY_MODEL_d4cb8bcdf308470c9d7a5949b5181736",
       "IPY_MODEL_feca4ddf88df4f72ac3dfd6fb124ccf3"
      ],
      "layout": "IPY_MODEL_fe9f20e182a2454c804e68c317834c96"
     }
    },
    "85842ecd8d1f44a58fbcea48c39b904b": {
     "model_module": "@jupyter-widgets/controls",
     "model_module_version": "1.5.0",
     "model_name": "HTMLModel",
     "state": {
      "_dom_classes": [],
      "_model_module": "@jupyter-widgets/controls",
      "_model_module_version": "1.5.0",
      "_model_name": "HTMLModel",
      "_view_count": null,
      "_view_module": "@jupyter-widgets/controls",
      "_view_module_version": "1.5.0",
      "_view_name": "HTMLView",
      "description": "",
      "description_tooltip": null,
      "layout": "IPY_MODEL_6e8761c0b1ad41f29dd174a2d4373fe5",
      "placeholder": "​",
      "style": "IPY_MODEL_7ee38e0deb744620a1eb7c866c24f640",
      "value": ""
     }
    },
    "85b1127de5c245f1ad61b33bae41279e": {
     "model_module": "@jupyter-widgets/controls",
     "model_module_version": "1.5.0",
     "model_name": "DescriptionStyleModel",
     "state": {
      "_model_module": "@jupyter-widgets/controls",
      "_model_module_version": "1.5.0",
      "_model_name": "DescriptionStyleModel",
      "_view_count": null,
      "_view_module": "@jupyter-widgets/base",
      "_view_module_version": "1.2.0",
      "_view_name": "StyleView",
      "description_width": ""
     }
    },
    "8e85031ac9fc4d9d9f6a55e8172e4df6": {
     "model_module": "@jupyter-widgets/base",
     "model_module_version": "1.2.0",
     "model_name": "LayoutModel",
     "state": {
      "_model_module": "@jupyter-widgets/base",
      "_model_module_version": "1.2.0",
      "_model_name": "LayoutModel",
      "_view_count": null,
      "_view_module": "@jupyter-widgets/base",
      "_view_module_version": "1.2.0",
      "_view_name": "LayoutView",
      "align_content": null,
      "align_items": null,
      "align_self": null,
      "border": null,
      "bottom": null,
      "display": null,
      "flex": null,
      "flex_flow": null,
      "grid_area": null,
      "grid_auto_columns": null,
      "grid_auto_flow": null,
      "grid_auto_rows": null,
      "grid_column": null,
      "grid_gap": null,
      "grid_row": null,
      "grid_template_areas": null,
      "grid_template_columns": null,
      "grid_template_rows": null,
      "height": null,
      "justify_content": null,
      "justify_items": null,
      "left": null,
      "margin": null,
      "max_height": null,
      "max_width": null,
      "min_height": null,
      "min_width": null,
      "object_fit": null,
      "object_position": null,
      "order": null,
      "overflow": null,
      "overflow_x": null,
      "overflow_y": null,
      "padding": null,
      "right": null,
      "top": null,
      "visibility": null,
      "width": null
     }
    },
    "8fa058e1bdd7435b890054f3f0aa06df": {
     "model_module": "@jupyter-widgets/controls",
     "model_module_version": "1.5.0",
     "model_name": "HTMLModel",
     "state": {
      "_dom_classes": [],
      "_model_module": "@jupyter-widgets/controls",
      "_model_module_version": "1.5.0",
      "_model_name": "HTMLModel",
      "_view_count": null,
      "_view_module": "@jupyter-widgets/controls",
      "_view_module_version": "1.5.0",
      "_view_name": "HTMLView",
      "description": "",
      "description_tooltip": null,
      "layout": "IPY_MODEL_c4b2124409f64d0ca42ffb44056504de",
      "placeholder": "​",
      "style": "IPY_MODEL_27ffec67ddd849778376db18144d6f38",
      "value": ""
     }
    },
    "8ffdc8e410ff467f826aa116f517658e": {
     "model_module": "@jupyter-widgets/controls",
     "model_module_version": "1.5.0",
     "model_name": "HBoxModel",
     "state": {
      "_dom_classes": [],
      "_model_module": "@jupyter-widgets/controls",
      "_model_module_version": "1.5.0",
      "_model_name": "HBoxModel",
      "_view_count": null,
      "_view_module": "@jupyter-widgets/controls",
      "_view_module_version": "1.5.0",
      "_view_name": "HBoxView",
      "box_style": "",
      "children": [
       "IPY_MODEL_68f17020d75d4e2e834536fa9838a76b",
       "IPY_MODEL_7fbfd0d4356349f99215c963d9d0f58b",
       "IPY_MODEL_3fb758f51cb2447ba8e5767fcc95ea2b"
      ],
      "layout": "IPY_MODEL_6578461a0b3040418cf2fec36cc26bd4"
     }
    },
    "97b8666b250d46c9b8d8f463464ce793": {
     "model_module": "@jupyter-widgets/base",
     "model_module_version": "1.2.0",
     "model_name": "LayoutModel",
     "state": {
      "_model_module": "@jupyter-widgets/base",
      "_model_module_version": "1.2.0",
      "_model_name": "LayoutModel",
      "_view_count": null,
      "_view_module": "@jupyter-widgets/base",
      "_view_module_version": "1.2.0",
      "_view_name": "LayoutView",
      "align_content": null,
      "align_items": null,
      "align_self": null,
      "border": null,
      "bottom": null,
      "display": null,
      "flex": null,
      "flex_flow": null,
      "grid_area": null,
      "grid_auto_columns": null,
      "grid_auto_flow": null,
      "grid_auto_rows": null,
      "grid_column": null,
      "grid_gap": null,
      "grid_row": null,
      "grid_template_areas": null,
      "grid_template_columns": null,
      "grid_template_rows": null,
      "height": null,
      "justify_content": null,
      "justify_items": null,
      "left": null,
      "margin": null,
      "max_height": null,
      "max_width": null,
      "min_height": null,
      "min_width": null,
      "object_fit": null,
      "object_position": null,
      "order": null,
      "overflow": null,
      "overflow_x": null,
      "overflow_y": null,
      "padding": null,
      "right": null,
      "top": null,
      "visibility": null,
      "width": null
     }
    },
    "98e6f46668294d71bea96540e5cc3122": {
     "model_module": "@jupyter-widgets/controls",
     "model_module_version": "1.5.0",
     "model_name": "DescriptionStyleModel",
     "state": {
      "_model_module": "@jupyter-widgets/controls",
      "_model_module_version": "1.5.0",
      "_model_name": "DescriptionStyleModel",
      "_view_count": null,
      "_view_module": "@jupyter-widgets/base",
      "_view_module_version": "1.2.0",
      "_view_name": "StyleView",
      "description_width": ""
     }
    },
    "9c3c2794090b410da00dd380ae00e34e": {
     "model_module": "@jupyter-widgets/controls",
     "model_module_version": "1.5.0",
     "model_name": "ProgressStyleModel",
     "state": {
      "_model_module": "@jupyter-widgets/controls",
      "_model_module_version": "1.5.0",
      "_model_name": "ProgressStyleModel",
      "_view_count": null,
      "_view_module": "@jupyter-widgets/base",
      "_view_module_version": "1.2.0",
      "_view_name": "StyleView",
      "bar_color": null,
      "description_width": ""
     }
    },
    "9cd6636a115c404099bf30a71eb44738": {
     "model_module": "@jupyter-widgets/controls",
     "model_module_version": "1.5.0",
     "model_name": "ProgressStyleModel",
     "state": {
      "_model_module": "@jupyter-widgets/controls",
      "_model_module_version": "1.5.0",
      "_model_name": "ProgressStyleModel",
      "_view_count": null,
      "_view_module": "@jupyter-widgets/base",
      "_view_module_version": "1.2.0",
      "_view_name": "StyleView",
      "bar_color": null,
      "description_width": ""
     }
    },
    "a13335e07e85455e8366cb35077de77e": {
     "model_module": "@jupyter-widgets/controls",
     "model_module_version": "1.5.0",
     "model_name": "DescriptionStyleModel",
     "state": {
      "_model_module": "@jupyter-widgets/controls",
      "_model_module_version": "1.5.0",
      "_model_name": "DescriptionStyleModel",
      "_view_count": null,
      "_view_module": "@jupyter-widgets/base",
      "_view_module_version": "1.2.0",
      "_view_name": "StyleView",
      "description_width": ""
     }
    },
    "a3c813936264408d99f3119fd9499df2": {
     "model_module": "@jupyter-widgets/controls",
     "model_module_version": "1.5.0",
     "model_name": "DescriptionStyleModel",
     "state": {
      "_model_module": "@jupyter-widgets/controls",
      "_model_module_version": "1.5.0",
      "_model_name": "DescriptionStyleModel",
      "_view_count": null,
      "_view_module": "@jupyter-widgets/base",
      "_view_module_version": "1.2.0",
      "_view_name": "StyleView",
      "description_width": ""
     }
    },
    "a50d20a0b4fe4bd2bcdcff21b9eb64ba": {
     "model_module": "@jupyter-widgets/base",
     "model_module_version": "1.2.0",
     "model_name": "LayoutModel",
     "state": {
      "_model_module": "@jupyter-widgets/base",
      "_model_module_version": "1.2.0",
      "_model_name": "LayoutModel",
      "_view_count": null,
      "_view_module": "@jupyter-widgets/base",
      "_view_module_version": "1.2.0",
      "_view_name": "LayoutView",
      "align_content": null,
      "align_items": null,
      "align_self": null,
      "border": null,
      "bottom": null,
      "display": null,
      "flex": null,
      "flex_flow": null,
      "grid_area": null,
      "grid_auto_columns": null,
      "grid_auto_flow": null,
      "grid_auto_rows": null,
      "grid_column": null,
      "grid_gap": null,
      "grid_row": null,
      "grid_template_areas": null,
      "grid_template_columns": null,
      "grid_template_rows": null,
      "height": null,
      "justify_content": null,
      "justify_items": null,
      "left": null,
      "margin": null,
      "max_height": null,
      "max_width": null,
      "min_height": null,
      "min_width": null,
      "object_fit": null,
      "object_position": null,
      "order": null,
      "overflow": null,
      "overflow_x": null,
      "overflow_y": null,
      "padding": null,
      "right": null,
      "top": null,
      "visibility": null,
      "width": null
     }
    },
    "a9a512b8b9254d91a5530852bd8033df": {
     "model_module": "@jupyter-widgets/base",
     "model_module_version": "1.2.0",
     "model_name": "LayoutModel",
     "state": {
      "_model_module": "@jupyter-widgets/base",
      "_model_module_version": "1.2.0",
      "_model_name": "LayoutModel",
      "_view_count": null,
      "_view_module": "@jupyter-widgets/base",
      "_view_module_version": "1.2.0",
      "_view_name": "LayoutView",
      "align_content": null,
      "align_items": null,
      "align_self": null,
      "border": null,
      "bottom": null,
      "display": null,
      "flex": null,
      "flex_flow": null,
      "grid_area": null,
      "grid_auto_columns": null,
      "grid_auto_flow": null,
      "grid_auto_rows": null,
      "grid_column": null,
      "grid_gap": null,
      "grid_row": null,
      "grid_template_areas": null,
      "grid_template_columns": null,
      "grid_template_rows": null,
      "height": null,
      "justify_content": null,
      "justify_items": null,
      "left": null,
      "margin": null,
      "max_height": null,
      "max_width": null,
      "min_height": null,
      "min_width": null,
      "object_fit": null,
      "object_position": null,
      "order": null,
      "overflow": null,
      "overflow_x": null,
      "overflow_y": null,
      "padding": null,
      "right": null,
      "top": null,
      "visibility": null,
      "width": "20px"
     }
    },
    "aa33d0e6a828439db44ff7bb83e728a3": {
     "model_module": "@jupyter-widgets/base",
     "model_module_version": "1.2.0",
     "model_name": "LayoutModel",
     "state": {
      "_model_module": "@jupyter-widgets/base",
      "_model_module_version": "1.2.0",
      "_model_name": "LayoutModel",
      "_view_count": null,
      "_view_module": "@jupyter-widgets/base",
      "_view_module_version": "1.2.0",
      "_view_name": "LayoutView",
      "align_content": null,
      "align_items": null,
      "align_self": null,
      "border": null,
      "bottom": null,
      "display": null,
      "flex": null,
      "flex_flow": null,
      "grid_area": null,
      "grid_auto_columns": null,
      "grid_auto_flow": null,
      "grid_auto_rows": null,
      "grid_column": null,
      "grid_gap": null,
      "grid_row": null,
      "grid_template_areas": null,
      "grid_template_columns": null,
      "grid_template_rows": null,
      "height": null,
      "justify_content": null,
      "justify_items": null,
      "left": null,
      "margin": null,
      "max_height": null,
      "max_width": null,
      "min_height": null,
      "min_width": null,
      "object_fit": null,
      "object_position": null,
      "order": null,
      "overflow": null,
      "overflow_x": null,
      "overflow_y": null,
      "padding": null,
      "right": null,
      "top": null,
      "visibility": null,
      "width": "20px"
     }
    },
    "b0a973b98e5d4541a0c677c874e64c50": {
     "model_module": "@jupyter-widgets/controls",
     "model_module_version": "1.5.0",
     "model_name": "DescriptionStyleModel",
     "state": {
      "_model_module": "@jupyter-widgets/controls",
      "_model_module_version": "1.5.0",
      "_model_name": "DescriptionStyleModel",
      "_view_count": null,
      "_view_module": "@jupyter-widgets/base",
      "_view_module_version": "1.2.0",
      "_view_name": "StyleView",
      "description_width": ""
     }
    },
    "b18fb0dc468b42ea8afd392b9cb4f727": {
     "model_module": "@jupyter-widgets/controls",
     "model_module_version": "1.5.0",
     "model_name": "HTMLModel",
     "state": {
      "_dom_classes": [],
      "_model_module": "@jupyter-widgets/controls",
      "_model_module_version": "1.5.0",
      "_model_name": "HTMLModel",
      "_view_count": null,
      "_view_module": "@jupyter-widgets/controls",
      "_view_module_version": "1.5.0",
      "_view_name": "HTMLView",
      "description": "",
      "description_tooltip": null,
      "layout": "IPY_MODEL_f11bb92965034840b21e3a050c7ad8a6",
      "placeholder": "​",
      "style": "IPY_MODEL_0ba653c10cc449368a8910a5854ddb71",
      "value": " 119746/0 [00:33&lt;00:00, 3615.91 examples/s]"
     }
    },
    "b67c6831b62e4e28ad081517a6ea06eb": {
     "model_module": "@jupyter-widgets/base",
     "model_module_version": "1.2.0",
     "model_name": "LayoutModel",
     "state": {
      "_model_module": "@jupyter-widgets/base",
      "_model_module_version": "1.2.0",
      "_model_name": "LayoutModel",
      "_view_count": null,
      "_view_module": "@jupyter-widgets/base",
      "_view_module_version": "1.2.0",
      "_view_name": "LayoutView",
      "align_content": null,
      "align_items": null,
      "align_self": null,
      "border": null,
      "bottom": null,
      "display": null,
      "flex": null,
      "flex_flow": null,
      "grid_area": null,
      "grid_auto_columns": null,
      "grid_auto_flow": null,
      "grid_auto_rows": null,
      "grid_column": null,
      "grid_gap": null,
      "grid_row": null,
      "grid_template_areas": null,
      "grid_template_columns": null,
      "grid_template_rows": null,
      "height": null,
      "justify_content": null,
      "justify_items": null,
      "left": null,
      "margin": null,
      "max_height": null,
      "max_width": null,
      "min_height": null,
      "min_width": null,
      "object_fit": null,
      "object_position": null,
      "order": null,
      "overflow": null,
      "overflow_x": null,
      "overflow_y": null,
      "padding": null,
      "right": null,
      "top": null,
      "visibility": null,
      "width": "20px"
     }
    },
    "b99b0cff30294582ae1e66e2a633869b": {
     "model_module": "@jupyter-widgets/base",
     "model_module_version": "1.2.0",
     "model_name": "LayoutModel",
     "state": {
      "_model_module": "@jupyter-widgets/base",
      "_model_module_version": "1.2.0",
      "_model_name": "LayoutModel",
      "_view_count": null,
      "_view_module": "@jupyter-widgets/base",
      "_view_module_version": "1.2.0",
      "_view_name": "LayoutView",
      "align_content": null,
      "align_items": null,
      "align_self": null,
      "border": null,
      "bottom": null,
      "display": null,
      "flex": null,
      "flex_flow": null,
      "grid_area": null,
      "grid_auto_columns": null,
      "grid_auto_flow": null,
      "grid_auto_rows": null,
      "grid_column": null,
      "grid_gap": null,
      "grid_row": null,
      "grid_template_areas": null,
      "grid_template_columns": null,
      "grid_template_rows": null,
      "height": null,
      "justify_content": null,
      "justify_items": null,
      "left": null,
      "margin": null,
      "max_height": null,
      "max_width": null,
      "min_height": null,
      "min_width": null,
      "object_fit": null,
      "object_position": null,
      "order": null,
      "overflow": null,
      "overflow_x": null,
      "overflow_y": null,
      "padding": null,
      "right": null,
      "top": null,
      "visibility": null,
      "width": null
     }
    },
    "c17648de297344679cdec0b3c734b223": {
     "model_module": "@jupyter-widgets/base",
     "model_module_version": "1.2.0",
     "model_name": "LayoutModel",
     "state": {
      "_model_module": "@jupyter-widgets/base",
      "_model_module_version": "1.2.0",
      "_model_name": "LayoutModel",
      "_view_count": null,
      "_view_module": "@jupyter-widgets/base",
      "_view_module_version": "1.2.0",
      "_view_name": "LayoutView",
      "align_content": null,
      "align_items": null,
      "align_self": null,
      "border": null,
      "bottom": null,
      "display": null,
      "flex": null,
      "flex_flow": null,
      "grid_area": null,
      "grid_auto_columns": null,
      "grid_auto_flow": null,
      "grid_auto_rows": null,
      "grid_column": null,
      "grid_gap": null,
      "grid_row": null,
      "grid_template_areas": null,
      "grid_template_columns": null,
      "grid_template_rows": null,
      "height": null,
      "justify_content": null,
      "justify_items": null,
      "left": null,
      "margin": null,
      "max_height": null,
      "max_width": null,
      "min_height": null,
      "min_width": null,
      "object_fit": null,
      "object_position": null,
      "order": null,
      "overflow": null,
      "overflow_x": null,
      "overflow_y": null,
      "padding": null,
      "right": null,
      "top": null,
      "visibility": null,
      "width": null
     }
    },
    "c1cf085a00d148b4b583950ac8f06073": {
     "model_module": "@jupyter-widgets/base",
     "model_module_version": "1.2.0",
     "model_name": "LayoutModel",
     "state": {
      "_model_module": "@jupyter-widgets/base",
      "_model_module_version": "1.2.0",
      "_model_name": "LayoutModel",
      "_view_count": null,
      "_view_module": "@jupyter-widgets/base",
      "_view_module_version": "1.2.0",
      "_view_name": "LayoutView",
      "align_content": null,
      "align_items": null,
      "align_self": null,
      "border": null,
      "bottom": null,
      "display": null,
      "flex": null,
      "flex_flow": null,
      "grid_area": null,
      "grid_auto_columns": null,
      "grid_auto_flow": null,
      "grid_auto_rows": null,
      "grid_column": null,
      "grid_gap": null,
      "grid_row": null,
      "grid_template_areas": null,
      "grid_template_columns": null,
      "grid_template_rows": null,
      "height": null,
      "justify_content": null,
      "justify_items": null,
      "left": null,
      "margin": null,
      "max_height": null,
      "max_width": null,
      "min_height": null,
      "min_width": null,
      "object_fit": null,
      "object_position": null,
      "order": null,
      "overflow": null,
      "overflow_x": null,
      "overflow_y": null,
      "padding": null,
      "right": null,
      "top": null,
      "visibility": null,
      "width": null
     }
    },
    "c4b2124409f64d0ca42ffb44056504de": {
     "model_module": "@jupyter-widgets/base",
     "model_module_version": "1.2.0",
     "model_name": "LayoutModel",
     "state": {
      "_model_module": "@jupyter-widgets/base",
      "_model_module_version": "1.2.0",
      "_model_name": "LayoutModel",
      "_view_count": null,
      "_view_module": "@jupyter-widgets/base",
      "_view_module_version": "1.2.0",
      "_view_name": "LayoutView",
      "align_content": null,
      "align_items": null,
      "align_self": null,
      "border": null,
      "bottom": null,
      "display": null,
      "flex": null,
      "flex_flow": null,
      "grid_area": null,
      "grid_auto_columns": null,
      "grid_auto_flow": null,
      "grid_auto_rows": null,
      "grid_column": null,
      "grid_gap": null,
      "grid_row": null,
      "grid_template_areas": null,
      "grid_template_columns": null,
      "grid_template_rows": null,
      "height": null,
      "justify_content": null,
      "justify_items": null,
      "left": null,
      "margin": null,
      "max_height": null,
      "max_width": null,
      "min_height": null,
      "min_width": null,
      "object_fit": null,
      "object_position": null,
      "order": null,
      "overflow": null,
      "overflow_x": null,
      "overflow_y": null,
      "padding": null,
      "right": null,
      "top": null,
      "visibility": null,
      "width": null
     }
    },
    "cde24def6f35489391282d157e6a3550": {
     "model_module": "@jupyter-widgets/base",
     "model_module_version": "1.2.0",
     "model_name": "LayoutModel",
     "state": {
      "_model_module": "@jupyter-widgets/base",
      "_model_module_version": "1.2.0",
      "_model_name": "LayoutModel",
      "_view_count": null,
      "_view_module": "@jupyter-widgets/base",
      "_view_module_version": "1.2.0",
      "_view_name": "LayoutView",
      "align_content": null,
      "align_items": null,
      "align_self": null,
      "border": null,
      "bottom": null,
      "display": null,
      "flex": null,
      "flex_flow": null,
      "grid_area": null,
      "grid_auto_columns": null,
      "grid_auto_flow": null,
      "grid_auto_rows": null,
      "grid_column": null,
      "grid_gap": null,
      "grid_row": null,
      "grid_template_areas": null,
      "grid_template_columns": null,
      "grid_template_rows": null,
      "height": null,
      "justify_content": null,
      "justify_items": null,
      "left": null,
      "margin": null,
      "max_height": null,
      "max_width": null,
      "min_height": null,
      "min_width": null,
      "object_fit": null,
      "object_position": null,
      "order": null,
      "overflow": null,
      "overflow_x": null,
      "overflow_y": null,
      "padding": null,
      "right": null,
      "top": null,
      "visibility": null,
      "width": null
     }
    },
    "cebb666792534b11ab7696da849ee17d": {
     "model_module": "@jupyter-widgets/base",
     "model_module_version": "1.2.0",
     "model_name": "LayoutModel",
     "state": {
      "_model_module": "@jupyter-widgets/base",
      "_model_module_version": "1.2.0",
      "_model_name": "LayoutModel",
      "_view_count": null,
      "_view_module": "@jupyter-widgets/base",
      "_view_module_version": "1.2.0",
      "_view_name": "LayoutView",
      "align_content": null,
      "align_items": null,
      "align_self": null,
      "border": null,
      "bottom": null,
      "display": null,
      "flex": null,
      "flex_flow": null,
      "grid_area": null,
      "grid_auto_columns": null,
      "grid_auto_flow": null,
      "grid_auto_rows": null,
      "grid_column": null,
      "grid_gap": null,
      "grid_row": null,
      "grid_template_areas": null,
      "grid_template_columns": null,
      "grid_template_rows": null,
      "height": null,
      "justify_content": null,
      "justify_items": null,
      "left": null,
      "margin": null,
      "max_height": null,
      "max_width": null,
      "min_height": null,
      "min_width": null,
      "object_fit": null,
      "object_position": null,
      "order": null,
      "overflow": null,
      "overflow_x": null,
      "overflow_y": null,
      "padding": null,
      "right": null,
      "top": null,
      "visibility": null,
      "width": null
     }
    },
    "d14cd8661cae4f7a8c6785f56b398dc6": {
     "model_module": "@jupyter-widgets/controls",
     "model_module_version": "1.5.0",
     "model_name": "HTMLModel",
     "state": {
      "_dom_classes": [],
      "_model_module": "@jupyter-widgets/controls",
      "_model_module_version": "1.5.0",
      "_model_name": "HTMLModel",
      "_view_count": null,
      "_view_module": "@jupyter-widgets/controls",
      "_view_module_version": "1.5.0",
      "_view_name": "HTMLView",
      "description": "",
      "description_tooltip": null,
      "layout": "IPY_MODEL_97b8666b250d46c9b8d8f463464ce793",
      "placeholder": "​",
      "style": "IPY_MODEL_a3c813936264408d99f3119fd9499df2",
      "value": " 1/1 [00:00&lt;00:00,  2.10 file/s]"
     }
    },
    "d25d9a0a261b4c2db8f7020b7ec2cc9f": {
     "model_module": "@jupyter-widgets/controls",
     "model_module_version": "1.5.0",
     "model_name": "HTMLModel",
     "state": {
      "_dom_classes": [],
      "_model_module": "@jupyter-widgets/controls",
      "_model_module_version": "1.5.0",
      "_model_name": "HTMLModel",
      "_view_count": null,
      "_view_module": "@jupyter-widgets/controls",
      "_view_module_version": "1.5.0",
      "_view_name": "HTMLView",
      "description": "",
      "description_tooltip": null,
      "layout": "IPY_MODEL_5f5ba5d5d3be47b69202839d3ce3dd27",
      "placeholder": "​",
      "style": "IPY_MODEL_f0ed3f707f0140af8a7dfcb5b843254c",
      "value": " 7256/0 [00:01&lt;00:00, 4090.46 examples/s]"
     }
    },
    "d3a0f7aba98d4742a8cdcb7c315390c3": {
     "model_module": "@jupyter-widgets/controls",
     "model_module_version": "1.5.0",
     "model_name": "FloatProgressModel",
     "state": {
      "_dom_classes": [],
      "_model_module": "@jupyter-widgets/controls",
      "_model_module_version": "1.5.0",
      "_model_name": "FloatProgressModel",
      "_view_count": null,
      "_view_module": "@jupyter-widgets/controls",
      "_view_module_version": "1.5.0",
      "_view_name": "ProgressView",
      "bar_style": "info",
      "description": "",
      "description_tooltip": null,
      "layout": "IPY_MODEL_519c55322a6940e789892928e9e62e24",
      "max": 1,
      "min": 0,
      "orientation": "horizontal",
      "style": "IPY_MODEL_69e2be6bc02b4283aeedc41683d2c75d",
      "value": 1
     }
    },
    "d4cb8bcdf308470c9d7a5949b5181736": {
     "model_module": "@jupyter-widgets/controls",
     "model_module_version": "1.5.0",
     "model_name": "FloatProgressModel",
     "state": {
      "_dom_classes": [],
      "_model_module": "@jupyter-widgets/controls",
      "_model_module_version": "1.5.0",
      "_model_name": "FloatProgressModel",
      "_view_count": null,
      "_view_module": "@jupyter-widgets/controls",
      "_view_module_version": "1.5.0",
      "_view_name": "ProgressView",
      "bar_style": "danger",
      "description": "",
      "description_tooltip": null,
      "layout": "IPY_MODEL_a50d20a0b4fe4bd2bcdcff21b9eb64ba",
      "max": 7600,
      "min": 0,
      "orientation": "horizontal",
      "style": "IPY_MODEL_9c3c2794090b410da00dd380ae00e34e",
      "value": 7599
     }
    },
    "d63a80ebc12a4adfbb6238033f91c638": {
     "model_module": "@jupyter-widgets/controls",
     "model_module_version": "1.5.0",
     "model_name": "FloatProgressModel",
     "state": {
      "_dom_classes": [],
      "_model_module": "@jupyter-widgets/controls",
      "_model_module_version": "1.5.0",
      "_model_name": "FloatProgressModel",
      "_view_count": null,
      "_view_module": "@jupyter-widgets/controls",
      "_view_module_version": "1.5.0",
      "_view_name": "ProgressView",
      "bar_style": "info",
      "description": "",
      "description_tooltip": null,
      "layout": "IPY_MODEL_b67c6831b62e4e28ad081517a6ea06eb",
      "max": 1,
      "min": 0,
      "orientation": "horizontal",
      "style": "IPY_MODEL_6c57f7f09d7d4e6a89e4b02ce378aae0",
      "value": 1
     }
    },
    "d6a78c6422574503a85c7bbc8be3321c": {
     "model_module": "@jupyter-widgets/controls",
     "model_module_version": "1.5.0",
     "model_name": "HTMLModel",
     "state": {
      "_dom_classes": [],
      "_model_module": "@jupyter-widgets/controls",
      "_model_module_version": "1.5.0",
      "_model_name": "HTMLModel",
      "_view_count": null,
      "_view_module": "@jupyter-widgets/controls",
      "_view_module_version": "1.5.0",
      "_view_name": "HTMLView",
      "description": "",
      "description_tooltip": null,
      "layout": "IPY_MODEL_c17648de297344679cdec0b3c734b223",
      "placeholder": "​",
      "style": "IPY_MODEL_3211dd4a60b04381a2ce78c2278b5023",
      "value": " 0/0 [00:00&lt;?, ? url/s]"
     }
    },
    "d8deccabcafc4e649e46fca288bf95dd": {
     "model_module": "@jupyter-widgets/controls",
     "model_module_version": "1.5.0",
     "model_name": "HTMLModel",
     "state": {
      "_dom_classes": [],
      "_model_module": "@jupyter-widgets/controls",
      "_model_module_version": "1.5.0",
      "_model_name": "HTMLModel",
      "_view_count": null,
      "_view_module": "@jupyter-widgets/controls",
      "_view_module_version": "1.5.0",
      "_view_name": "HTMLView",
      "description": "",
      "description_tooltip": null,
      "layout": "IPY_MODEL_1bcd2619383e41c6ae1ae9108530d3e8",
      "placeholder": "​",
      "style": "IPY_MODEL_a13335e07e85455e8366cb35077de77e",
      "value": "Dl Size...: "
     }
    },
    "e9c1537f77814146b98ed4e0772626e2": {
     "model_module": "@jupyter-widgets/controls",
     "model_module_version": "1.5.0",
     "model_name": "DescriptionStyleModel",
     "state": {
      "_model_module": "@jupyter-widgets/controls",
      "_model_module_version": "1.5.0",
      "_model_name": "DescriptionStyleModel",
      "_view_count": null,
      "_view_module": "@jupyter-widgets/base",
      "_view_module_version": "1.2.0",
      "_view_name": "StyleView",
      "description_width": ""
     }
    },
    "ea1ab1d0e9244801852bfd6840d8cbc4": {
     "model_module": "@jupyter-widgets/controls",
     "model_module_version": "1.5.0",
     "model_name": "DescriptionStyleModel",
     "state": {
      "_model_module": "@jupyter-widgets/controls",
      "_model_module_version": "1.5.0",
      "_model_name": "DescriptionStyleModel",
      "_view_count": null,
      "_view_module": "@jupyter-widgets/base",
      "_view_module_version": "1.2.0",
      "_view_name": "StyleView",
      "description_width": ""
     }
    },
    "ed825f71daa6460da541326d01b098e9": {
     "model_module": "@jupyter-widgets/controls",
     "model_module_version": "1.5.0",
     "model_name": "FloatProgressModel",
     "state": {
      "_dom_classes": [],
      "_model_module": "@jupyter-widgets/controls",
      "_model_module_version": "1.5.0",
      "_model_name": "FloatProgressModel",
      "_view_count": null,
      "_view_module": "@jupyter-widgets/controls",
      "_view_module_version": "1.5.0",
      "_view_name": "ProgressView",
      "bar_style": "success",
      "description": "",
      "description_tooltip": null,
      "layout": "IPY_MODEL_a9a512b8b9254d91a5530852bd8033df",
      "max": 1,
      "min": 0,
      "orientation": "horizontal",
      "style": "IPY_MODEL_9cd6636a115c404099bf30a71eb44738",
      "value": 0
     }
    },
    "f0ed3f707f0140af8a7dfcb5b843254c": {
     "model_module": "@jupyter-widgets/controls",
     "model_module_version": "1.5.0",
     "model_name": "DescriptionStyleModel",
     "state": {
      "_model_module": "@jupyter-widgets/controls",
      "_model_module_version": "1.5.0",
      "_model_name": "DescriptionStyleModel",
      "_view_count": null,
      "_view_module": "@jupyter-widgets/base",
      "_view_module_version": "1.2.0",
      "_view_name": "StyleView",
      "description_width": ""
     }
    },
    "f11bb92965034840b21e3a050c7ad8a6": {
     "model_module": "@jupyter-widgets/base",
     "model_module_version": "1.2.0",
     "model_name": "LayoutModel",
     "state": {
      "_model_module": "@jupyter-widgets/base",
      "_model_module_version": "1.2.0",
      "_model_name": "LayoutModel",
      "_view_count": null,
      "_view_module": "@jupyter-widgets/base",
      "_view_module_version": "1.2.0",
      "_view_name": "LayoutView",
      "align_content": null,
      "align_items": null,
      "align_self": null,
      "border": null,
      "bottom": null,
      "display": null,
      "flex": null,
      "flex_flow": null,
      "grid_area": null,
      "grid_auto_columns": null,
      "grid_auto_flow": null,
      "grid_auto_rows": null,
      "grid_column": null,
      "grid_gap": null,
      "grid_row": null,
      "grid_template_areas": null,
      "grid_template_columns": null,
      "grid_template_rows": null,
      "height": null,
      "justify_content": null,
      "justify_items": null,
      "left": null,
      "margin": null,
      "max_height": null,
      "max_width": null,
      "min_height": null,
      "min_width": null,
      "object_fit": null,
      "object_position": null,
      "order": null,
      "overflow": null,
      "overflow_x": null,
      "overflow_y": null,
      "padding": null,
      "right": null,
      "top": null,
      "visibility": null,
      "width": null
     }
    },
    "f704ed4f5e254d04b2d8d1fb36f77e1a": {
     "model_module": "@jupyter-widgets/base",
     "model_module_version": "1.2.0",
     "model_name": "LayoutModel",
     "state": {
      "_model_module": "@jupyter-widgets/base",
      "_model_module_version": "1.2.0",
      "_model_name": "LayoutModel",
      "_view_count": null,
      "_view_module": "@jupyter-widgets/base",
      "_view_module_version": "1.2.0",
      "_view_name": "LayoutView",
      "align_content": null,
      "align_items": null,
      "align_self": null,
      "border": null,
      "bottom": null,
      "display": null,
      "flex": null,
      "flex_flow": null,
      "grid_area": null,
      "grid_auto_columns": null,
      "grid_auto_flow": null,
      "grid_auto_rows": null,
      "grid_column": null,
      "grid_gap": null,
      "grid_row": null,
      "grid_template_areas": null,
      "grid_template_columns": null,
      "grid_template_rows": null,
      "height": null,
      "justify_content": null,
      "justify_items": null,
      "left": null,
      "margin": null,
      "max_height": null,
      "max_width": null,
      "min_height": null,
      "min_width": null,
      "object_fit": null,
      "object_position": null,
      "order": null,
      "overflow": null,
      "overflow_x": null,
      "overflow_y": null,
      "padding": null,
      "right": null,
      "top": null,
      "visibility": null,
      "width": null
     }
    },
    "f9b9ef9699704cbbb8920fef2e60fe71": {
     "model_module": "@jupyter-widgets/base",
     "model_module_version": "1.2.0",
     "model_name": "LayoutModel",
     "state": {
      "_model_module": "@jupyter-widgets/base",
      "_model_module_version": "1.2.0",
      "_model_name": "LayoutModel",
      "_view_count": null,
      "_view_module": "@jupyter-widgets/base",
      "_view_module_version": "1.2.0",
      "_view_name": "LayoutView",
      "align_content": null,
      "align_items": null,
      "align_self": null,
      "border": null,
      "bottom": null,
      "display": null,
      "flex": null,
      "flex_flow": null,
      "grid_area": null,
      "grid_auto_columns": null,
      "grid_auto_flow": null,
      "grid_auto_rows": null,
      "grid_column": null,
      "grid_gap": null,
      "grid_row": null,
      "grid_template_areas": null,
      "grid_template_columns": null,
      "grid_template_rows": null,
      "height": null,
      "justify_content": null,
      "justify_items": null,
      "left": null,
      "margin": null,
      "max_height": null,
      "max_width": null,
      "min_height": null,
      "min_width": null,
      "object_fit": null,
      "object_position": null,
      "order": null,
      "overflow": null,
      "overflow_x": null,
      "overflow_y": null,
      "padding": null,
      "right": null,
      "top": null,
      "visibility": null,
      "width": null
     }
    },
    "f9ed0b3303a549b6a1620a7b0f43ad45": {
     "model_module": "@jupyter-widgets/controls",
     "model_module_version": "1.5.0",
     "model_name": "HBoxModel",
     "state": {
      "_dom_classes": [],
      "_model_module": "@jupyter-widgets/controls",
      "_model_module_version": "1.5.0",
      "_model_name": "HBoxModel",
      "_view_count": null,
      "_view_module": "@jupyter-widgets/controls",
      "_view_module_version": "1.5.0",
      "_view_name": "HBoxView",
      "box_style": "",
      "children": [
       "IPY_MODEL_8fa058e1bdd7435b890054f3f0aa06df",
       "IPY_MODEL_d63a80ebc12a4adfbb6238033f91c638",
       "IPY_MODEL_b18fb0dc468b42ea8afd392b9cb4f727"
      ],
      "layout": "IPY_MODEL_f9b9ef9699704cbbb8920fef2e60fe71"
     }
    },
    "fe9f20e182a2454c804e68c317834c96": {
     "model_module": "@jupyter-widgets/base",
     "model_module_version": "1.2.0",
     "model_name": "LayoutModel",
     "state": {
      "_model_module": "@jupyter-widgets/base",
      "_model_module_version": "1.2.0",
      "_model_name": "LayoutModel",
      "_view_count": null,
      "_view_module": "@jupyter-widgets/base",
      "_view_module_version": "1.2.0",
      "_view_name": "LayoutView",
      "align_content": null,
      "align_items": null,
      "align_self": null,
      "border": null,
      "bottom": null,
      "display": null,
      "flex": null,
      "flex_flow": null,
      "grid_area": null,
      "grid_auto_columns": null,
      "grid_auto_flow": null,
      "grid_auto_rows": null,
      "grid_column": null,
      "grid_gap": null,
      "grid_row": null,
      "grid_template_areas": null,
      "grid_template_columns": null,
      "grid_template_rows": null,
      "height": null,
      "justify_content": null,
      "justify_items": null,
      "left": null,
      "margin": null,
      "max_height": null,
      "max_width": null,
      "min_height": null,
      "min_width": null,
      "object_fit": null,
      "object_position": null,
      "order": null,
      "overflow": null,
      "overflow_x": null,
      "overflow_y": null,
      "padding": null,
      "right": null,
      "top": null,
      "visibility": null,
      "width": null
     }
    },
    "feb1ffd9c3504e238531a5d8b3ee9f8a": {
     "model_module": "@jupyter-widgets/base",
     "model_module_version": "1.2.0",
     "model_name": "LayoutModel",
     "state": {
      "_model_module": "@jupyter-widgets/base",
      "_model_module_version": "1.2.0",
      "_model_name": "LayoutModel",
      "_view_count": null,
      "_view_module": "@jupyter-widgets/base",
      "_view_module_version": "1.2.0",
      "_view_name": "LayoutView",
      "align_content": null,
      "align_items": null,
      "align_self": null,
      "border": null,
      "bottom": null,
      "display": null,
      "flex": null,
      "flex_flow": null,
      "grid_area": null,
      "grid_auto_columns": null,
      "grid_auto_flow": null,
      "grid_auto_rows": null,
      "grid_column": null,
      "grid_gap": null,
      "grid_row": null,
      "grid_template_areas": null,
      "grid_template_columns": null,
      "grid_template_rows": null,
      "height": null,
      "justify_content": null,
      "justify_items": null,
      "left": null,
      "margin": null,
      "max_height": null,
      "max_width": null,
      "min_height": null,
      "min_width": null,
      "object_fit": null,
      "object_position": null,
      "order": null,
      "overflow": null,
      "overflow_x": null,
      "overflow_y": null,
      "padding": null,
      "right": null,
      "top": null,
      "visibility": null,
      "width": null
     }
    },
    "feca4ddf88df4f72ac3dfd6fb124ccf3": {
     "model_module": "@jupyter-widgets/controls",
     "model_module_version": "1.5.0",
     "model_name": "HTMLModel",
     "state": {
      "_dom_classes": [],
      "_model_module": "@jupyter-widgets/controls",
      "_model_module_version": "1.5.0",
      "_model_name": "HTMLModel",
      "_view_count": null,
      "_view_module": "@jupyter-widgets/controls",
      "_view_module_version": "1.5.0",
      "_view_name": "HTMLView",
      "description": "",
      "description_tooltip": null,
      "layout": "IPY_MODEL_cebb666792534b11ab7696da849ee17d",
      "placeholder": "​",
      "style": "IPY_MODEL_98e6f46668294d71bea96540e5cc3122",
      "value": " 7599/7600 [00:00&lt;00:00, 94341.21 examples/s]"
     }
    },
    "ffe4fbd6097e414b99cb4c4780557553": {
     "model_module": "@jupyter-widgets/controls",
     "model_module_version": "1.5.0",
     "model_name": "HBoxModel",
     "state": {
      "_dom_classes": [],
      "_model_module": "@jupyter-widgets/controls",
      "_model_module_version": "1.5.0",
      "_model_name": "HBoxModel",
      "_view_count": null,
      "_view_module": "@jupyter-widgets/controls",
      "_view_module_version": "1.5.0",
      "_view_name": "HBoxView",
      "box_style": "",
      "children": [
       "IPY_MODEL_515f8749c3cd420d85289ac142257240",
       "IPY_MODEL_377499c0d2c94299926b820deee71819",
       "IPY_MODEL_d6a78c6422574503a85c7bbc8be3321c"
      ],
      "layout": "IPY_MODEL_40ad8f616a684bedb5dc40639541e466"
     }
    }
   }
  }
 },
 "nbformat": 4,
 "nbformat_minor": 5
}
