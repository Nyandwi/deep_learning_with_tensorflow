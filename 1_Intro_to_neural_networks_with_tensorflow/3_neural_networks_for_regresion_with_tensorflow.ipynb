{
 "cells": [
  {
   "cell_type": "markdown",
   "id": "4e70972a",
   "metadata": {},
   "source": [
    "<table align=\"left\">\n",
    "  <td>\n",
    "    <a href=\"https://colab.research.google.com/github/nyandwi/machine_learning_complete/blob/main/7_intro_to_artificial_neural_networks_and_tensorflow/3_neural_networks_for_regresion_with_tensorflow.ipynb\" target=\"_parent\"><img src=\"https://colab.research.google.com/assets/colab-badge.svg\" alt=\"Open In Colab\"/></a>\n",
    "  </td>\n",
    "</table>"
   ]
  },
  {
   "cell_type": "markdown",
   "id": "78a89ab1",
   "metadata": {},
   "source": [
    "*This notebook was created by [Jean de Dieu Nyandwi](https://twitter.com/jeande_d) for the love of machine learning community. For any feedback, errors or suggestion, he can be reached on email (johnjw7084 at gmail dot com), [Twitter](https://twitter.com/jeande_d), or [LinkedIn](https://linkedin.com/in/nyandwi).*"
   ]
  },
  {
   "cell_type": "markdown",
   "id": "304ad719",
   "metadata": {
    "id": "304ad719"
   },
   "source": [
    "<a name='0'></a>\n",
    "# Neural Networks for Regression with TensorFlow"
   ]
  },
  {
   "cell_type": "markdown",
   "id": "b6a095ea",
   "metadata": {
    "id": "b6a095ea"
   },
   "source": [
    "### Contents \n",
    "\n",
    "* [1. Intro to Regression with TensorFlow](#1)\n",
    "* [2. Starting Simple: Fitting a Straight Line](#2)\n",
    "   * [2.1 Gathering the data](#2-1)\n",
    "   * [2.2 Looking in the data](#2-2)\n",
    "   * [2.3 Preparing the data for a model](#2-3)\n",
    "   * [2.4 Creating, Compiling and Training a model](#2-4)\n",
    "   * [2.5 Evaluating a model](#2-5)\n",
    "   * [2.6 Improving a model](#2-6)\n",
    "  \n",
    "\n",
    "* [3. Going Beyond: A Real world dataset](#3)\n",
    "   * [3.1 Gathering the data](#3-1)\n",
    "   * [3.2 Looking in the data](#3-2)\n",
    "   * [3.3 Preparing the data for a model](#3-3)\n",
    "   * [3.4 Creating, Compiling and Training a model](#3-4)\n",
    "   * [3.5 Evaluating a model](#3-5)\n",
    "   * [3.6 Improving a model](#3-6)\n",
    "   * [3.7 Saving a model](#3-7)\n",
    "   * [3.8 Final notes](#3-8)\n"
   ]
  },
  {
   "cell_type": "markdown",
   "id": "AAqeb2v2jSWT",
   "metadata": {
    "id": "AAqeb2v2jSWT"
   },
   "source": [
    "<a name='1'></a>\n",
    "## Intro to Regression with TensorFlow"
   ]
  },
  {
   "cell_type": "markdown",
   "id": "hcDOlUdZxDGu",
   "metadata": {
    "id": "hcDOlUdZxDGu"
   },
   "source": [
    "We know neural networks in taking moonshots but they can also be used for regression problems. \n",
    "\n",
    "In regression task/problems, we are interested in predicting the a single or multiple continous numbers. \n",
    "\n",
    "Take an example of house price prediction. We can be given the properties/features of the house such as size, region, and number of bedrooms to predict the price of such house. This example is a single number prediction, also termed as `univariate regression`. \n",
    "\n",
    "Another example appears in object detection(recognizing & localizing image). In order to localize the object with the bounding box, you have got to find the coordinates of the object's center and the bounding box. The prediction of these coordinates is an example of predicting multiple values at once. It is usually termed as `multivariate regression`. "
   ]
  },
  {
   "cell_type": "markdown",
   "id": "jG7bLsj03uxw",
   "metadata": {
    "id": "jG7bLsj03uxw"
   },
   "source": [
    "Any typical architecture for a regression neural network will have common values or ranges of values of `hyperparameters` (hyperparameters are all parameters that you as engineer has to set, such as learning rate, number of layers, etc..). \n",
    "Let's discuss them. \n",
    "\n",
    "\n",
    "#### **Input, hidden, and Output Layers**\n",
    "\n",
    "The input layer usually has the neurons(or units) equivalent to the number of input features. For example, if our house dataset has 10 variables, 9 input training features, 1 target feature(price of house), then the input neurons will be 9. \n",
    "\n",
    "The number of hidden layers depend on the problem and the size of the dataset, but generally, it will be between 1 and 5. Same is true about the number of neurons in each hidden layer, it will depend on the problem & dataset size, but generally, neurons can be between 10 to 100. \n",
    "\n",
    "The number of neurons in output layer will depend on the problem. If you are predicting a single number, it will be 1. If you are predicting the coordinates of the object's center and bounding box during object detection, it will be 4 (because there are 4 coordinates, 2 for object's center, 2 for height/width of the box). \n",
    "\n",
    "\n",
    "#### **Activation Function**\n",
    "\n",
    "The choice of activation function depends on the problem, but in most cases, `relu` will work well in hidden layers. \n",
    "\n",
    "The activation function in the output layer is very specific on the goal of the problem. Unlike neural network classifiers that usually use [`sigmoid`](https://en.wikipedia.org/wiki/Sigmoid_function) or [`softmax`](https://en.wikipedia.org/wiki/Softmax_function), regressor doesn't need to have an activation since you want the output values as they are. That being said, you may want to prevent the negative values in the output layer. In that case, you can use [`ReLU`](https://en.wikipedia.org/wiki/Rectifier_(neural_networks)). \n",
    "\n",
    "\n",
    "#### Training Loss Function\n",
    "\n",
    "The loss function used in regression is usually [`Mean Squared Error(MSE)`](https://en.wikipedia.org/wiki/Mean_squared_error). When you are aware that your dataset contain outliers, you can use [`Mean Absolute Error (MAE)`](https://en.wikipedia.org/wiki/Mean_absolute_error). MAE can potentialy be used in time series prediction since that type of data tends to have outliers.\n",
    "\n",
    "Another loss function that is used alot if [Huber loss](https://www.tensorflow.org/api_docs/python/tf/keras/losses/huber). It is combination of both MSE and MAE. \n",
    "\n",
    "#### Optimizer\n",
    "\n",
    "A good rule of thumb when choosing an optimizer is to start with [Adam](https://www.tensorflow.org/api_docs/python/tf/keras/optimizers/Adam). There are other optimizers that you can try, such as SGD(Stockastic Gradient Descent), RMSProp, Nadam, etc...Learn more about them on [TensorFlow optimizer documentation page](https://www.tensorflow.org/api_docs/python/tf/optimizers). \n",
    "\n",
    "Below is a summary of hyerparameter best practices in neural network regressors.\n",
    "\n",
    "\n",
    "\n",
    "| **Hyperparameter** | **Typical value** |\n",
    "| --- | --- |\n",
    "| Neurons at input layer | 1 neuron per feature |\n",
    "| No of hidden layer(s) | depend on problem, start from 1 to 10 |\n",
    "| Neurons per hidden layer | depend on problem, generally 10 to 100 |\n",
    "| Neurons at input layer | depend on the desired result, 1 for univariate regression |\n",
    "| Activation in hidden layers| Relu or its variants(LeakyReLU, SeLU|\n",
    "| Activation in output layer |None in most cases|\n",
    "| Loss function | MSE or MAE |\n",
    "| Optimizer | SGD, Adam, RMSProp |\n",
    "\n",
    "*Table: Typical values of hyperparameters in neural network regressors*"
   ]
  },
  {
   "cell_type": "markdown",
   "id": "8H7r9hKeHAeM",
   "metadata": {
    "id": "8H7r9hKeHAeM"
   },
   "source": [
    "There are many hyperparameters in neural networks and finding the best values of each and each can be overwhelming. \n",
    "\n",
    "When choosing hyperparameters, it is advised to use hyperparameter tuning tools such as [Keras Tuner](https://keras.io/keras_tuner/) to search the best hyperparameters whenever possible. It is nearly impossible to assume that a given value of hyperparamater will work well at first. We usually have to experiment with different values, and a good tool can help you do that quickly. \n",
    "\n",
    "Let's put all of the above into practice, starting simple, and later, taking a futher step into real world dataset."
   ]
  },
  {
   "cell_type": "markdown",
   "id": "9pEQ8VbkIRsO",
   "metadata": {
    "id": "9pEQ8VbkIRsO"
   },
   "source": [
    "<a name='2'></a>\n",
    "\n",
    "## 2. Starting Simple: Fitting a Straight Line"
   ]
  },
  {
   "cell_type": "markdown",
   "id": "I8spI9b6g-vy",
   "metadata": {
    "id": "I8spI9b6g-vy"
   },
   "source": [
    "One of the simplest things we can model is perhaps a linear equation(it has been proven that [neural networks can model any mathematical function](http://neuralnetworksanddeeplearning.com/chap4.html)). \n",
    "\n",
    "So, a linear equation forms a straight line. Its form is `y=aX+b` where a is coefficient (or `weight`) and b is intercept (or `bias`). \n",
    "\n",
    "Let's assume that we have this equation `y=2X+1` and we are interested in using neural networks to predict y given any value of X. \n",
    "\n",
    "But we will start with creating our data based off such equation. "
   ]
  },
  {
   "cell_type": "markdown",
   "id": "AhILzCKOg9mu",
   "metadata": {
    "id": "AhILzCKOg9mu"
   },
   "source": [
    "<a name='2-1'></a>\n",
    "### 2.1  Gathering the data"
   ]
  },
  {
   "cell_type": "markdown",
   "id": "N5UGgGiOk7xO",
   "metadata": {
    "id": "N5UGgGiOk7xO"
   },
   "source": [
    "Let's first import the libraries. I will import `TensorFlow`, `NumPy` and `Matplolib` for plotting the straight line."
   ]
  },
  {
   "cell_type": "code",
   "execution_count": 1,
   "id": "jhhUN8KYlHCd",
   "metadata": {
    "id": "jhhUN8KYlHCd"
   },
   "outputs": [],
   "source": [
    "import tensorflow as tf\n",
    "from tensorflow import keras \n",
    "import numpy as np\n",
    "import matplotlib.pyplot as plt\n",
    "import pandas as pd"
   ]
  },
  {
   "cell_type": "markdown",
   "id": "98AuRTg8lSPd",
   "metadata": {
    "id": "98AuRTg8lSPd"
   },
   "source": [
    "After we have imported all relevant libraries, it's time to create our data. We only have one input feature (`X`) and output label `y`. \n",
    "\n",
    "We can either create it with `tf.constant()` or `np.array()`. Both will work, but for convenience, let's use `tf.constant()`."
   ]
  },
  {
   "cell_type": "code",
   "execution_count": 2,
   "id": "7f6p8Csdl8Vc",
   "metadata": {
    "id": "7f6p8Csdl8Vc"
   },
   "outputs": [],
   "source": [
    "# Create input feature X\n",
    "\n",
    "X = tf.constant([-2,-1,0.0,1.0,2.0,3.0,4.0,5.0,6.0,7.0,8.0,10,12])\n",
    "\n",
    "# Create label y\n",
    "\n",
    "y = tf.constant([-3.0,-1.0,1.0,3.0,5.0,7.0,9.0,11.0,13.0,15.0,17.0,21.0,25.0])"
   ]
  },
  {
   "cell_type": "markdown",
   "id": "nwPHdU4ZqUbK",
   "metadata": {
    "id": "nwPHdU4ZqUbK"
   },
   "source": [
    "<a name='2-2'></a>\n",
    "### 2.2  Looking in the Data\n",
    "\n",
    "It's always good to look in the data. This can be done in many ways and it depend on the kind of the dataset. If you're working with images, you might want to go through some images and their labels looking if there are no mislabelling. \n",
    "\n",
    "In structured data, or data in tabular form, you might have to visualize the distribution of individual features or plot their relationship. \n",
    "\n",
    "For us now, we have a simple data. Let's scatter plot X and y."
   ]
  },
  {
   "cell_type": "code",
   "execution_count": 3,
   "id": "YKQFuvyLqkA6",
   "metadata": {
    "colab": {
     "base_uri": "https://localhost:8080/",
     "height": 296
    },
    "id": "YKQFuvyLqkA6",
    "outputId": "cdeb8cbe-8633-4bc1-c296-ebc04194df1c"
   },
   "outputs": [
    {
     "data": {
      "text/plain": [
       "Text(0, 0.5, 'y')"
      ]
     },
     "execution_count": 3,
     "metadata": {},
     "output_type": "execute_result"
    },
    {
     "data": {
      "image/png": "[encoded data removed]",
      "text/plain": [
       "<Figure size 432x288 with 1 Axes>"
      ]
     },
     "metadata": {
      "needs_background": "light"
     },
     "output_type": "display_data"
    }
   ],
   "source": [
    "# Visualizing X and y\n",
    "\n",
    "plt.plot(X,y) #This will plot a line\n",
    "plt.scatter(X,y) \n",
    "plt.annotate('y=2X+1', xy=(3,4))\n",
    "plt.xlabel('X')\n",
    "plt.ylabel('y')"
   ]
  },
  {
   "cell_type": "markdown",
   "id": "StLIYBqUu_pe",
   "metadata": {
    "id": "StLIYBqUu_pe"
   },
   "source": [
    "<a name='2-3'></a>\n",
    "### 2.3  Preparing data for the model\n",
    "\n",
    "Usually when working with real world datasets, we need to spend an enourmous amount of time preparing it. The type of things to be done depend on the kind of the dataset, but typically, it can be removing/filling missing values, scaling the features either with normalization or standardization, and so on. \n",
    "\n",
    "For now, we can leave our data as it is. In the next labs, we will see some real world datasets that needs extra work before feeding them to the machine learning model."
   ]
  },
  {
   "cell_type": "markdown",
   "id": "u8JV6HwXxcDM",
   "metadata": {
    "id": "u8JV6HwXxcDM"
   },
   "source": [
    "<a name='2-4'></a>\n",
    "### 2.4  Creating, Compiling and Training a Model"
   ]
  },
  {
   "cell_type": "markdown",
   "id": "-SfBQQunx710",
   "metadata": {
    "id": "-SfBQQunx710"
   },
   "source": [
    "We are going to create the model having a one layer, one neuron(or unit) and as the input data is a single number, we will set the `input_shape` to `[1]`. \n",
    "\n",
    "Later, we will explain everything we did."
   ]
  },
  {
   "cell_type": "code",
   "execution_count": 4,
   "id": "sfadbvPlzFiO",
   "metadata": {
    "id": "sfadbvPlzFiO"
   },
   "outputs": [],
   "source": [
    "model = tf.keras.Sequential([\n",
    "                             \n",
    "                             keras.layers.Dense(units=1, input_shape=[1])\n",
    "])"
   ]
  },
  {
   "cell_type": "markdown",
   "id": "Y-irJjCqzb0P",
   "metadata": {
    "id": "Y-irJjCqzb0P"
   },
   "source": [
    "And we can see the model summary. Model summary is essential for quick review of the model architecture. As you can see, we only have one dense layer, and 2 parameters(weight and bias)."
   ]
  },
  {
   "cell_type": "code",
   "execution_count": 5,
   "id": "jqyr0pCwzeGy",
   "metadata": {
    "colab": {
     "base_uri": "https://localhost:8080/"
    },
    "id": "jqyr0pCwzeGy",
    "outputId": "d5434f60-7266-431d-ef09-17245a633490"
   },
   "outputs": [
    {
     "name": "stdout",
     "output_type": "stream",
     "text": [
      "Model: \"sequential\"\n",
      "_________________________________________________________________\n",
      "Layer (type)                 Output Shape              Param #   \n",
      "=================================================================\n",
      "dense (Dense)                (None, 1)                 2         \n",
      "=================================================================\n",
      "Total params: 2\n",
      "Trainable params: 2\n",
      "Non-trainable params: 0\n",
      "_________________________________________________________________\n"
     ]
    }
   ],
   "source": [
    "model.summary()"
   ]
  },
  {
   "cell_type": "markdown",
   "id": "pt6VEiYxz-GI",
   "metadata": {
    "id": "pt6VEiYxz-GI"
   },
   "source": [
    "The model that we created is called a  Sequential model. We create it by adding one layer after another. If we had many layers, it would be like a sequence or series of layers, one after another, from the input to the ouput. You can learn more about Sequential API [here](https://keras.io/api/models/sequential/)."
   ]
  },
  {
   "cell_type": "markdown",
   "id": "EUdQUMUp1O47",
   "metadata": {
    "id": "EUdQUMUp1O47"
   },
   "source": [
    "After we have created the model, all we have is an empty graphs. We need to do two more things, compiling and training/fitting the model to the presented data. "
   ]
  },
  {
   "cell_type": "code",
   "execution_count": 6,
   "id": "-6HLWEe62CBC",
   "metadata": {
    "id": "-6HLWEe62CBC"
   },
   "outputs": [],
   "source": [
    "model.compile(optimizer='sgd', \n",
    "              loss='mean_squared_error',\n",
    "              metrics=['mse'])"
   ]
  },
  {
   "cell_type": "markdown",
   "id": "GI77KEDn2Bac",
   "metadata": {
    "id": "GI77KEDn2Bac"
   },
   "source": [
    "The single most reason of why we compile the model is to specify the optimizer, loss function and the metrics that we want to track during training. \n",
    "\n",
    "During training, loss function will be used to measure the difference between the prediction and the actual output. Such difference is called `error`, but we want to measure the `the mean of squared error`, hence the name.\n",
    "\n",
    "`Error = Actual value – Predicted value`. \n",
    "\n",
    "On the otherhand, optimizer is used to reduce the error between the actual output and predicted value. The optimizer will make continous guesses until the minimum error is reached. There are many optimizers, but for now let's use SGD (Stockastic Gradient Descent). In later labs, we will explore other optimizers. \n",
    "\n",
    "By fitting the model to the data, here are what happen:\n",
    "\n",
    "* The model iterate through each input data point and estimate prediction \n",
    "* The difference between the actual and predicted value or error is calculated by loss function\n",
    "* The error is minimized by optimizer as we go through the data\n",
    "* The above iteration continue until the number of epochs are reached. \n",
    "\n",
    "\n",
    "Let's see that in action, fitting the model to the data, calculating and reducing the error until we make 500 turns. "
   ]
  },
  {
   "cell_type": "code",
   "execution_count": 7,
   "id": "pJ8gCQVK4CbR",
   "metadata": {
    "colab": {
     "base_uri": "https://localhost:8080/"
    },
    "id": "pJ8gCQVK4CbR",
    "outputId": "63df70a9-94e5-49d6-b655-c20aee929dca"
   },
   "outputs": [
    {
     "name": "stdout",
     "output_type": "stream",
     "text": [
      "Epoch 1/500\n",
      "1/1 [==============================] - 1s 583ms/step - loss: 240.2002 - mse: 240.2002\n",
      "Epoch 2/500\n",
      "1/1 [==============================] - 0s 7ms/step - loss: 20.7756 - mse: 20.7756\n",
      "Epoch 3/500\n",
      "1/1 [==============================] - 0s 7ms/step - loss: 1.9780 - mse: 1.9780\n",
      "Epoch 4/500\n",
      "1/1 [==============================] - 0s 10ms/step - loss: 0.3642 - mse: 0.3642\n",
      "Epoch 5/500\n",
      "1/1 [==============================] - 0s 12ms/step - loss: 0.2222 - mse: 0.2222\n",
      "Epoch 6/500\n",
      "1/1 [==============================] - 0s 8ms/step - loss: 0.2064 - mse: 0.2064\n",
      "Epoch 7/500\n",
      "1/1 [==============================] - 0s 8ms/step - loss: 0.2015 - mse: 0.2015\n",
      "Epoch 8/500\n",
      "1/1 [==============================] - 0s 8ms/step - loss: 0.1976 - mse: 0.1976\n",
      "Epoch 9/500\n",
      "1/1 [==============================] - 0s 11ms/step - loss: 0.1938 - mse: 0.1938\n",
      "Epoch 10/500\n",
      "1/1 [==============================] - 0s 5ms/step - loss: 0.1901 - mse: 0.1901\n",
      "Epoch 11/500\n",
      "1/1 [==============================] - 0s 7ms/step - loss: 0.1865 - mse: 0.1865\n",
      "Epoch 12/500\n",
      "1/1 [==============================] - 0s 6ms/step - loss: 0.1829 - mse: 0.1829\n",
      "Epoch 13/500\n",
      "1/1 [==============================] - 0s 10ms/step - loss: 0.1794 - mse: 0.1794\n",
      "Epoch 14/500\n",
      "1/1 [==============================] - 0s 12ms/step - loss: 0.1760 - mse: 0.1760\n",
      "Epoch 15/500\n",
      "1/1 [==============================] - 0s 11ms/step - loss: 0.1726 - mse: 0.1726\n",
      "Epoch 16/500\n",
      "1/1 [==============================] - 0s 7ms/step - loss: 0.1693 - mse: 0.1693\n",
      "Epoch 17/500\n",
      "1/1 [==============================] - 0s 6ms/step - loss: 0.1661 - mse: 0.1661\n",
      "Epoch 18/500\n",
      "1/1 [==============================] - 0s 7ms/step - loss: 0.1630 - mse: 0.1630\n",
      "Epoch 19/500\n",
      "1/1 [==============================] - 0s 7ms/step - loss: 0.1598 - mse: 0.1598\n",
      "Epoch 20/500\n",
      "1/1 [==============================] - 0s 7ms/step - loss: 0.1568 - mse: 0.1568\n",
      "Epoch 21/500\n",
      "1/1 [==============================] - 0s 8ms/step - loss: 0.1538 - mse: 0.1538\n",
      "Epoch 22/500\n",
      "1/1 [==============================] - 0s 9ms/step - loss: 0.1509 - mse: 0.1509\n",
      "Epoch 23/500\n",
      "1/1 [==============================] - 0s 8ms/step - loss: 0.1480 - mse: 0.1480\n",
      "Epoch 24/500\n",
      "1/1 [==============================] - 0s 9ms/step - loss: 0.1452 - mse: 0.1452\n",
      "Epoch 25/500\n",
      "1/1 [==============================] - 0s 8ms/step - loss: 0.1424 - mse: 0.1424\n",
      "Epoch 26/500\n",
      "1/1 [==============================] - 0s 11ms/step - loss: 0.1397 - mse: 0.1397\n",
      "Epoch 27/500\n",
      "1/1 [==============================] - 0s 7ms/step - loss: 0.1370 - mse: 0.1370\n",
      "Epoch 28/500\n",
      "1/1 [==============================] - 0s 12ms/step - loss: 0.1344 - mse: 0.1344\n",
      "Epoch 29/500\n",
      "1/1 [==============================] - 0s 7ms/step - loss: 0.1318 - mse: 0.1318\n",
      "Epoch 30/500\n",
      "1/1 [==============================] - 0s 11ms/step - loss: 0.1293 - mse: 0.1293\n",
      "Epoch 31/500\n",
      "1/1 [==============================] - 0s 9ms/step - loss: 0.1269 - mse: 0.1269\n",
      "Epoch 32/500\n",
      "1/1 [==============================] - 0s 9ms/step - loss: 0.1244 - mse: 0.1244\n",
      "Epoch 33/500\n",
      "1/1 [==============================] - 0s 5ms/step - loss: 0.1221 - mse: 0.1221\n",
      "Epoch 34/500\n",
      "1/1 [==============================] - 0s 6ms/step - loss: 0.1197 - mse: 0.1197\n",
      "Epoch 35/500\n",
      "1/1 [==============================] - 0s 7ms/step - loss: 0.1175 - mse: 0.1175\n",
      "Epoch 36/500\n",
      "1/1 [==============================] - 0s 7ms/step - loss: 0.1152 - mse: 0.1152\n",
      "Epoch 37/500\n",
      "1/1 [==============================] - 0s 5ms/step - loss: 0.1130 - mse: 0.1130\n",
      "Epoch 38/500\n",
      "1/1 [==============================] - 0s 10ms/step - loss: 0.1109 - mse: 0.1109\n",
      "Epoch 39/500\n",
      "1/1 [==============================] - 0s 5ms/step - loss: 0.1087 - mse: 0.1087\n",
      "Epoch 40/500\n",
      "1/1 [==============================] - 0s 8ms/step - loss: 0.1067 - mse: 0.1067\n",
      "Epoch 41/500\n",
      "1/1 [==============================] - 0s 20ms/step - loss: 0.1046 - mse: 0.1046\n",
      "Epoch 42/500\n",
      "1/1 [==============================] - 0s 6ms/step - loss: 0.1026 - mse: 0.1026\n",
      "Epoch 43/500\n",
      "1/1 [==============================] - 0s 6ms/step - loss: 0.1007 - mse: 0.1007\n",
      "Epoch 44/500\n",
      "1/1 [==============================] - 0s 8ms/step - loss: 0.0988 - mse: 0.0988\n",
      "Epoch 45/500\n",
      "1/1 [==============================] - 0s 8ms/step - loss: 0.0969 - mse: 0.0969\n",
      "Epoch 46/500\n",
      "1/1 [==============================] - 0s 19ms/step - loss: 0.0950 - mse: 0.0950\n",
      "Epoch 47/500\n",
      "1/1 [==============================] - 0s 5ms/step - loss: 0.0932 - mse: 0.0932\n",
      "Epoch 48/500\n",
      "1/1 [==============================] - 0s 6ms/step - loss: 0.0914 - mse: 0.0914\n",
      "Epoch 49/500\n",
      "1/1 [==============================] - 0s 7ms/step - loss: 0.0897 - mse: 0.0897\n",
      "Epoch 50/500\n",
      "1/1 [==============================] - 0s 9ms/step - loss: 0.0880 - mse: 0.0880\n",
      "Epoch 51/500\n",
      "1/1 [==============================] - 0s 6ms/step - loss: 0.0863 - mse: 0.0863\n",
      "Epoch 52/500\n",
      "1/1 [==============================] - 0s 11ms/step - loss: 0.0847 - mse: 0.0847\n",
      "Epoch 53/500\n",
      "1/1 [==============================] - 0s 5ms/step - loss: 0.0830 - mse: 0.0830\n",
      "Epoch 54/500\n",
      "1/1 [==============================] - 0s 4ms/step - loss: 0.0815 - mse: 0.0815\n",
      "Epoch 55/500\n",
      "1/1 [==============================] - 0s 5ms/step - loss: 0.0799 - mse: 0.0799\n",
      "Epoch 56/500\n",
      "1/1 [==============================] - 0s 4ms/step - loss: 0.0784 - mse: 0.0784\n",
      "Epoch 57/500\n",
      "1/1 [==============================] - 0s 9ms/step - loss: 0.0769 - mse: 0.0769\n",
      "Epoch 58/500\n",
      "1/1 [==============================] - 0s 12ms/step - loss: 0.0754 - mse: 0.0754\n",
      "Epoch 59/500\n",
      "1/1 [==============================] - 0s 4ms/step - loss: 0.0740 - mse: 0.0740\n",
      "Epoch 60/500\n",
      "1/1 [==============================] - 0s 5ms/step - loss: 0.0726 - mse: 0.0726\n",
      "Epoch 61/500\n",
      "1/1 [==============================] - 0s 5ms/step - loss: 0.0712 - mse: 0.0712\n",
      "Epoch 62/500\n",
      "1/1 [==============================] - 0s 6ms/step - loss: 0.0698 - mse: 0.0698\n",
      "Epoch 63/500\n",
      "1/1 [==============================] - 0s 5ms/step - loss: 0.0685 - mse: 0.0685\n",
      "Epoch 64/500\n",
      "1/1 [==============================] - 0s 4ms/step - loss: 0.0672 - mse: 0.0672\n",
      "Epoch 65/500\n",
      "1/1 [==============================] - 0s 5ms/step - loss: 0.0659 - mse: 0.0659\n",
      "Epoch 66/500\n",
      "1/1 [==============================] - 0s 6ms/step - loss: 0.0647 - mse: 0.0647\n",
      "Epoch 67/500\n",
      "1/1 [==============================] - 0s 4ms/step - loss: 0.0634 - mse: 0.0634\n",
      "Epoch 68/500\n",
      "1/1 [==============================] - 0s 5ms/step - loss: 0.0622 - mse: 0.0622\n",
      "Epoch 69/500\n",
      "1/1 [==============================] - 0s 4ms/step - loss: 0.0610 - mse: 0.0610\n",
      "Epoch 70/500\n",
      "1/1 [==============================] - 0s 4ms/step - loss: 0.0599 - mse: 0.0599\n",
      "Epoch 71/500\n",
      "1/1 [==============================] - 0s 5ms/step - loss: 0.0587 - mse: 0.0587\n",
      "Epoch 72/500\n",
      "1/1 [==============================] - 0s 7ms/step - loss: 0.0576 - mse: 0.0576\n",
      "Epoch 73/500\n",
      "1/1 [==============================] - 0s 6ms/step - loss: 0.0565 - mse: 0.0565\n",
      "Epoch 74/500\n",
      "1/1 [==============================] - 0s 4ms/step - loss: 0.0554 - mse: 0.0554\n",
      "Epoch 75/500\n",
      "1/1 [==============================] - 0s 5ms/step - loss: 0.0544 - mse: 0.0544\n",
      "Epoch 76/500\n",
      "1/1 [==============================] - 0s 6ms/step - loss: 0.0533 - mse: 0.0533\n",
      "Epoch 77/500\n",
      "1/1 [==============================] - 0s 6ms/step - loss: 0.0523 - mse: 0.0523\n",
      "Epoch 78/500\n",
      "1/1 [==============================] - 0s 4ms/step - loss: 0.0513 - mse: 0.0513\n",
      "Epoch 79/500\n",
      "1/1 [==============================] - 0s 6ms/step - loss: 0.0503 - mse: 0.0503\n",
      "Epoch 80/500\n",
      "1/1 [==============================] - 0s 5ms/step - loss: 0.0494 - mse: 0.0494\n",
      "Epoch 81/500\n",
      "1/1 [==============================] - 0s 4ms/step - loss: 0.0484 - mse: 0.0484\n",
      "Epoch 82/500\n",
      "1/1 [==============================] - 0s 4ms/step - loss: 0.0475 - mse: 0.0475\n",
      "Epoch 83/500\n",
      "1/1 [==============================] - 0s 4ms/step - loss: 0.0466 - mse: 0.0466\n",
      "Epoch 84/500\n",
      "1/1 [==============================] - 0s 5ms/step - loss: 0.0457 - mse: 0.0457\n",
      "Epoch 85/500\n",
      "1/1 [==============================] - 0s 4ms/step - loss: 0.0448 - mse: 0.0448\n",
      "Epoch 86/500\n",
      "1/1 [==============================] - 0s 13ms/step - loss: 0.0440 - mse: 0.0440\n",
      "Epoch 87/500\n",
      "1/1 [==============================] - 0s 10ms/step - loss: 0.0431 - mse: 0.0431\n",
      "Epoch 88/500\n",
      "1/1 [==============================] - 0s 6ms/step - loss: 0.0423 - mse: 0.0423\n",
      "Epoch 89/500\n",
      "1/1 [==============================] - 0s 6ms/step - loss: 0.0415 - mse: 0.0415\n",
      "Epoch 90/500\n",
      "1/1 [==============================] - 0s 10ms/step - loss: 0.0407 - mse: 0.0407\n",
      "Epoch 91/500\n",
      "1/1 [==============================] - 0s 5ms/step - loss: 0.0399 - mse: 0.0399\n",
      "Epoch 92/500\n",
      "1/1 [==============================] - 0s 14ms/step - loss: 0.0392 - mse: 0.0392\n",
      "Epoch 93/500\n",
      "1/1 [==============================] - 0s 5ms/step - loss: 0.0384 - mse: 0.0384\n",
      "Epoch 94/500\n",
      "1/1 [==============================] - 0s 8ms/step - loss: 0.0377 - mse: 0.0377\n",
      "Epoch 95/500\n",
      "1/1 [==============================] - 0s 6ms/step - loss: 0.0370 - mse: 0.0370\n",
      "Epoch 96/500\n",
      "1/1 [==============================] - 0s 8ms/step - loss: 0.0363 - mse: 0.0363\n",
      "Epoch 97/500\n",
      "1/1 [==============================] - 0s 16ms/step - loss: 0.0356 - mse: 0.0356\n",
      "Epoch 98/500\n",
      "1/1 [==============================] - 0s 5ms/step - loss: 0.0349 - mse: 0.0349\n",
      "Epoch 99/500\n",
      "1/1 [==============================] - 0s 7ms/step - loss: 0.0342 - mse: 0.0342\n",
      "Epoch 100/500\n",
      "1/1 [==============================] - 0s 10ms/step - loss: 0.0336 - mse: 0.0336\n",
      "Epoch 101/500\n",
      "1/1 [==============================] - 0s 7ms/step - loss: 0.0329 - mse: 0.0329\n",
      "Epoch 102/500\n",
      "1/1 [==============================] - 0s 6ms/step - loss: 0.0323 - mse: 0.0323\n",
      "Epoch 103/500\n",
      "1/1 [==============================] - 0s 10ms/step - loss: 0.0317 - mse: 0.0317\n",
      "Epoch 104/500\n",
      "1/1 [==============================] - 0s 5ms/step - loss: 0.0311 - mse: 0.0311\n",
      "Epoch 105/500\n",
      "1/1 [==============================] - 0s 9ms/step - loss: 0.0305 - mse: 0.0305\n",
      "Epoch 106/500\n",
      "1/1 [==============================] - 0s 12ms/step - loss: 0.0299 - mse: 0.0299\n",
      "Epoch 107/500\n",
      "1/1 [==============================] - 0s 8ms/step - loss: 0.0294 - mse: 0.0294\n",
      "Epoch 108/500\n",
      "1/1 [==============================] - 0s 9ms/step - loss: 0.0288 - mse: 0.0288\n",
      "Epoch 109/500\n",
      "1/1 [==============================] - 0s 8ms/step - loss: 0.0282 - mse: 0.0282\n",
      "Epoch 110/500\n",
      "1/1 [==============================] - 0s 5ms/step - loss: 0.0277 - mse: 0.0277\n",
      "Epoch 111/500\n",
      "1/1 [==============================] - 0s 10ms/step - loss: 0.0272 - mse: 0.0272\n",
      "Epoch 112/500\n",
      "1/1 [==============================] - 0s 11ms/step - loss: 0.0267 - mse: 0.0267\n",
      "Epoch 113/500\n",
      "1/1 [==============================] - 0s 5ms/step - loss: 0.0261 - mse: 0.0261\n",
      "Epoch 114/500\n",
      "1/1 [==============================] - 0s 5ms/step - loss: 0.0257 - mse: 0.0257\n",
      "Epoch 115/500\n",
      "1/1 [==============================] - 0s 6ms/step - loss: 0.0252 - mse: 0.0252\n",
      "Epoch 116/500\n",
      "1/1 [==============================] - 0s 11ms/step - loss: 0.0247 - mse: 0.0247\n",
      "Epoch 117/500\n",
      "1/1 [==============================] - 0s 8ms/step - loss: 0.0242 - mse: 0.0242\n",
      "Epoch 118/500\n",
      "1/1 [==============================] - 0s 9ms/step - loss: 0.0237 - mse: 0.0237\n",
      "Epoch 119/500\n",
      "1/1 [==============================] - 0s 9ms/step - loss: 0.0233 - mse: 0.0233\n",
      "Epoch 120/500\n",
      "1/1 [==============================] - 0s 9ms/step - loss: 0.0229 - mse: 0.0229\n",
      "Epoch 121/500\n",
      "1/1 [==============================] - 0s 5ms/step - loss: 0.0224 - mse: 0.0224\n",
      "Epoch 122/500\n",
      "1/1 [==============================] - 0s 8ms/step - loss: 0.0220 - mse: 0.0220\n",
      "Epoch 123/500\n",
      "1/1 [==============================] - 0s 9ms/step - loss: 0.0216 - mse: 0.0216\n",
      "Epoch 124/500\n",
      "1/1 [==============================] - 0s 9ms/step - loss: 0.0212 - mse: 0.0212\n",
      "Epoch 125/500\n",
      "1/1 [==============================] - 0s 6ms/step - loss: 0.0208 - mse: 0.0208\n",
      "Epoch 126/500\n",
      "1/1 [==============================] - 0s 8ms/step - loss: 0.0204 - mse: 0.0204\n",
      "Epoch 127/500\n",
      "1/1 [==============================] - 0s 15ms/step - loss: 0.0200 - mse: 0.0200\n",
      "Epoch 128/500\n",
      "1/1 [==============================] - 0s 7ms/step - loss: 0.0196 - mse: 0.0196\n",
      "Epoch 129/500\n",
      "1/1 [==============================] - 0s 10ms/step - loss: 0.0192 - mse: 0.0192\n",
      "Epoch 130/500\n",
      "1/1 [==============================] - 0s 8ms/step - loss: 0.0188 - mse: 0.0188\n",
      "Epoch 131/500\n",
      "1/1 [==============================] - 0s 7ms/step - loss: 0.0185 - mse: 0.0185\n",
      "Epoch 132/500\n",
      "1/1 [==============================] - 0s 10ms/step - loss: 0.0181 - mse: 0.0181\n",
      "Epoch 133/500\n",
      "1/1 [==============================] - 0s 15ms/step - loss: 0.0178 - mse: 0.0178\n",
      "Epoch 134/500\n",
      "1/1 [==============================] - 0s 7ms/step - loss: 0.0175 - mse: 0.0175\n",
      "Epoch 135/500\n",
      "1/1 [==============================] - 0s 13ms/step - loss: 0.0171 - mse: 0.0171\n",
      "Epoch 136/500\n",
      "1/1 [==============================] - 0s 11ms/step - loss: 0.0168 - mse: 0.0168\n",
      "Epoch 137/500\n",
      "1/1 [==============================] - 0s 6ms/step - loss: 0.0165 - mse: 0.0165\n",
      "Epoch 138/500\n",
      "1/1 [==============================] - 0s 5ms/step - loss: 0.0162 - mse: 0.0162\n",
      "Epoch 139/500\n",
      "1/1 [==============================] - 0s 7ms/step - loss: 0.0158 - mse: 0.0158\n",
      "Epoch 140/500\n",
      "1/1 [==============================] - 0s 6ms/step - loss: 0.0155 - mse: 0.0155\n",
      "Epoch 141/500\n",
      "1/1 [==============================] - 0s 8ms/step - loss: 0.0152 - mse: 0.0152\n",
      "Epoch 142/500\n",
      "1/1 [==============================] - 0s 6ms/step - loss: 0.0150 - mse: 0.0150\n",
      "Epoch 143/500\n",
      "1/1 [==============================] - 0s 15ms/step - loss: 0.0147 - mse: 0.0147\n",
      "Epoch 144/500\n",
      "1/1 [==============================] - 0s 10ms/step - loss: 0.0144 - mse: 0.0144\n",
      "Epoch 145/500\n",
      "1/1 [==============================] - 0s 5ms/step - loss: 0.0141 - mse: 0.0141\n",
      "Epoch 146/500\n",
      "1/1 [==============================] - 0s 6ms/step - loss: 0.0138 - mse: 0.0138\n",
      "Epoch 147/500\n",
      "1/1 [==============================] - 0s 8ms/step - loss: 0.0136 - mse: 0.0136\n",
      "Epoch 148/500\n",
      "1/1 [==============================] - 0s 11ms/step - loss: 0.0133 - mse: 0.0133\n",
      "Epoch 149/500\n",
      "1/1 [==============================] - 0s 4ms/step - loss: 0.0131 - mse: 0.0131\n",
      "Epoch 150/500\n",
      "1/1 [==============================] - 0s 13ms/step - loss: 0.0128 - mse: 0.0128\n",
      "Epoch 151/500\n",
      "1/1 [==============================] - 0s 5ms/step - loss: 0.0126 - mse: 0.0126\n",
      "Epoch 152/500\n",
      "1/1 [==============================] - 0s 5ms/step - loss: 0.0123 - mse: 0.0123\n",
      "Epoch 153/500\n",
      "1/1 [==============================] - 0s 7ms/step - loss: 0.0121 - mse: 0.0121\n",
      "Epoch 154/500\n",
      "1/1 [==============================] - 0s 12ms/step - loss: 0.0119 - mse: 0.0119\n",
      "Epoch 155/500\n",
      "1/1 [==============================] - 0s 9ms/step - loss: 0.0116 - mse: 0.0116\n",
      "Epoch 156/500\n",
      "1/1 [==============================] - 0s 14ms/step - loss: 0.0114 - mse: 0.0114\n",
      "Epoch 157/500\n",
      "1/1 [==============================] - 0s 11ms/step - loss: 0.0112 - mse: 0.0112\n",
      "Epoch 158/500\n",
      "1/1 [==============================] - 0s 4ms/step - loss: 0.0110 - mse: 0.0110\n",
      "Epoch 159/500\n",
      "1/1 [==============================] - 0s 7ms/step - loss: 0.0108 - mse: 0.0108\n",
      "Epoch 160/500\n",
      "1/1 [==============================] - 0s 5ms/step - loss: 0.0106 - mse: 0.0106\n",
      "Epoch 161/500\n",
      "1/1 [==============================] - 0s 7ms/step - loss: 0.0104 - mse: 0.0104\n",
      "Epoch 162/500\n",
      "1/1 [==============================] - 0s 7ms/step - loss: 0.0102 - mse: 0.0102\n",
      "Epoch 163/500\n",
      "1/1 [==============================] - 0s 14ms/step - loss: 0.0100 - mse: 0.0100\n",
      "Epoch 164/500\n",
      "1/1 [==============================] - 0s 5ms/step - loss: 0.0098 - mse: 0.0098\n",
      "Epoch 165/500\n",
      "1/1 [==============================] - 0s 8ms/step - loss: 0.0096 - mse: 0.0096\n",
      "Epoch 166/500\n",
      "1/1 [==============================] - 0s 4ms/step - loss: 0.0094 - mse: 0.0094\n",
      "Epoch 167/500\n",
      "1/1 [==============================] - 0s 6ms/step - loss: 0.0092 - mse: 0.0092\n",
      "Epoch 168/500\n",
      "1/1 [==============================] - 0s 8ms/step - loss: 0.0091 - mse: 0.0091\n",
      "Epoch 169/500\n",
      "1/1 [==============================] - 0s 5ms/step - loss: 0.0089 - mse: 0.0089\n",
      "Epoch 170/500\n",
      "1/1 [==============================] - 0s 5ms/step - loss: 0.0087 - mse: 0.0087\n",
      "Epoch 171/500\n",
      "1/1 [==============================] - 0s 7ms/step - loss: 0.0086 - mse: 0.0086\n",
      "Epoch 172/500\n",
      "1/1 [==============================] - 0s 12ms/step - loss: 0.0084 - mse: 0.0084\n",
      "Epoch 173/500\n",
      "1/1 [==============================] - 0s 17ms/step - loss: 0.0082 - mse: 0.0082\n",
      "Epoch 174/500\n",
      "1/1 [==============================] - 0s 5ms/step - loss: 0.0081 - mse: 0.0081\n",
      "Epoch 175/500\n",
      "1/1 [==============================] - 0s 5ms/step - loss: 0.0079 - mse: 0.0079\n",
      "Epoch 176/500\n",
      "1/1 [==============================] - 0s 10ms/step - loss: 0.0078 - mse: 0.0078\n",
      "Epoch 177/500\n",
      "1/1 [==============================] - 0s 5ms/step - loss: 0.0076 - mse: 0.0076\n",
      "Epoch 178/500\n",
      "1/1 [==============================] - 0s 8ms/step - loss: 0.0075 - mse: 0.0075\n",
      "Epoch 179/500\n",
      "1/1 [==============================] - 0s 7ms/step - loss: 0.0073 - mse: 0.0073\n",
      "Epoch 180/500\n",
      "1/1 [==============================] - 0s 4ms/step - loss: 0.0072 - mse: 0.0072\n",
      "Epoch 181/500\n",
      "1/1 [==============================] - 0s 8ms/step - loss: 0.0071 - mse: 0.0071\n",
      "Epoch 182/500\n",
      "1/1 [==============================] - 0s 5ms/step - loss: 0.0069 - mse: 0.0069\n",
      "Epoch 183/500\n",
      "1/1 [==============================] - 0s 6ms/step - loss: 0.0068 - mse: 0.0068\n",
      "Epoch 184/500\n",
      "1/1 [==============================] - 0s 14ms/step - loss: 0.0067 - mse: 0.0067\n",
      "Epoch 185/500\n",
      "1/1 [==============================] - 0s 8ms/step - loss: 0.0065 - mse: 0.0065\n",
      "Epoch 186/500\n",
      "1/1 [==============================] - 0s 8ms/step - loss: 0.0064 - mse: 0.0064\n",
      "Epoch 187/500\n",
      "1/1 [==============================] - 0s 11ms/step - loss: 0.0063 - mse: 0.0063\n",
      "Epoch 188/500\n",
      "1/1 [==============================] - 0s 5ms/step - loss: 0.0062 - mse: 0.0062\n",
      "Epoch 189/500\n",
      "1/1 [==============================] - 0s 8ms/step - loss: 0.0061 - mse: 0.0061\n",
      "Epoch 190/500\n",
      "1/1 [==============================] - 0s 7ms/step - loss: 0.0059 - mse: 0.0059\n",
      "Epoch 191/500\n",
      "1/1 [==============================] - 0s 8ms/step - loss: 0.0058 - mse: 0.0058\n",
      "Epoch 192/500\n",
      "1/1 [==============================] - 0s 8ms/step - loss: 0.0057 - mse: 0.0057\n",
      "Epoch 193/500\n",
      "1/1 [==============================] - 0s 6ms/step - loss: 0.0056 - mse: 0.0056\n",
      "Epoch 194/500\n",
      "1/1 [==============================] - 0s 8ms/step - loss: 0.0055 - mse: 0.0055\n",
      "Epoch 195/500\n",
      "1/1 [==============================] - 0s 10ms/step - loss: 0.0054 - mse: 0.0054\n",
      "Epoch 196/500\n",
      "1/1 [==============================] - 0s 23ms/step - loss: 0.0053 - mse: 0.0053\n",
      "Epoch 197/500\n",
      "1/1 [==============================] - 0s 16ms/step - loss: 0.0052 - mse: 0.0052\n",
      "Epoch 198/500\n",
      "1/1 [==============================] - 0s 12ms/step - loss: 0.0051 - mse: 0.0051\n",
      "Epoch 199/500\n",
      "1/1 [==============================] - 0s 12ms/step - loss: 0.0050 - mse: 0.0050\n",
      "Epoch 200/500\n",
      "1/1 [==============================] - 0s 5ms/step - loss: 0.0049 - mse: 0.0049\n",
      "Epoch 201/500\n",
      "1/1 [==============================] - 0s 10ms/step - loss: 0.0048 - mse: 0.0048\n",
      "Epoch 202/500\n",
      "1/1 [==============================] - 0s 12ms/step - loss: 0.0047 - mse: 0.0047\n",
      "Epoch 203/500\n",
      "1/1 [==============================] - 0s 16ms/step - loss: 0.0046 - mse: 0.0046\n",
      "Epoch 204/500\n",
      "1/1 [==============================] - 0s 5ms/step - loss: 0.0045 - mse: 0.0045\n",
      "Epoch 205/500\n",
      "1/1 [==============================] - 0s 9ms/step - loss: 0.0044 - mse: 0.0044\n",
      "Epoch 206/500\n",
      "1/1 [==============================] - 0s 7ms/step - loss: 0.0044 - mse: 0.0044\n",
      "Epoch 207/500\n",
      "1/1 [==============================] - 0s 9ms/step - loss: 0.0043 - mse: 0.0043\n",
      "Epoch 208/500\n",
      "1/1 [==============================] - 0s 6ms/step - loss: 0.0042 - mse: 0.0042\n",
      "Epoch 209/500\n",
      "1/1 [==============================] - 0s 8ms/step - loss: 0.0041 - mse: 0.0041\n",
      "Epoch 210/500\n",
      "1/1 [==============================] - 0s 7ms/step - loss: 0.0040 - mse: 0.0040\n",
      "Epoch 211/500\n",
      "1/1 [==============================] - 0s 5ms/step - loss: 0.0040 - mse: 0.0040\n",
      "Epoch 212/500\n",
      "1/1 [==============================] - 0s 6ms/step - loss: 0.0039 - mse: 0.0039\n",
      "Epoch 213/500\n",
      "1/1 [==============================] - 0s 6ms/step - loss: 0.0038 - mse: 0.0038\n",
      "Epoch 214/500\n",
      "1/1 [==============================] - 0s 5ms/step - loss: 0.0037 - mse: 0.0037\n",
      "Epoch 215/500\n",
      "1/1 [==============================] - 0s 5ms/step - loss: 0.0037 - mse: 0.0037\n",
      "Epoch 216/500\n",
      "1/1 [==============================] - 0s 6ms/step - loss: 0.0036 - mse: 0.0036\n",
      "Epoch 217/500\n",
      "1/1 [==============================] - 0s 6ms/step - loss: 0.0035 - mse: 0.0035\n",
      "Epoch 218/500\n",
      "1/1 [==============================] - 0s 11ms/step - loss: 0.0035 - mse: 0.0035\n",
      "Epoch 219/500\n",
      "1/1 [==============================] - 0s 6ms/step - loss: 0.0034 - mse: 0.0034\n",
      "Epoch 220/500\n",
      "1/1 [==============================] - 0s 5ms/step - loss: 0.0033 - mse: 0.0033\n",
      "Epoch 221/500\n",
      "1/1 [==============================] - 0s 9ms/step - loss: 0.0033 - mse: 0.0033\n",
      "Epoch 222/500\n",
      "1/1 [==============================] - 0s 6ms/step - loss: 0.0032 - mse: 0.0032\n",
      "Epoch 223/500\n",
      "1/1 [==============================] - 0s 13ms/step - loss: 0.0031 - mse: 0.0031\n",
      "Epoch 224/500\n",
      "1/1 [==============================] - 0s 6ms/step - loss: 0.0031 - mse: 0.0031\n",
      "Epoch 225/500\n",
      "1/1 [==============================] - 0s 18ms/step - loss: 0.0030 - mse: 0.0030\n",
      "Epoch 226/500\n",
      "1/1 [==============================] - 0s 8ms/step - loss: 0.0030 - mse: 0.0030\n",
      "Epoch 227/500\n",
      "1/1 [==============================] - 0s 8ms/step - loss: 0.0029 - mse: 0.0029\n",
      "Epoch 228/500\n",
      "1/1 [==============================] - 0s 23ms/step - loss: 0.0029 - mse: 0.0029\n",
      "Epoch 229/500\n",
      "1/1 [==============================] - 0s 9ms/step - loss: 0.0028 - mse: 0.0028\n",
      "Epoch 230/500\n",
      "1/1 [==============================] - 0s 6ms/step - loss: 0.0027 - mse: 0.0027\n",
      "Epoch 231/500\n",
      "1/1 [==============================] - 0s 6ms/step - loss: 0.0027 - mse: 0.0027\n",
      "Epoch 232/500\n",
      "1/1 [==============================] - 0s 7ms/step - loss: 0.0026 - mse: 0.0026\n",
      "Epoch 233/500\n",
      "1/1 [==============================] - 0s 7ms/step - loss: 0.0026 - mse: 0.0026\n",
      "Epoch 234/500\n",
      "1/1 [==============================] - 0s 6ms/step - loss: 0.0025 - mse: 0.0025\n",
      "Epoch 235/500\n",
      "1/1 [==============================] - 0s 18ms/step - loss: 0.0025 - mse: 0.0025\n",
      "Epoch 236/500\n",
      "1/1 [==============================] - 0s 12ms/step - loss: 0.0024 - mse: 0.0024\n",
      "Epoch 237/500\n",
      "1/1 [==============================] - 0s 7ms/step - loss: 0.0024 - mse: 0.0024\n",
      "Epoch 238/500\n",
      "1/1 [==============================] - 0s 24ms/step - loss: 0.0024 - mse: 0.0024\n",
      "Epoch 239/500\n",
      "1/1 [==============================] - 0s 29ms/step - loss: 0.0023 - mse: 0.0023\n",
      "Epoch 240/500\n",
      "1/1 [==============================] - 0s 24ms/step - loss: 0.0023 - mse: 0.0023\n",
      "Epoch 241/500\n",
      "1/1 [==============================] - 0s 7ms/step - loss: 0.0022 - mse: 0.0022\n",
      "Epoch 242/500\n",
      "1/1 [==============================] - 0s 9ms/step - loss: 0.0022 - mse: 0.0022\n",
      "Epoch 243/500\n",
      "1/1 [==============================] - 0s 7ms/step - loss: 0.0021 - mse: 0.0021\n",
      "Epoch 244/500\n",
      "1/1 [==============================] - 0s 7ms/step - loss: 0.0021 - mse: 0.0021\n",
      "Epoch 245/500\n",
      "1/1 [==============================] - 0s 5ms/step - loss: 0.0021 - mse: 0.0021\n",
      "Epoch 246/500\n",
      "1/1 [==============================] - 0s 6ms/step - loss: 0.0020 - mse: 0.0020\n",
      "Epoch 247/500\n",
      "1/1 [==============================] - 0s 11ms/step - loss: 0.0020 - mse: 0.0020\n",
      "Epoch 248/500\n",
      "1/1 [==============================] - 0s 13ms/step - loss: 0.0019 - mse: 0.0019\n",
      "Epoch 249/500\n",
      "1/1 [==============================] - 0s 7ms/step - loss: 0.0019 - mse: 0.0019\n",
      "Epoch 250/500\n",
      "1/1 [==============================] - 0s 6ms/step - loss: 0.0019 - mse: 0.0019\n",
      "Epoch 251/500\n",
      "1/1 [==============================] - 0s 9ms/step - loss: 0.0018 - mse: 0.0018\n",
      "Epoch 252/500\n",
      "1/1 [==============================] - 0s 4ms/step - loss: 0.0018 - mse: 0.0018\n",
      "Epoch 253/500\n",
      "1/1 [==============================] - 0s 5ms/step - loss: 0.0018 - mse: 0.0018\n",
      "Epoch 254/500\n",
      "1/1 [==============================] - 0s 9ms/step - loss: 0.0017 - mse: 0.0017\n",
      "Epoch 255/500\n",
      "1/1 [==============================] - 0s 5ms/step - loss: 0.0017 - mse: 0.0017\n",
      "Epoch 256/500\n",
      "1/1 [==============================] - 0s 5ms/step - loss: 0.0017 - mse: 0.0017\n",
      "Epoch 257/500\n",
      "1/1 [==============================] - 0s 6ms/step - loss: 0.0016 - mse: 0.0016\n",
      "Epoch 258/500\n",
      "1/1 [==============================] - 0s 6ms/step - loss: 0.0016 - mse: 0.0016\n",
      "Epoch 259/500\n",
      "1/1 [==============================] - 0s 6ms/step - loss: 0.0016 - mse: 0.0016\n",
      "Epoch 260/500\n",
      "1/1 [==============================] - 0s 6ms/step - loss: 0.0015 - mse: 0.0015\n",
      "Epoch 261/500\n",
      "1/1 [==============================] - 0s 5ms/step - loss: 0.0015 - mse: 0.0015\n",
      "Epoch 262/500\n",
      "1/1 [==============================] - 0s 8ms/step - loss: 0.0015 - mse: 0.0015\n",
      "Epoch 263/500\n",
      "1/1 [==============================] - 0s 4ms/step - loss: 0.0015 - mse: 0.0015\n",
      "Epoch 264/500\n",
      "1/1 [==============================] - 0s 14ms/step - loss: 0.0014 - mse: 0.0014\n",
      "Epoch 265/500\n",
      "1/1 [==============================] - 0s 21ms/step - loss: 0.0014 - mse: 0.0014\n",
      "Epoch 266/500\n",
      "1/1 [==============================] - 0s 30ms/step - loss: 0.0014 - mse: 0.0014\n",
      "Epoch 267/500\n",
      "1/1 [==============================] - 0s 6ms/step - loss: 0.0013 - mse: 0.0013\n",
      "Epoch 268/500\n",
      "1/1 [==============================] - 0s 8ms/step - loss: 0.0013 - mse: 0.0013\n",
      "Epoch 269/500\n",
      "1/1 [==============================] - 0s 7ms/step - loss: 0.0013 - mse: 0.0013\n",
      "Epoch 270/500\n",
      "1/1 [==============================] - 0s 8ms/step - loss: 0.0013 - mse: 0.0013\n",
      "Epoch 271/500\n",
      "1/1 [==============================] - 0s 8ms/step - loss: 0.0012 - mse: 0.0012\n",
      "Epoch 272/500\n",
      "1/1 [==============================] - 0s 5ms/step - loss: 0.0012 - mse: 0.0012\n",
      "Epoch 273/500\n",
      "1/1 [==============================] - 0s 8ms/step - loss: 0.0012 - mse: 0.0012\n",
      "Epoch 274/500\n",
      "1/1 [==============================] - 0s 5ms/step - loss: 0.0012 - mse: 0.0012\n",
      "Epoch 275/500\n",
      "1/1 [==============================] - 0s 6ms/step - loss: 0.0012 - mse: 0.0012\n",
      "Epoch 276/500\n",
      "1/1 [==============================] - 0s 5ms/step - loss: 0.0011 - mse: 0.0011\n",
      "Epoch 277/500\n",
      "1/1 [==============================] - 0s 17ms/step - loss: 0.0011 - mse: 0.0011\n",
      "Epoch 278/500\n",
      "1/1 [==============================] - 0s 6ms/step - loss: 0.0011 - mse: 0.0011\n",
      "Epoch 279/500\n",
      "1/1 [==============================] - 0s 5ms/step - loss: 0.0011 - mse: 0.0011\n",
      "Epoch 280/500\n",
      "1/1 [==============================] - 0s 5ms/step - loss: 0.0010 - mse: 0.0010\n",
      "Epoch 281/500\n",
      "1/1 [==============================] - 0s 13ms/step - loss: 0.0010 - mse: 0.0010\n",
      "Epoch 282/500\n",
      "1/1 [==============================] - 0s 12ms/step - loss: 0.0010 - mse: 0.0010\n",
      "Epoch 283/500\n",
      "1/1 [==============================] - 0s 14ms/step - loss: 9.8983e-04 - mse: 9.8983e-04\n",
      "Epoch 284/500\n",
      "1/1 [==============================] - 0s 5ms/step - loss: 9.7094e-04 - mse: 9.7094e-04\n",
      "Epoch 285/500\n",
      "1/1 [==============================] - 0s 6ms/step - loss: 9.5243e-04 - mse: 9.5243e-04\n",
      "Epoch 286/500\n",
      "1/1 [==============================] - 0s 6ms/step - loss: 9.3426e-04 - mse: 9.3426e-04\n",
      "Epoch 287/500\n",
      "1/1 [==============================] - 0s 17ms/step - loss: 9.1644e-04 - mse: 9.1644e-04\n",
      "Epoch 288/500\n",
      "1/1 [==============================] - 0s 5ms/step - loss: 8.9895e-04 - mse: 8.9895e-04\n",
      "Epoch 289/500\n",
      "1/1 [==============================] - 0s 6ms/step - loss: 8.8180e-04 - mse: 8.8180e-04\n",
      "Epoch 290/500\n",
      "1/1 [==============================] - 0s 5ms/step - loss: 8.6499e-04 - mse: 8.6499e-04\n",
      "Epoch 291/500\n",
      "1/1 [==============================] - 0s 7ms/step - loss: 8.4849e-04 - mse: 8.4849e-04\n",
      "Epoch 292/500\n",
      "1/1 [==============================] - 0s 5ms/step - loss: 8.3230e-04 - mse: 8.3230e-04\n",
      "Epoch 293/500\n",
      "1/1 [==============================] - 0s 6ms/step - loss: 8.1643e-04 - mse: 8.1643e-04\n",
      "Epoch 294/500\n",
      "1/1 [==============================] - 0s 6ms/step - loss: 8.0086e-04 - mse: 8.0086e-04\n",
      "Epoch 295/500\n",
      "1/1 [==============================] - 0s 6ms/step - loss: 7.8558e-04 - mse: 7.8558e-04\n",
      "Epoch 296/500\n",
      "1/1 [==============================] - 0s 6ms/step - loss: 7.7058e-04 - mse: 7.7058e-04\n",
      "Epoch 297/500\n",
      "1/1 [==============================] - 0s 10ms/step - loss: 7.5588e-04 - mse: 7.5588e-04\n",
      "Epoch 298/500\n",
      "1/1 [==============================] - 0s 15ms/step - loss: 7.4147e-04 - mse: 7.4147e-04\n",
      "Epoch 299/500\n",
      "1/1 [==============================] - 0s 22ms/step - loss: 7.2734e-04 - mse: 7.2734e-04\n",
      "Epoch 300/500\n",
      "1/1 [==============================] - 0s 9ms/step - loss: 7.1345e-04 - mse: 7.1345e-04\n",
      "Epoch 301/500\n",
      "1/1 [==============================] - 0s 8ms/step - loss: 6.9984e-04 - mse: 6.9984e-04\n",
      "Epoch 302/500\n",
      "1/1 [==============================] - 0s 6ms/step - loss: 6.8650e-04 - mse: 6.8650e-04\n",
      "Epoch 303/500\n",
      "1/1 [==============================] - 0s 8ms/step - loss: 6.7341e-04 - mse: 6.7341e-04\n",
      "Epoch 304/500\n",
      "1/1 [==============================] - 0s 68ms/step - loss: 6.6056e-04 - mse: 6.6056e-04\n",
      "Epoch 305/500\n",
      "1/1 [==============================] - 0s 17ms/step - loss: 6.4796e-04 - mse: 6.4796e-04\n",
      "Epoch 306/500\n",
      "1/1 [==============================] - 0s 6ms/step - loss: 6.3560e-04 - mse: 6.3560e-04\n",
      "Epoch 307/500\n",
      "1/1 [==============================] - 0s 6ms/step - loss: 6.2348e-04 - mse: 6.2348e-04\n",
      "Epoch 308/500\n",
      "1/1 [==============================] - 0s 9ms/step - loss: 6.1158e-04 - mse: 6.1158e-04\n",
      "Epoch 309/500\n",
      "1/1 [==============================] - 0s 12ms/step - loss: 5.9992e-04 - mse: 5.9992e-04\n",
      "Epoch 310/500\n",
      "1/1 [==============================] - 0s 11ms/step - loss: 5.8847e-04 - mse: 5.8847e-04\n",
      "Epoch 311/500\n",
      "1/1 [==============================] - 0s 6ms/step - loss: 5.7725e-04 - mse: 5.7725e-04\n",
      "Epoch 312/500\n",
      "1/1 [==============================] - 0s 8ms/step - loss: 5.6624e-04 - mse: 5.6624e-04\n",
      "Epoch 313/500\n",
      "1/1 [==============================] - 0s 8ms/step - loss: 5.5544e-04 - mse: 5.5544e-04\n",
      "Epoch 314/500\n",
      "1/1 [==============================] - 0s 11ms/step - loss: 5.4484e-04 - mse: 5.4484e-04\n",
      "Epoch 315/500\n",
      "1/1 [==============================] - 0s 11ms/step - loss: 5.3445e-04 - mse: 5.3445e-04\n",
      "Epoch 316/500\n",
      "1/1 [==============================] - 0s 12ms/step - loss: 5.2425e-04 - mse: 5.2425e-04\n",
      "Epoch 317/500\n",
      "1/1 [==============================] - 0s 6ms/step - loss: 5.1425e-04 - mse: 5.1425e-04\n",
      "Epoch 318/500\n",
      "1/1 [==============================] - 0s 18ms/step - loss: 5.0444e-04 - mse: 5.0444e-04\n",
      "Epoch 319/500\n",
      "1/1 [==============================] - 0s 18ms/step - loss: 4.9482e-04 - mse: 4.9482e-04\n",
      "Epoch 320/500\n",
      "1/1 [==============================] - 0s 8ms/step - loss: 4.8538e-04 - mse: 4.8538e-04\n",
      "Epoch 321/500\n",
      "1/1 [==============================] - 0s 6ms/step - loss: 4.7613e-04 - mse: 4.7613e-04\n",
      "Epoch 322/500\n",
      "1/1 [==============================] - 0s 7ms/step - loss: 4.6704e-04 - mse: 4.6704e-04\n",
      "Epoch 323/500\n",
      "1/1 [==============================] - 0s 10ms/step - loss: 4.5813e-04 - mse: 4.5813e-04\n",
      "Epoch 324/500\n",
      "1/1 [==============================] - 0s 18ms/step - loss: 4.4940e-04 - mse: 4.4940e-04\n",
      "Epoch 325/500\n",
      "1/1 [==============================] - 0s 11ms/step - loss: 4.4082e-04 - mse: 4.4082e-04\n",
      "Epoch 326/500\n",
      "1/1 [==============================] - 0s 11ms/step - loss: 4.3242e-04 - mse: 4.3242e-04\n",
      "Epoch 327/500\n",
      "1/1 [==============================] - 0s 8ms/step - loss: 4.2417e-04 - mse: 4.2417e-04\n",
      "Epoch 328/500\n",
      "1/1 [==============================] - 0s 10ms/step - loss: 4.1607e-04 - mse: 4.1607e-04\n",
      "Epoch 329/500\n",
      "1/1 [==============================] - 0s 8ms/step - loss: 4.0814e-04 - mse: 4.0814e-04\n",
      "Epoch 330/500\n",
      "1/1 [==============================] - 0s 12ms/step - loss: 4.0036e-04 - mse: 4.0036e-04\n",
      "Epoch 331/500\n",
      "1/1 [==============================] - 0s 12ms/step - loss: 3.9272e-04 - mse: 3.9272e-04\n",
      "Epoch 332/500\n",
      "1/1 [==============================] - 0s 9ms/step - loss: 3.8523e-04 - mse: 3.8523e-04\n",
      "Epoch 333/500\n",
      "1/1 [==============================] - 0s 8ms/step - loss: 3.7788e-04 - mse: 3.7788e-04\n",
      "Epoch 334/500\n",
      "1/1 [==============================] - 0s 6ms/step - loss: 3.7067e-04 - mse: 3.7067e-04\n",
      "Epoch 335/500\n",
      "1/1 [==============================] - 0s 9ms/step - loss: 3.6360e-04 - mse: 3.6360e-04\n",
      "Epoch 336/500\n",
      "1/1 [==============================] - 0s 7ms/step - loss: 3.5666e-04 - mse: 3.5666e-04\n",
      "Epoch 337/500\n",
      "1/1 [==============================] - 0s 6ms/step - loss: 3.4985e-04 - mse: 3.4985e-04\n",
      "Epoch 338/500\n",
      "1/1 [==============================] - 0s 10ms/step - loss: 3.4318e-04 - mse: 3.4318e-04\n",
      "Epoch 339/500\n",
      "1/1 [==============================] - 0s 6ms/step - loss: 3.3664e-04 - mse: 3.3664e-04\n",
      "Epoch 340/500\n",
      "1/1 [==============================] - 0s 14ms/step - loss: 3.3022e-04 - mse: 3.3022e-04\n",
      "Epoch 341/500\n",
      "1/1 [==============================] - 0s 6ms/step - loss: 3.2392e-04 - mse: 3.2392e-04\n",
      "Epoch 342/500\n",
      "1/1 [==============================] - 0s 7ms/step - loss: 3.1774e-04 - mse: 3.1774e-04\n",
      "Epoch 343/500\n",
      "1/1 [==============================] - 0s 5ms/step - loss: 3.1168e-04 - mse: 3.1168e-04\n",
      "Epoch 344/500\n",
      "1/1 [==============================] - 0s 8ms/step - loss: 3.0573e-04 - mse: 3.0573e-04\n",
      "Epoch 345/500\n",
      "1/1 [==============================] - 0s 9ms/step - loss: 2.9990e-04 - mse: 2.9990e-04\n",
      "Epoch 346/500\n",
      "1/1 [==============================] - 0s 4ms/step - loss: 2.9418e-04 - mse: 2.9418e-04\n",
      "Epoch 347/500\n",
      "1/1 [==============================] - 0s 16ms/step - loss: 2.8857e-04 - mse: 2.8857e-04\n",
      "Epoch 348/500\n",
      "1/1 [==============================] - 0s 6ms/step - loss: 2.8307e-04 - mse: 2.8307e-04\n",
      "Epoch 349/500\n",
      "1/1 [==============================] - 0s 12ms/step - loss: 2.7767e-04 - mse: 2.7767e-04\n",
      "Epoch 350/500\n",
      "1/1 [==============================] - 0s 5ms/step - loss: 2.7237e-04 - mse: 2.7237e-04\n",
      "Epoch 351/500\n",
      "1/1 [==============================] - 0s 51ms/step - loss: 2.6718e-04 - mse: 2.6718e-04\n",
      "Epoch 352/500\n",
      "1/1 [==============================] - 0s 9ms/step - loss: 2.6208e-04 - mse: 2.6208e-04\n",
      "Epoch 353/500\n",
      "1/1 [==============================] - 0s 8ms/step - loss: 2.5708e-04 - mse: 2.5708e-04\n",
      "Epoch 354/500\n",
      "1/1 [==============================] - 0s 6ms/step - loss: 2.5218e-04 - mse: 2.5218e-04\n",
      "Epoch 355/500\n",
      "1/1 [==============================] - 0s 4ms/step - loss: 2.4736e-04 - mse: 2.4736e-04\n",
      "Epoch 356/500\n",
      "1/1 [==============================] - 0s 8ms/step - loss: 2.4264e-04 - mse: 2.4264e-04\n",
      "Epoch 357/500\n",
      "1/1 [==============================] - 0s 14ms/step - loss: 2.3802e-04 - mse: 2.3802e-04\n",
      "Epoch 358/500\n",
      "1/1 [==============================] - 0s 7ms/step - loss: 2.3348e-04 - mse: 2.3348e-04\n",
      "Epoch 359/500\n",
      "1/1 [==============================] - 0s 9ms/step - loss: 2.2903e-04 - mse: 2.2903e-04\n",
      "Epoch 360/500\n",
      "1/1 [==============================] - 0s 7ms/step - loss: 2.2465e-04 - mse: 2.2465e-04\n",
      "Epoch 361/500\n",
      "1/1 [==============================] - 0s 15ms/step - loss: 2.2037e-04 - mse: 2.2037e-04\n",
      "Epoch 362/500\n",
      "1/1 [==============================] - 0s 10ms/step - loss: 2.1617e-04 - mse: 2.1617e-04\n",
      "Epoch 363/500\n",
      "1/1 [==============================] - 0s 8ms/step - loss: 2.1205e-04 - mse: 2.1205e-04\n",
      "Epoch 364/500\n",
      "1/1 [==============================] - 0s 7ms/step - loss: 2.0800e-04 - mse: 2.0800e-04\n",
      "Epoch 365/500\n",
      "1/1 [==============================] - 0s 13ms/step - loss: 2.0403e-04 - mse: 2.0403e-04\n",
      "Epoch 366/500\n",
      "1/1 [==============================] - 0s 10ms/step - loss: 2.0014e-04 - mse: 2.0014e-04\n",
      "Epoch 367/500\n",
      "1/1 [==============================] - 0s 7ms/step - loss: 1.9632e-04 - mse: 1.9632e-04\n",
      "Epoch 368/500\n",
      "1/1 [==============================] - 0s 19ms/step - loss: 1.9258e-04 - mse: 1.9258e-04\n",
      "Epoch 369/500\n",
      "1/1 [==============================] - 0s 13ms/step - loss: 1.8891e-04 - mse: 1.8891e-04\n",
      "Epoch 370/500\n",
      "1/1 [==============================] - 0s 15ms/step - loss: 1.8530e-04 - mse: 1.8530e-04\n",
      "Epoch 371/500\n",
      "1/1 [==============================] - 0s 13ms/step - loss: 1.8177e-04 - mse: 1.8177e-04\n",
      "Epoch 372/500\n",
      "1/1 [==============================] - 0s 9ms/step - loss: 1.7830e-04 - mse: 1.7830e-04\n",
      "Epoch 373/500\n",
      "1/1 [==============================] - 0s 8ms/step - loss: 1.7490e-04 - mse: 1.7490e-04\n",
      "Epoch 374/500\n",
      "1/1 [==============================] - 0s 6ms/step - loss: 1.7156e-04 - mse: 1.7156e-04\n",
      "Epoch 375/500\n",
      "1/1 [==============================] - 0s 13ms/step - loss: 1.6829e-04 - mse: 1.6829e-04\n",
      "Epoch 376/500\n",
      "1/1 [==============================] - 0s 22ms/step - loss: 1.6508e-04 - mse: 1.6508e-04\n",
      "Epoch 377/500\n",
      "1/1 [==============================] - 0s 8ms/step - loss: 1.6193e-04 - mse: 1.6193e-04\n",
      "Epoch 378/500\n",
      "1/1 [==============================] - 0s 6ms/step - loss: 1.5884e-04 - mse: 1.5884e-04\n",
      "Epoch 379/500\n",
      "1/1 [==============================] - 0s 8ms/step - loss: 1.5581e-04 - mse: 1.5581e-04\n",
      "Epoch 380/500\n",
      "1/1 [==============================] - 0s 4ms/step - loss: 1.5284e-04 - mse: 1.5284e-04\n",
      "Epoch 381/500\n",
      "1/1 [==============================] - 0s 4ms/step - loss: 1.4993e-04 - mse: 1.4993e-04\n",
      "Epoch 382/500\n",
      "1/1 [==============================] - 0s 12ms/step - loss: 1.4706e-04 - mse: 1.4706e-04\n",
      "Epoch 383/500\n",
      "1/1 [==============================] - 0s 9ms/step - loss: 1.4426e-04 - mse: 1.4426e-04\n",
      "Epoch 384/500\n",
      "1/1 [==============================] - 0s 8ms/step - loss: 1.4151e-04 - mse: 1.4151e-04\n",
      "Epoch 385/500\n",
      "1/1 [==============================] - 0s 6ms/step - loss: 1.3881e-04 - mse: 1.3881e-04\n",
      "Epoch 386/500\n",
      "1/1 [==============================] - 0s 6ms/step - loss: 1.3616e-04 - mse: 1.3616e-04\n",
      "Epoch 387/500\n",
      "1/1 [==============================] - 0s 8ms/step - loss: 1.3356e-04 - mse: 1.3356e-04\n",
      "Epoch 388/500\n",
      "1/1 [==============================] - 0s 4ms/step - loss: 1.3102e-04 - mse: 1.3102e-04\n",
      "Epoch 389/500\n",
      "1/1 [==============================] - 0s 9ms/step - loss: 1.2852e-04 - mse: 1.2852e-04\n",
      "Epoch 390/500\n",
      "1/1 [==============================] - 0s 10ms/step - loss: 1.2607e-04 - mse: 1.2607e-04\n",
      "Epoch 391/500\n",
      "1/1 [==============================] - 0s 8ms/step - loss: 1.2366e-04 - mse: 1.2366e-04\n",
      "Epoch 392/500\n",
      "1/1 [==============================] - 0s 4ms/step - loss: 1.2130e-04 - mse: 1.2130e-04\n",
      "Epoch 393/500\n",
      "1/1 [==============================] - 0s 12ms/step - loss: 1.1899e-04 - mse: 1.1899e-04\n",
      "Epoch 394/500\n",
      "1/1 [==============================] - 0s 7ms/step - loss: 1.1672e-04 - mse: 1.1672e-04\n",
      "Epoch 395/500\n",
      "1/1 [==============================] - 0s 6ms/step - loss: 1.1449e-04 - mse: 1.1449e-04\n",
      "Epoch 396/500\n",
      "1/1 [==============================] - 0s 6ms/step - loss: 1.1231e-04 - mse: 1.1231e-04\n",
      "Epoch 397/500\n",
      "1/1 [==============================] - 0s 6ms/step - loss: 1.1016e-04 - mse: 1.1016e-04\n",
      "Epoch 398/500\n",
      "1/1 [==============================] - 0s 6ms/step - loss: 1.0807e-04 - mse: 1.0807e-04\n",
      "Epoch 399/500\n",
      "1/1 [==============================] - 0s 14ms/step - loss: 1.0600e-04 - mse: 1.0600e-04\n",
      "Epoch 400/500\n",
      "1/1 [==============================] - 0s 9ms/step - loss: 1.0398e-04 - mse: 1.0398e-04\n",
      "Epoch 401/500\n",
      "1/1 [==============================] - 0s 7ms/step - loss: 1.0200e-04 - mse: 1.0200e-04\n",
      "Epoch 402/500\n",
      "1/1 [==============================] - 0s 7ms/step - loss: 1.0005e-04 - mse: 1.0005e-04\n",
      "Epoch 403/500\n",
      "1/1 [==============================] - 0s 9ms/step - loss: 9.8142e-05 - mse: 9.8142e-05\n",
      "Epoch 404/500\n",
      "1/1 [==============================] - 0s 13ms/step - loss: 9.6271e-05 - mse: 9.6271e-05\n",
      "Epoch 405/500\n",
      "1/1 [==============================] - 0s 6ms/step - loss: 9.4433e-05 - mse: 9.4433e-05\n",
      "Epoch 406/500\n",
      "1/1 [==============================] - 0s 8ms/step - loss: 9.2632e-05 - mse: 9.2632e-05\n",
      "Epoch 407/500\n",
      "1/1 [==============================] - 0s 33ms/step - loss: 9.0865e-05 - mse: 9.0865e-05\n",
      "Epoch 408/500\n",
      "1/1 [==============================] - 0s 12ms/step - loss: 8.9132e-05 - mse: 8.9132e-05\n",
      "Epoch 409/500\n",
      "1/1 [==============================] - 0s 9ms/step - loss: 8.7431e-05 - mse: 8.7431e-05\n",
      "Epoch 410/500\n",
      "1/1 [==============================] - 0s 6ms/step - loss: 8.5761e-05 - mse: 8.5761e-05\n",
      "Epoch 411/500\n",
      "1/1 [==============================] - 0s 15ms/step - loss: 8.4128e-05 - mse: 8.4128e-05\n",
      "Epoch 412/500\n",
      "1/1 [==============================] - 0s 7ms/step - loss: 8.2522e-05 - mse: 8.2522e-05\n",
      "Epoch 413/500\n",
      "1/1 [==============================] - 0s 7ms/step - loss: 8.0950e-05 - mse: 8.0950e-05\n",
      "Epoch 414/500\n",
      "1/1 [==============================] - 0s 6ms/step - loss: 7.9403e-05 - mse: 7.9403e-05\n",
      "Epoch 415/500\n",
      "1/1 [==============================] - 0s 9ms/step - loss: 7.7892e-05 - mse: 7.7892e-05\n",
      "Epoch 416/500\n",
      "1/1 [==============================] - 0s 7ms/step - loss: 7.6404e-05 - mse: 7.6404e-05\n",
      "Epoch 417/500\n",
      "1/1 [==============================] - 0s 7ms/step - loss: 7.4948e-05 - mse: 7.4948e-05\n",
      "Epoch 418/500\n",
      "1/1 [==============================] - 0s 7ms/step - loss: 7.3519e-05 - mse: 7.3519e-05\n",
      "Epoch 419/500\n",
      "1/1 [==============================] - 0s 7ms/step - loss: 7.2114e-05 - mse: 7.2114e-05\n",
      "Epoch 420/500\n",
      "1/1 [==============================] - 0s 8ms/step - loss: 7.0738e-05 - mse: 7.0738e-05\n",
      "Epoch 421/500\n",
      "1/1 [==============================] - 0s 9ms/step - loss: 6.9390e-05 - mse: 6.9390e-05\n",
      "Epoch 422/500\n",
      "1/1 [==============================] - 0s 5ms/step - loss: 6.8068e-05 - mse: 6.8068e-05\n",
      "Epoch 423/500\n",
      "1/1 [==============================] - 0s 7ms/step - loss: 6.6769e-05 - mse: 6.6769e-05\n",
      "Epoch 424/500\n",
      "1/1 [==============================] - 0s 10ms/step - loss: 6.5493e-05 - mse: 6.5493e-05\n",
      "Epoch 425/500\n",
      "1/1 [==============================] - 0s 5ms/step - loss: 6.4246e-05 - mse: 6.4246e-05\n",
      "Epoch 426/500\n",
      "1/1 [==============================] - 0s 8ms/step - loss: 6.3018e-05 - mse: 6.3018e-05\n",
      "Epoch 427/500\n",
      "1/1 [==============================] - 0s 8ms/step - loss: 6.1819e-05 - mse: 6.1819e-05\n",
      "Epoch 428/500\n",
      "1/1 [==============================] - 0s 8ms/step - loss: 6.0638e-05 - mse: 6.0638e-05\n",
      "Epoch 429/500\n",
      "1/1 [==============================] - 0s 19ms/step - loss: 5.9481e-05 - mse: 5.9481e-05\n",
      "Epoch 430/500\n",
      "1/1 [==============================] - 0s 9ms/step - loss: 5.8347e-05 - mse: 5.8347e-05\n",
      "Epoch 431/500\n",
      "1/1 [==============================] - 0s 9ms/step - loss: 5.7234e-05 - mse: 5.7234e-05\n",
      "Epoch 432/500\n",
      "1/1 [==============================] - 0s 15ms/step - loss: 5.6141e-05 - mse: 5.6141e-05\n",
      "Epoch 433/500\n",
      "1/1 [==============================] - 0s 6ms/step - loss: 5.5071e-05 - mse: 5.5071e-05\n",
      "Epoch 434/500\n",
      "1/1 [==============================] - 0s 10ms/step - loss: 5.4021e-05 - mse: 5.4021e-05\n",
      "Epoch 435/500\n",
      "1/1 [==============================] - 0s 4ms/step - loss: 5.2991e-05 - mse: 5.2991e-05\n",
      "Epoch 436/500\n",
      "1/1 [==============================] - 0s 5ms/step - loss: 5.1979e-05 - mse: 5.1979e-05\n",
      "Epoch 437/500\n",
      "1/1 [==============================] - 0s 7ms/step - loss: 5.0989e-05 - mse: 5.0989e-05\n",
      "Epoch 438/500\n",
      "1/1 [==============================] - 0s 5ms/step - loss: 5.0018e-05 - mse: 5.0018e-05\n",
      "Epoch 439/500\n",
      "1/1 [==============================] - 0s 8ms/step - loss: 4.9064e-05 - mse: 4.9064e-05\n",
      "Epoch 440/500\n",
      "1/1 [==============================] - 0s 6ms/step - loss: 4.8127e-05 - mse: 4.8127e-05\n",
      "Epoch 441/500\n",
      "1/1 [==============================] - 0s 8ms/step - loss: 4.7209e-05 - mse: 4.7209e-05\n",
      "Epoch 442/500\n",
      "1/1 [==============================] - 0s 24ms/step - loss: 4.6309e-05 - mse: 4.6309e-05\n",
      "Epoch 443/500\n",
      "1/1 [==============================] - 0s 5ms/step - loss: 4.5426e-05 - mse: 4.5426e-05\n",
      "Epoch 444/500\n",
      "1/1 [==============================] - 0s 7ms/step - loss: 4.4558e-05 - mse: 4.4558e-05\n",
      "Epoch 445/500\n",
      "1/1 [==============================] - 0s 6ms/step - loss: 4.3708e-05 - mse: 4.3708e-05\n",
      "Epoch 446/500\n",
      "1/1 [==============================] - 0s 10ms/step - loss: 4.2875e-05 - mse: 4.2875e-05\n",
      "Epoch 447/500\n",
      "1/1 [==============================] - 0s 7ms/step - loss: 4.2056e-05 - mse: 4.2056e-05\n",
      "Epoch 448/500\n",
      "1/1 [==============================] - 0s 7ms/step - loss: 4.1255e-05 - mse: 4.1255e-05\n",
      "Epoch 449/500\n",
      "1/1 [==============================] - 0s 16ms/step - loss: 4.0467e-05 - mse: 4.0467e-05\n",
      "Epoch 450/500\n",
      "1/1 [==============================] - 0s 6ms/step - loss: 3.9696e-05 - mse: 3.9696e-05\n",
      "Epoch 451/500\n",
      "1/1 [==============================] - 0s 20ms/step - loss: 3.8938e-05 - mse: 3.8938e-05\n",
      "Epoch 452/500\n",
      "1/1 [==============================] - 0s 17ms/step - loss: 3.8195e-05 - mse: 3.8195e-05\n",
      "Epoch 453/500\n",
      "1/1 [==============================] - 0s 12ms/step - loss: 3.7467e-05 - mse: 3.7467e-05\n",
      "Epoch 454/500\n",
      "1/1 [==============================] - 0s 9ms/step - loss: 3.6752e-05 - mse: 3.6752e-05\n",
      "Epoch 455/500\n",
      "1/1 [==============================] - 0s 6ms/step - loss: 3.6050e-05 - mse: 3.6050e-05\n",
      "Epoch 456/500\n",
      "1/1 [==============================] - 0s 9ms/step - loss: 3.5364e-05 - mse: 3.5364e-05\n",
      "Epoch 457/500\n",
      "1/1 [==============================] - 0s 5ms/step - loss: 3.4690e-05 - mse: 3.4690e-05\n",
      "Epoch 458/500\n",
      "1/1 [==============================] - 0s 5ms/step - loss: 3.4027e-05 - mse: 3.4027e-05\n",
      "Epoch 459/500\n",
      "1/1 [==============================] - 0s 7ms/step - loss: 3.3378e-05 - mse: 3.3378e-05\n",
      "Epoch 460/500\n",
      "1/1 [==============================] - 0s 5ms/step - loss: 3.2743e-05 - mse: 3.2743e-05\n",
      "Epoch 461/500\n",
      "1/1 [==============================] - 0s 8ms/step - loss: 3.2116e-05 - mse: 3.2116e-05\n",
      "Epoch 462/500\n",
      "1/1 [==============================] - 0s 4ms/step - loss: 3.1504e-05 - mse: 3.1504e-05\n",
      "Epoch 463/500\n",
      "1/1 [==============================] - 0s 5ms/step - loss: 3.0903e-05 - mse: 3.0903e-05\n",
      "Epoch 464/500\n",
      "1/1 [==============================] - 0s 4ms/step - loss: 3.0313e-05 - mse: 3.0313e-05\n",
      "Epoch 465/500\n",
      "1/1 [==============================] - 0s 19ms/step - loss: 2.9735e-05 - mse: 2.9735e-05\n",
      "Epoch 466/500\n",
      "1/1 [==============================] - 0s 7ms/step - loss: 2.9168e-05 - mse: 2.9168e-05\n",
      "Epoch 467/500\n",
      "1/1 [==============================] - 0s 5ms/step - loss: 2.8612e-05 - mse: 2.8612e-05\n",
      "Epoch 468/500\n",
      "1/1 [==============================] - 0s 6ms/step - loss: 2.8067e-05 - mse: 2.8067e-05\n",
      "Epoch 469/500\n",
      "1/1 [==============================] - 0s 7ms/step - loss: 2.7531e-05 - mse: 2.7531e-05\n",
      "Epoch 470/500\n",
      "1/1 [==============================] - 0s 5ms/step - loss: 2.7006e-05 - mse: 2.7006e-05\n",
      "Epoch 471/500\n",
      "1/1 [==============================] - 0s 15ms/step - loss: 2.6490e-05 - mse: 2.6490e-05\n",
      "Epoch 472/500\n",
      "1/1 [==============================] - 0s 8ms/step - loss: 2.5985e-05 - mse: 2.5985e-05\n",
      "Epoch 473/500\n",
      "1/1 [==============================] - 0s 6ms/step - loss: 2.5489e-05 - mse: 2.5489e-05\n",
      "Epoch 474/500\n",
      "1/1 [==============================] - 0s 8ms/step - loss: 2.5003e-05 - mse: 2.5003e-05\n",
      "Epoch 475/500\n",
      "1/1 [==============================] - 0s 6ms/step - loss: 2.4525e-05 - mse: 2.4525e-05\n",
      "Epoch 476/500\n",
      "1/1 [==============================] - 0s 5ms/step - loss: 2.4058e-05 - mse: 2.4058e-05\n",
      "Epoch 477/500\n",
      "1/1 [==============================] - 0s 6ms/step - loss: 2.3599e-05 - mse: 2.3599e-05\n",
      "Epoch 478/500\n",
      "1/1 [==============================] - 0s 5ms/step - loss: 2.3148e-05 - mse: 2.3148e-05\n",
      "Epoch 479/500\n",
      "1/1 [==============================] - 0s 19ms/step - loss: 2.2707e-05 - mse: 2.2707e-05\n",
      "Epoch 480/500\n",
      "1/1 [==============================] - 0s 41ms/step - loss: 2.2274e-05 - mse: 2.2274e-05\n",
      "Epoch 481/500\n",
      "1/1 [==============================] - 0s 13ms/step - loss: 2.1850e-05 - mse: 2.1850e-05\n",
      "Epoch 482/500\n",
      "1/1 [==============================] - 0s 48ms/step - loss: 2.1433e-05 - mse: 2.1433e-05\n",
      "Epoch 483/500\n",
      "1/1 [==============================] - 0s 35ms/step - loss: 2.1024e-05 - mse: 2.1024e-05\n",
      "Epoch 484/500\n",
      "1/1 [==============================] - 0s 12ms/step - loss: 2.0623e-05 - mse: 2.0623e-05\n",
      "Epoch 485/500\n",
      "1/1 [==============================] - 0s 11ms/step - loss: 2.0229e-05 - mse: 2.0229e-05\n",
      "Epoch 486/500\n",
      "1/1 [==============================] - 0s 9ms/step - loss: 1.9843e-05 - mse: 1.9843e-05\n",
      "Epoch 487/500\n",
      "1/1 [==============================] - 0s 13ms/step - loss: 1.9464e-05 - mse: 1.9464e-05\n",
      "Epoch 488/500\n",
      "1/1 [==============================] - 0s 15ms/step - loss: 1.9094e-05 - mse: 1.9094e-05\n",
      "Epoch 489/500\n",
      "1/1 [==============================] - 0s 22ms/step - loss: 1.8730e-05 - mse: 1.8730e-05\n",
      "Epoch 490/500\n",
      "1/1 [==============================] - 0s 6ms/step - loss: 1.8372e-05 - mse: 1.8372e-05\n",
      "Epoch 491/500\n",
      "1/1 [==============================] - 0s 7ms/step - loss: 1.8022e-05 - mse: 1.8022e-05\n",
      "Epoch 492/500\n",
      "1/1 [==============================] - 0s 13ms/step - loss: 1.7678e-05 - mse: 1.7678e-05\n",
      "Epoch 493/500\n",
      "1/1 [==============================] - 0s 28ms/step - loss: 1.7342e-05 - mse: 1.7342e-05\n",
      "Epoch 494/500\n",
      "1/1 [==============================] - 0s 30ms/step - loss: 1.7011e-05 - mse: 1.7011e-05\n",
      "Epoch 495/500\n",
      "1/1 [==============================] - 0s 6ms/step - loss: 1.6685e-05 - mse: 1.6685e-05\n",
      "Epoch 496/500\n",
      "1/1 [==============================] - 0s 11ms/step - loss: 1.6367e-05 - mse: 1.6367e-05\n",
      "Epoch 497/500\n",
      "1/1 [==============================] - 0s 5ms/step - loss: 1.6055e-05 - mse: 1.6055e-05\n",
      "Epoch 498/500\n",
      "1/1 [==============================] - 0s 7ms/step - loss: 1.5749e-05 - mse: 1.5749e-05\n",
      "Epoch 499/500\n",
      "1/1 [==============================] - 0s 3ms/step - loss: 1.5448e-05 - mse: 1.5448e-05\n",
      "Epoch 500/500\n",
      "1/1 [==============================] - 0s 15ms/step - loss: 1.5154e-05 - mse: 1.5154e-05\n"
     ]
    }
   ],
   "source": [
    "history = model.fit(X,y, epochs=500)"
   ]
  },
  {
   "cell_type": "markdown",
   "id": "ELcrfwfwARF6",
   "metadata": {
    "id": "ELcrfwfwARF6"
   },
   "source": [
    "As you can see, the loss went from `1.2677e-05` all the way down to `8.5635e-10`. If you run it again, these values may change. There are so many randomness involved in neural network training. Take an example, weights initialization is random. "
   ]
  },
  {
   "cell_type": "markdown",
   "id": "8-GLhw7OA9_M",
   "metadata": {
    "id": "8-GLhw7OA9_M"
   },
   "source": [
    "<a name='2-5'></a>\n",
    "### 2.5  Evaluating a Model"
   ]
  },
  {
   "cell_type": "markdown",
   "id": "bBZxei-vzHAz",
   "metadata": {
    "id": "bBZxei-vzHAz"
   },
   "source": [
    "After we have trained the model, the next step is to evaluate it. \n",
    "\n",
    "But first off, we can plot the loss versus the epochs to see how it performed. Plotting the model metrics is a fundamental step in performing the error analysis. \n",
    "\n",
    "The training metric `mse` and `loss` are contained in `history.history` and the number of epochs are in `history.epoch`. "
   ]
  },
  {
   "cell_type": "code",
   "execution_count": 8,
   "id": "pSGWj1bK5jDN",
   "metadata": {
    "colab": {
     "base_uri": "https://localhost:8080/",
     "height": 338
    },
    "id": "pSGWj1bK5jDN",
    "outputId": "e85964dc-cabc-46b7-9753-a5eab0fd2aa3"
   },
   "outputs": [
    {
     "data": {
      "text/plain": [
       "<matplotlib.axes._subplots.AxesSubplot at 0x7f8c95ef28d0>"
      ]
     },
     "execution_count": 8,
     "metadata": {},
     "output_type": "execute_result"
    },
    {
     "data": {
      "image/png": "[encoded data removed]",
      "text/plain": [
       "<Figure size 720x360 with 1 Axes>"
      ]
     },
     "metadata": {
      "needs_background": "light"
     },
     "output_type": "display_data"
    }
   ],
   "source": [
    "loss_df = pd.DataFrame(history.history)\n",
    "\n",
    "# Plot loss vs epochs\n",
    "\n",
    "loss_df.plot(figsize=(10,5))"
   ]
  },
  {
   "cell_type": "markdown",
   "id": "VolEuUKs-LvT",
   "metadata": {
    "id": "VolEuUKs-LvT"
   },
   "source": [
    "There are cowple of things to note from the above graph. \n",
    "\n",
    "* First off, the loss and metric we are tracking are all similar. They are both `mean_squared_error` or `mse`.\n",
    "* The model had no improvement from 80(approx) epochs. This means that 500 epochs was too much, and instead of burning resources or compute power, we would have trained for fewer epochs since the model does not show a significant improvements in the later epochs. \n",
    "\n",
    "Training for many epochs beyond what's needed is usually the cause of `overfitting`. We will learn more about overfitting later, but simply, it's when the model is so good on the training set but very poor on the test set or the new data. So, in our case we are forcing the model to fit the data by training it too much. Overfitting can also be caused by using bigger models (for small dataset), etc...\n",
    "\n",
    "\n",
    "That said, let's make some predictions on unseen data. For simplicity, let's predict `y` of `X=30`. Remember that our equation is `y=2X+1`, so with x=30, y should be equal to `61`.\n"
   ]
  },
  {
   "cell_type": "code",
   "execution_count": 9,
   "id": "u1oA77b0__LG",
   "metadata": {
    "colab": {
     "base_uri": "https://localhost:8080/"
    },
    "id": "u1oA77b0__LG",
    "outputId": "38d7149b-0743-4dba-a23c-5fc81ed06272"
   },
   "outputs": [
    {
     "data": {
      "text/plain": [
       "array([[61.014885]], dtype=float32)"
      ]
     },
     "execution_count": 9,
     "metadata": {},
     "output_type": "execute_result"
    }
   ],
   "source": [
    "model.predict([30.0])"
   ]
  },
  {
   "cell_type": "markdown",
   "id": "iu2KiU4yA6pP",
   "metadata": {
    "id": "iu2KiU4yA6pP"
   },
   "source": [
    "Wow! That's so impressive. \n",
    "\n",
    "The model was able to determine the relationship between `X` and `y` and can use that relationship to predict `y` for unseen values of `X`. \n",
    "\n",
    "One thing to note that it is not guarranted to get the exact predictions, say 61. This is because there are so many randomness and probabilities involved behind the scene. \n",
    "\n",
    "\n",
    "One last thing we can try is to get the model parameters, that is weight and bias. And their values should be close to the coeffient and intercept of our linear equation, y=2X+1. 2 is coefficient(or weight), and 1 is the intercept(or bias). "
   ]
  },
  {
   "cell_type": "code",
   "execution_count": 10,
   "id": "b29uAewjCjB9",
   "metadata": {
    "colab": {
     "base_uri": "https://localhost:8080/"
    },
    "id": "b29uAewjCjB9",
    "outputId": "35ab71a7-b1ac-4418-8665-742a3c0a3aa1"
   },
   "outputs": [
    {
     "data": {
      "text/plain": [
       "[array([[2.0006804]], dtype=float32), array([0.994472], dtype=float32)]"
      ]
     },
     "execution_count": 10,
     "metadata": {},
     "output_type": "execute_result"
    }
   ],
   "source": [
    "# Getting the model weights\n",
    "\n",
    "model.get_weights()"
   ]
  },
  {
   "cell_type": "markdown",
   "id": "TR61EgS-C-yl",
   "metadata": {
    "id": "TR61EgS-C-yl"
   },
   "source": [
    "So, as you can see, the model learned that the relationship between X and y is `y=2.0008771 + 0.9928744` and this is very close to `y=2X+1`. Something intringuing here is that there is no where told the model such relationship - `it simply learned it observing the data that we provided`, and `this is the basis of the idea that machine learning is used to extract patterns in data`. \n",
    "\n",
    "With complex data, you might not get such intuition because there will be so many parameters, but in our case, the model was simple, the data was simple, and that allowed us to `uncover` the principal idea behind machine learning - `learning the relationship/pattern between the input features and labels, and using such relationship to make predictions on unseen data.`"
   ]
  },
  {
   "cell_type": "markdown",
   "id": "SjI67-vME-2y",
   "metadata": {
    "id": "SjI67-vME-2y"
   },
   "source": [
    "<a name='2-6'></a>\n",
    "### 2.6  Improving the results"
   ]
  },
  {
   "cell_type": "markdown",
   "id": "FJNcx7oRFC-P",
   "metadata": {
    "id": "FJNcx7oRFC-P"
   },
   "source": [
    "Ideally, your model will likely not be good at the first. \n",
    "\n",
    "You will need to tweak some hyperparameters, or even improve the data. Also, there is a notion that [machine learning model is only 5% of what are to be done to ship a working machine learning system](https://jeande.medium.com/ml-model-is-5-what-should-we-be-doing-cd68ae14ad7f).  So, often, all you need is to improve the data than improving the model. There are even state of the art and open source models that you can take an advantages of if you have good data. And in those intances, building model will be out of the equation.  \n",
    "\n",
    "But of course, improving the model and performing error analysis is not a trivial task and will depend on the results of the model on training and testing set. Here is some ideas that can guide you: \n",
    "\n",
    "* If the model is not doing well on the training data, it's a clue that the input data (X) doesn't contain the useful information needed to predict the output y. Or put it simply, the input features do not have `high predictive power`. The right thing to do here is to improve the data. Otherwise, the problem will perssit. \n",
    "\n",
    "* If the model is doing well on the training data but poorly on the testing data, it maybe that you overfitted the training data and that resulted in model failing to generalize on test/new data. Overfitting is one thing, there maybe other things not going well or worth improving. The right thing to do here is to plot the learning curve and see what's to be done based off what you are seeing.\n",
    "\n",
    "\n",
    "\n",
    "\n"
   ]
  },
  {
   "cell_type": "markdown",
   "id": "eftCBSkUSCYV",
   "metadata": {
    "id": "eftCBSkUSCYV"
   },
   "source": [
    "Up to now, we have come a long way doing regression with neural networks. We have learned how to create a simple data, how to create, train, and compile a simple model, evaluating the results, and we saw some ideas on perfoming error analysis. \n",
    "\n",
    "We started simple with the goal of getting prepared to take a step further into real world scanerios. I wanted to jump quicky to bigger models and computer vision things but I remembered that quite often, it is understanding the basics that can set us off for understanding the bigger picture. \n",
    "\n",
    "To make it more exciting, let's not stop on linear equation (we could after all, we did regression already), but let's step into real world dataset, still practicing regression. "
   ]
  },
  {
   "cell_type": "markdown",
   "id": "Ce1AurnvUWUr",
   "metadata": {
    "id": "Ce1AurnvUWUr"
   },
   "source": [
    "<a name='3'></a>\n",
    "\n",
    "## 3. Going Beyond: A Real world dataset"
   ]
  },
  {
   "cell_type": "markdown",
   "id": "MbhDb1hgWjy_",
   "metadata": {
    "id": "MbhDb1hgWjy_"
   },
   "source": [
    "Welome to the second part of the notebook, where we leap into real world scenarios. \n",
    "\n",
    "Still doing regression, we will use the real world forest dataset to predict the burned area of forest fires, in the northeast region of Portugal, by using meteorological and other data. \n",
    "\n",
    "You can learn more about the dataset [here](https://archive.ics.uci.edu/ml/datasets/Forest+Fires)."
   ]
  },
  {
   "cell_type": "markdown",
   "id": "_RplpeLNUYj0",
   "metadata": {
    "id": "_RplpeLNUYj0"
   },
   "source": [
    "<a name='3-1'></a>\n",
    "\n",
    "## 3.1 Loading the data"
   ]
  },
  {
   "cell_type": "markdown",
   "id": "YFVMmxtm6R_a",
   "metadata": {
    "id": "YFVMmxtm6R_a"
   },
   "source": [
    "Before loading the dataset, I will first import all relevant imports. "
   ]
  },
  {
   "cell_type": "markdown",
   "id": "JkG09wMBNVpf",
   "metadata": {
    "id": "JkG09wMBNVpf"
   },
   "source": [
    "Here are the information about the attributes: \n",
    "\n",
    "1. X - x-axis spatial coordinate within the Montesinho park map: 1 to 9 \n",
    "2. Y - y-axis spatial coordinate within the Montesinho park map: 2 to 9 \n",
    "3. month - month of the year: 'jan' to 'dec' \n",
    "4. day - day of the week: 'mon' to 'sun' \n",
    "5. FFMC - FFMC index from the FWI system: 18.7 to 96.20 \n",
    "6. DMC - DMC index from the FWI system: 1.1 to 291.3 \n",
    "7. DC - DC index from the FWI system: 7.9 to 860.6 \n",
    "8. ISI - ISI index from the FWI system: 0.0 to 56.10 \n",
    "9. temp - temperature in Celsius degrees: 2.2 to 33.30 \n",
    "10. RH - relative humidity in %: 15.0 to 100 \n",
    "11. wind - wind speed in km/h: 0.40 to 9.40 \n",
    "12. rain - outside rain in mm/m2 : 0.0 to 6.4 \n",
    "13. area - the burned area of the forest (in ha): 0.00 to 1090.84 \n",
    "\n",
    "Source: https://archive.ics.uci.edu/ml/datasets/Forest+**Fires\n"
   ]
  },
  {
   "cell_type": "code",
   "execution_count": 11,
   "id": "t4HzO0qP6ZyU",
   "metadata": {
    "id": "t4HzO0qP6ZyU"
   },
   "outputs": [],
   "source": [
    "import tensorflow as tf\n",
    "from tensorflow import keras\n",
    "import numpy as np\n",
    "import pandas as pd\n",
    "import matplotlib.pyplot as plt\n",
    "import seaborn as sns"
   ]
  },
  {
   "cell_type": "markdown",
   "id": "BWPs93SeGNrf",
   "metadata": {
    "id": "BWPs93SeGNrf"
   },
   "source": [
    "Let's download the dataset and load it into a Pandas dataframe using `pd.read_csv()`,"
   ]
  },
  {
   "cell_type": "code",
   "execution_count": 12,
   "id": "k6fog1WK9-bt",
   "metadata": {
    "id": "k6fog1WK9-bt"
   },
   "outputs": [],
   "source": [
    "dataset_url = 'https://archive.ics.uci.edu/ml/machine-learning-databases/forest-fires/forestfires.csv'\n",
    "\n",
    "forest_df = pd.read_csv(dataset_url)"
   ]
  },
  {
   "cell_type": "markdown",
   "id": "mtdI1_o1G_6g",
   "metadata": {
    "id": "mtdI1_o1G_6g"
   },
   "source": [
    "Let's see the features and their data types"
   ]
  },
  {
   "cell_type": "code",
   "execution_count": 13,
   "id": "lZyX4Wg1G4ac",
   "metadata": {
    "colab": {
     "base_uri": "https://localhost:8080/"
    },
    "id": "lZyX4Wg1G4ac",
    "outputId": "8ef2c474-ee50-42e3-8296-c15e24cb26ca"
   },
   "outputs": [
    {
     "name": "stdout",
     "output_type": "stream",
     "text": [
      "<class 'pandas.core.frame.DataFrame'>\n",
      "RangeIndex: 517 entries, 0 to 516\n",
      "Data columns (total 13 columns):\n",
      " #   Column  Non-Null Count  Dtype  \n",
      "---  ------  --------------  -----  \n",
      " 0   X       517 non-null    int64  \n",
      " 1   Y       517 non-null    int64  \n",
      " 2   month   517 non-null    object \n",
      " 3   day     517 non-null    object \n",
      " 4   FFMC    517 non-null    float64\n",
      " 5   DMC     517 non-null    float64\n",
      " 6   DC      517 non-null    float64\n",
      " 7   ISI     517 non-null    float64\n",
      " 8   temp    517 non-null    float64\n",
      " 9   RH      517 non-null    int64  \n",
      " 10  wind    517 non-null    float64\n",
      " 11  rain    517 non-null    float64\n",
      " 12  area    517 non-null    float64\n",
      "dtypes: float64(8), int64(3), object(2)\n",
      "memory usage: 52.6+ KB\n"
     ]
    }
   ],
   "source": [
    "forest_df.info()"
   ]
  },
  {
   "cell_type": "markdown",
   "id": "mNrE3bEyJtP9",
   "metadata": {
    "id": "mNrE3bEyJtP9"
   },
   "source": [
    "The dataset contains 517 examples and 13 columns, 12 features and 1 label (`areas`). "
   ]
  },
  {
   "cell_type": "code",
   "execution_count": 14,
   "id": "ufgJHWdhG-Rm",
   "metadata": {
    "colab": {
     "base_uri": "https://localhost:8080/"
    },
    "id": "ufgJHWdhG-Rm",
    "outputId": "8343fd06-75a4-4a87-a072-909be25601e5"
   },
   "outputs": [
    {
     "name": "stdout",
     "output_type": "stream",
     "text": [
      "(517, 13)\n"
     ]
    }
   ],
   "source": [
    "print(forest_df.shape)"
   ]
  },
  {
   "cell_type": "markdown",
   "id": "sxFGkjy8KqvN",
   "metadata": {
    "id": "sxFGkjy8KqvN"
   },
   "source": [
    "<a name='3-2'></a>\n",
    "\n",
    "## 3.2 Looking in the data"
   ]
  },
  {
   "cell_type": "markdown",
   "id": "tF_IKN-JKyYI",
   "metadata": {
    "id": "tF_IKN-JKyYI"
   },
   "source": [
    "We will not go deep into analysis, but let's try to learn about the data we have. Before that, I will first split the dataset into training and test set. \n",
    "\n",
    "I will use Scikit-Learn `train_test_split`."
   ]
  },
  {
   "cell_type": "code",
   "execution_count": 15,
   "id": "dj61Dr0aKtfC",
   "metadata": {
    "id": "dj61Dr0aKtfC"
   },
   "outputs": [],
   "source": [
    "from sklearn.model_selection import train_test_split\n",
    "\n",
    "train_data, test_data = train_test_split(forest_df, test_size=0.3, random_state=42)"
   ]
  },
  {
   "cell_type": "code",
   "execution_count": 16,
   "id": "e5H1K90wL-I2",
   "metadata": {
    "colab": {
     "base_uri": "https://localhost:8080/"
    },
    "id": "e5H1K90wL-I2",
    "outputId": "43644c34-1b68-4caa-9015-57d4341cc154"
   },
   "outputs": [
    {
     "name": "stdout",
     "output_type": "stream",
     "text": [
      "The shape of training data: (361, 13)\n",
      "The shape of testing data: (156, 13)\n"
     ]
    }
   ],
   "source": [
    "print('The shape of training data: {}\\nThe shape of testing data: {}'.format(train_data.shape, test_data.shape))"
   ]
  },
  {
   "cell_type": "markdown",
   "id": "rJLgRbRfLb91",
   "metadata": {
    "id": "rJLgRbRfLb91"
   },
   "source": [
    "Let's peep into the data."
   ]
  },
  {
   "cell_type": "code",
   "execution_count": 17,
   "id": "9G5OXBW_LYzA",
   "metadata": {
    "colab": {
     "base_uri": "https://localhost:8080/",
     "height": 204
    },
    "id": "9G5OXBW_LYzA",
    "outputId": "3bf727ab-f125-4a31-dde9-e7143a463708"
   },
   "outputs": [
    {
     "data": {
      "text/html": [
       "<div>\n",
       "<style scoped>\n",
       "    .dataframe tbody tr th:only-of-type {\n",
       "        vertical-align: middle;\n",
       "    }\n",
       "\n",
       "    .dataframe tbody tr th {\n",
       "        vertical-align: top;\n",
       "    }\n",
       "\n",
       "    .dataframe thead th {\n",
       "        text-align: right;\n",
       "    }\n",
       "</style>\n",
       "<table border=\"1\" class=\"dataframe\">\n",
       "  <thead>\n",
       "    <tr style=\"text-align: right;\">\n",
       "      <th></th>\n",
       "      <th>X</th>\n",
       "      <th>Y</th>\n",
       "      <th>month</th>\n",
       "      <th>day</th>\n",
       "      <th>FFMC</th>\n",
       "      <th>DMC</th>\n",
       "      <th>DC</th>\n",
       "      <th>ISI</th>\n",
       "      <th>temp</th>\n",
       "      <th>RH</th>\n",
       "      <th>wind</th>\n",
       "      <th>rain</th>\n",
       "      <th>area</th>\n",
       "    </tr>\n",
       "  </thead>\n",
       "  <tbody>\n",
       "    <tr>\n",
       "      <th>311</th>\n",
       "      <td>6</td>\n",
       "      <td>3</td>\n",
       "      <td>sep</td>\n",
       "      <td>sun</td>\n",
       "      <td>92.4</td>\n",
       "      <td>105.8</td>\n",
       "      <td>758.1</td>\n",
       "      <td>9.9</td>\n",
       "      <td>24.8</td>\n",
       "      <td>28</td>\n",
       "      <td>1.8</td>\n",
       "      <td>0.0</td>\n",
       "      <td>14.29</td>\n",
       "    </tr>\n",
       "    <tr>\n",
       "      <th>368</th>\n",
       "      <td>6</td>\n",
       "      <td>5</td>\n",
       "      <td>sep</td>\n",
       "      <td>sat</td>\n",
       "      <td>91.2</td>\n",
       "      <td>94.3</td>\n",
       "      <td>744.4</td>\n",
       "      <td>8.4</td>\n",
       "      <td>16.8</td>\n",
       "      <td>47</td>\n",
       "      <td>4.9</td>\n",
       "      <td>0.0</td>\n",
       "      <td>12.64</td>\n",
       "    </tr>\n",
       "    <tr>\n",
       "      <th>23</th>\n",
       "      <td>7</td>\n",
       "      <td>4</td>\n",
       "      <td>aug</td>\n",
       "      <td>sat</td>\n",
       "      <td>90.2</td>\n",
       "      <td>110.9</td>\n",
       "      <td>537.4</td>\n",
       "      <td>6.2</td>\n",
       "      <td>19.5</td>\n",
       "      <td>43</td>\n",
       "      <td>5.8</td>\n",
       "      <td>0.0</td>\n",
       "      <td>0.00</td>\n",
       "    </tr>\n",
       "    <tr>\n",
       "      <th>271</th>\n",
       "      <td>8</td>\n",
       "      <td>6</td>\n",
       "      <td>aug</td>\n",
       "      <td>tue</td>\n",
       "      <td>92.1</td>\n",
       "      <td>152.6</td>\n",
       "      <td>658.2</td>\n",
       "      <td>14.3</td>\n",
       "      <td>20.1</td>\n",
       "      <td>58</td>\n",
       "      <td>4.5</td>\n",
       "      <td>0.0</td>\n",
       "      <td>9.27</td>\n",
       "    </tr>\n",
       "    <tr>\n",
       "      <th>299</th>\n",
       "      <td>6</td>\n",
       "      <td>5</td>\n",
       "      <td>jun</td>\n",
       "      <td>sat</td>\n",
       "      <td>53.4</td>\n",
       "      <td>71.0</td>\n",
       "      <td>233.8</td>\n",
       "      <td>0.4</td>\n",
       "      <td>10.6</td>\n",
       "      <td>90</td>\n",
       "      <td>2.7</td>\n",
       "      <td>0.0</td>\n",
       "      <td>0.00</td>\n",
       "    </tr>\n",
       "  </tbody>\n",
       "</table>\n",
       "</div>"
      ],
      "text/plain": [
       "     X  Y month  day  FFMC    DMC     DC   ISI  temp  RH  wind  rain   area\n",
       "311  6  3   sep  sun  92.4  105.8  758.1   9.9  24.8  28   1.8   0.0  14.29\n",
       "368  6  5   sep  sat  91.2   94.3  744.4   8.4  16.8  47   4.9   0.0  12.64\n",
       "23   7  4   aug  sat  90.2  110.9  537.4   6.2  19.5  43   5.8   0.0   0.00\n",
       "271  8  6   aug  tue  92.1  152.6  658.2  14.3  20.1  58   4.5   0.0   9.27\n",
       "299  6  5   jun  sat  53.4   71.0  233.8   0.4  10.6  90   2.7   0.0   0.00"
      ]
     },
     "execution_count": 17,
     "metadata": {},
     "output_type": "execute_result"
    }
   ],
   "source": [
    "train_data.head(5)"
   ]
  },
  {
   "cell_type": "markdown",
   "id": "T6j7bE2qLywN",
   "metadata": {
    "id": "T6j7bE2qLywN"
   },
   "source": [
    "It seems that we have two categorical features, `month` and `day`. We will remember to encode them. For now we can see the number of samples in each month and later in each day. "
   ]
  },
  {
   "cell_type": "code",
   "execution_count": 18,
   "id": "01Ag_eK4MVxx",
   "metadata": {
    "colab": {
     "base_uri": "https://localhost:8080/",
     "height": 348
    },
    "id": "01Ag_eK4MVxx",
    "outputId": "f35b5f2c-999d-40b9-9f02-fd15ddde0e7d"
   },
   "outputs": [
    {
     "data": {
      "text/plain": [
       "<matplotlib.axes._subplots.AxesSubplot at 0x7f8c8ef60550>"
      ]
     },
     "execution_count": 18,
     "metadata": {},
     "output_type": "execute_result"
    },
    {
     "data": {
      "image/png": "[encoded data removed]",
      "text/plain": [
       "<Figure size 720x360 with 1 Axes>"
      ]
     },
     "metadata": {
      "needs_background": "light"
     },
     "output_type": "display_data"
    }
   ],
   "source": [
    "train_data['month'].value_counts().plot(kind='bar', figsize=(10,5))"
   ]
  },
  {
   "cell_type": "code",
   "execution_count": 19,
   "id": "LSRX1fskMajw",
   "metadata": {
    "colab": {
     "base_uri": "https://localhost:8080/",
     "height": 349
    },
    "id": "LSRX1fskMajw",
    "outputId": "6298b5ee-eecf-4838-90d6-75bf1d8bcb9b"
   },
   "outputs": [
    {
     "data": {
      "text/plain": [
       "<matplotlib.axes._subplots.AxesSubplot at 0x7f8c8d490f90>"
      ]
     },
     "execution_count": 19,
     "metadata": {},
     "output_type": "execute_result"
    },
    {
     "data": {
      "image/png": "[encoded data removed]",
      "text/plain": [
       "<Figure size 720x360 with 1 Axes>"
      ]
     },
     "metadata": {
      "needs_background": "light"
     },
     "output_type": "display_data"
    }
   ],
   "source": [
    "train_data['day'].value_counts().plot(kind='bar', figsize=(10,5))"
   ]
  },
  {
   "cell_type": "markdown",
   "id": "uPDQxTMzO7xu",
   "metadata": {
    "id": "uPDQxTMzO7xu"
   },
   "source": [
    "We can also check the distribution of the area. Area is very skewed, you can see that most values are very close to zero. \n",
    "\n"
   ]
  },
  {
   "cell_type": "code",
   "execution_count": 36,
   "id": "VIIQnLdQPCUX",
   "metadata": {
    "colab": {
     "base_uri": "https://localhost:8080/",
     "height": 296
    },
    "id": "VIIQnLdQPCUX",
    "outputId": "a42b52cb-f7ff-4c55-b841-853369f1aeb9"
   },
   "outputs": [
    {
     "data": {
      "text/plain": [
       "<matplotlib.axes._subplots.AxesSubplot at 0x7f8c8b079390>"
      ]
     },
     "execution_count": 36,
     "metadata": {},
     "output_type": "execute_result"
    },
    {
     "data": {
      "image/png": "[encoded data removed]",
      "text/plain": [
       "<Figure size 432x288 with 1 Axes>"
      ]
     },
     "metadata": {
      "needs_background": "light"
     },
     "output_type": "display_data"
    }
   ],
   "source": [
    "sns.kdeplot(data=train_data, x='area', color='red')"
   ]
  },
  {
   "cell_type": "markdown",
   "id": "Mr_SUbRXSTiB",
   "metadata": {
    "id": "Mr_SUbRXSTiB"
   },
   "source": [
    "<a name='3-3'></a>\n",
    "\n",
    "## 3.3 Preparing the Data for the Model\n",
    "\n",
    "Here we will do two things, one is to normalize numerical features and the second is to encode categorical features. We can set up a pipeline to handle that. \n",
    "\n",
    "For simplicity, we will use Scikit-Learn processing functions. \n",
    "\n",
    "I will first separate features and label. We can use a function that can also be applied to test set.  "
   ]
  },
  {
   "cell_type": "code",
   "execution_count": 21,
   "id": "4fHdD4ND8klK",
   "metadata": {
    "id": "4fHdD4ND8klK"
   },
   "outputs": [],
   "source": [
    "def get_feats_and_labels(data, label):\n",
    "  \"\"\" Take data and label as inputs, return features and labels separated \"\"\"\n",
    "\n",
    "  data_feats = data.drop(label, axis=1)\n",
    "  data_label = data[label]\n",
    "\n",
    "  return data_feats, data_label"
   ]
  },
  {
   "cell_type": "markdown",
   "id": "w2xPKoSO9bI9",
   "metadata": {
    "id": "w2xPKoSO9bI9"
   },
   "source": [
    "Let's use the function created above to get the features and labels."
   ]
  },
  {
   "cell_type": "code",
   "execution_count": 22,
   "id": "ruS-krcN81nA",
   "metadata": {
    "id": "ruS-krcN81nA"
   },
   "outputs": [],
   "source": [
    "train_feats, train_label = get_feats_and_labels(train_data, 'area')"
   ]
  },
  {
   "cell_type": "code",
   "execution_count": 23,
   "id": "-LC74aAlSaOJ",
   "metadata": {
    "id": "-LC74aAlSaOJ"
   },
   "outputs": [],
   "source": [
    "from sklearn.compose import ColumnTransformer\n",
    "from sklearn.preprocessing import StandardScaler, OrdinalEncoder\n",
    "\n",
    "scaler = StandardScaler()\n",
    "encoder = OrdinalEncoder()\n",
    "\n",
    "\n",
    "# The column transformer requires lists of features\n",
    "\n",
    "num_feats = ['X', 'Y', 'FFMC', 'DMC', 'DC', 'ISI', 'temp', 'RH',\n",
    "       'wind', 'rain']\n",
    "cat_feats = ['month', 'day']\n",
    "\n",
    "# define the pipeline to scale the numeric features and handle categorical features\n",
    "final_pipe = ColumnTransformer([\n",
    "   ('num',scaler , num_feats),    \n",
    "   ('cat', encoder , cat_feats)                        \n",
    "\n",
    "])\n",
    "\n",
    "training_data_prepared = final_pipe.fit_transform(train_feats)"
   ]
  },
  {
   "cell_type": "markdown",
   "id": "tYog2gmfWhzq",
   "metadata": {
    "id": "tYog2gmfWhzq"
   },
   "source": [
    "Now, we can see the shape of the transformed dataset. It is a NumPy array. "
   ]
  },
  {
   "cell_type": "code",
   "execution_count": 24,
   "id": "I7nb6z5kWAXf",
   "metadata": {
    "colab": {
     "base_uri": "https://localhost:8080/"
    },
    "id": "I7nb6z5kWAXf",
    "outputId": "a28a1a98-90ee-4925-d420-77b9c34fa62b"
   },
   "outputs": [
    {
     "data": {
      "text/plain": [
       "(361, 12)"
      ]
     },
     "execution_count": 24,
     "metadata": {},
     "output_type": "execute_result"
    }
   ],
   "source": [
    "training_data_prepared.shape"
   ]
  },
  {
   "cell_type": "code",
   "execution_count": 25,
   "id": "gom2N0zkW6Me",
   "metadata": {
    "colab": {
     "base_uri": "https://localhost:8080/"
    },
    "id": "gom2N0zkW6Me",
    "outputId": "4d4bb290-9dba-4eaa-f074-42f973c53621"
   },
   "outputs": [
    {
     "data": {
      "text/plain": [
       "numpy.ndarray"
      ]
     },
     "execution_count": 25,
     "metadata": {},
     "output_type": "execute_result"
    }
   ],
   "source": [
    "type(training_data_prepared)"
   ]
  },
  {
   "cell_type": "markdown",
   "id": "loeQqU-v1aoo",
   "metadata": {
    "id": "loeQqU-v1aoo"
   },
   "source": [
    "Also let's tranform the test set. Note that for the test set, we don't `fit_transform()`. \n",
    "\n",
    "I will get the features and labels separated first."
   ]
  },
  {
   "cell_type": "code",
   "execution_count": 26,
   "id": "NkI8fXYS1vXp",
   "metadata": {
    "id": "NkI8fXYS1vXp"
   },
   "outputs": [],
   "source": [
    "test_feats, test_label = get_feats_and_labels(test_data, 'area')"
   ]
  },
  {
   "cell_type": "markdown",
   "id": "Rbq6pgYG2GGt",
   "metadata": {
    "id": "Rbq6pgYG2GGt"
   },
   "source": [
    "And now we transform the test features."
   ]
  },
  {
   "cell_type": "code",
   "execution_count": 27,
   "id": "lldqbz9-2M_S",
   "metadata": {
    "id": "lldqbz9-2M_S"
   },
   "outputs": [],
   "source": [
    "test_data_prepared = final_pipe.transform(test_feats)"
   ]
  },
  {
   "cell_type": "markdown",
   "id": "J_rggNrUG92O",
   "metadata": {
    "id": "J_rggNrUG92O"
   },
   "source": [
    "Let's convert train and test labels to NumPy array."
   ]
  },
  {
   "cell_type": "code",
   "execution_count": 28,
   "id": "CiO8zTLNGR3x",
   "metadata": {
    "id": "CiO8zTLNGR3x"
   },
   "outputs": [],
   "source": [
    "train_label = train_label.to_numpy()\n",
    "test_label = test_label.to_numpy()"
   ]
  },
  {
   "cell_type": "markdown",
   "id": "gKG6nbrJXOza",
   "metadata": {
    "id": "gKG6nbrJXOza"
   },
   "source": [
    "<a name='3-4'></a>\n",
    "\n",
    "## 3.4 Creating, Compiling and Training a Model"
   ]
  },
  {
   "cell_type": "markdown",
   "id": "-ckljbee4qxZ",
   "metadata": {
    "id": "-ckljbee4qxZ"
   },
   "source": [
    "Now that our data is prepared, it's time to create a neural network regressor. \n",
    "\n",
    "Like in the first example, we will use the [Sequential API](https://keras.io/api/models/sequential/). \n",
    "\n",
    "Everytime we are creating a model in TensorFlow, we have to specify the input shape. In this example, the input shape will be:\n"
   ]
  },
  {
   "cell_type": "code",
   "execution_count": 29,
   "id": "ttRc3aELAAnO",
   "metadata": {
    "colab": {
     "base_uri": "https://localhost:8080/"
    },
    "id": "ttRc3aELAAnO",
    "outputId": "95603a37-cebf-430f-a676-56a29e850283"
   },
   "outputs": [
    {
     "data": {
      "text/plain": [
       "(12,)"
      ]
     },
     "execution_count": 29,
     "metadata": {},
     "output_type": "execute_result"
    }
   ],
   "source": [
    "input_shape = training_data_prepared.shape[1:]\n",
    "input_shape"
   ]
  },
  {
   "cell_type": "code",
   "execution_count": 30,
   "id": "G8DZ4p9_XZbi",
   "metadata": {
    "id": "G8DZ4p9_XZbi"
   },
   "outputs": [],
   "source": [
    "model = keras.models.Sequential([\n",
    "                                 \n",
    "            # The first layers must specify the input shape always\n",
    "            keras.layers.Dense(12, activation='relu', input_shape=input_shape),\n",
    "            keras.layers.Dense(24, activation='relu'),\n",
    "\n",
    "            # The last layer usually doesn't have activation function in regression\n",
    "            keras.layers.Dense(1)                \n",
    "\n",
    "])\n",
    "\n",
    "# Now we compile the model\n",
    "model.compile(loss='mean_squared_error', optimizer='adam')"
   ]
  },
  {
   "cell_type": "markdown",
   "id": "hARZnzj5CuhL",
   "metadata": {
    "id": "hARZnzj5CuhL"
   },
   "source": [
    "Let's see the model summary. "
   ]
  },
  {
   "cell_type": "code",
   "execution_count": 31,
   "id": "hkPDJF9TCxEb",
   "metadata": {
    "colab": {
     "base_uri": "https://localhost:8080/"
    },
    "id": "hkPDJF9TCxEb",
    "outputId": "a80ac4d6-2851-41a7-e82b-c89d2ad823c1"
   },
   "outputs": [
    {
     "name": "stdout",
     "output_type": "stream",
     "text": [
      "Model: \"sequential_1\"\n",
      "_________________________________________________________________\n",
      "Layer (type)                 Output Shape              Param #   \n",
      "=================================================================\n",
      "dense_1 (Dense)              (None, 12)                156       \n",
      "_________________________________________________________________\n",
      "dense_2 (Dense)              (None, 24)                312       \n",
      "_________________________________________________________________\n",
      "dense_3 (Dense)              (None, 1)                 25        \n",
      "=================================================================\n",
      "Total params: 493\n",
      "Trainable params: 493\n",
      "Non-trainable params: 0\n",
      "_________________________________________________________________\n"
     ]
    }
   ],
   "source": [
    "model.summary()"
   ]
  },
  {
   "cell_type": "markdown",
   "id": "AIuSKB93Bk2S",
   "metadata": {
    "id": "AIuSKB93Bk2S"
   },
   "source": [
    "Remember, when the model is created in TensorFlow, it is like an empty graphs. We can even visualize it. \n"
   ]
  },
  {
   "cell_type": "code",
   "execution_count": 32,
   "id": "gyxUlkxGBvUD",
   "metadata": {
    "colab": {
     "base_uri": "https://localhost:8080/",
     "height": 369
    },
    "id": "gyxUlkxGBvUD",
    "outputId": "f1f30c5e-1065-44e3-b3bf-1bbc7abba9d2"
   },
   "outputs": [
    {
     "data": {
      "image/png": "[encoded data removed]",
      "text/plain": [
       "<IPython.core.display.Image object>"
      ]
     },
     "execution_count": 32,
     "metadata": {},
     "output_type": "execute_result"
    }
   ],
   "source": [
    "from tensorflow.keras.utils import plot_model\n",
    "\n",
    "plot_model(model, to_file='model.png')"
   ]
  },
  {
   "cell_type": "markdown",
   "id": "ZHunKbu3CQYt",
   "metadata": {
    "id": "ZHunKbu3CQYt"
   },
   "source": [
    "Before training or fitting the model to the data, a model is nothing other than empty graphs. \n",
    "\n",
    "Now let's train the model. "
   ]
  },
  {
   "cell_type": "code",
   "execution_count": 33,
   "id": "KS3MtZzeCoHE",
   "metadata": {
    "colab": {
     "base_uri": "https://localhost:8080/"
    },
    "id": "KS3MtZzeCoHE",
    "outputId": "2be51460-3ac7-4878-b9ce-48dc2190c191"
   },
   "outputs": [
    {
     "name": "stdout",
     "output_type": "stream",
     "text": [
      "Epoch 1/50\n",
      "12/12 [==============================] - 1s 17ms/step - loss: 2500.8550 - val_loss: 8183.7715\n",
      "Epoch 2/50\n",
      "12/12 [==============================] - 0s 3ms/step - loss: 2489.0750 - val_loss: 8166.7290\n",
      "Epoch 3/50\n",
      "12/12 [==============================] - 0s 4ms/step - loss: 2480.3232 - val_loss: 8150.3276\n",
      "Epoch 4/50\n",
      "12/12 [==============================] - 0s 3ms/step - loss: 2470.4707 - val_loss: 8137.5972\n",
      "Epoch 5/50\n",
      "12/12 [==============================] - 0s 4ms/step - loss: 2462.4663 - val_loss: 8124.1401\n",
      "Epoch 6/50\n",
      "12/12 [==============================] - 0s 5ms/step - loss: 2453.9116 - val_loss: 8110.1162\n",
      "Epoch 7/50\n",
      "12/12 [==============================] - 0s 3ms/step - loss: 2445.4663 - val_loss: 8095.4053\n",
      "Epoch 8/50\n",
      "12/12 [==============================] - 0s 6ms/step - loss: 2435.2563 - val_loss: 8077.7803\n",
      "Epoch 9/50\n",
      "12/12 [==============================] - 0s 3ms/step - loss: 2426.2720 - val_loss: 8056.7891\n",
      "Epoch 10/50\n",
      "12/12 [==============================] - 0s 5ms/step - loss: 2415.6418 - val_loss: 8038.3853\n",
      "Epoch 11/50\n",
      "12/12 [==============================] - 0s 4ms/step - loss: 2405.9746 - val_loss: 8021.0791\n",
      "Epoch 12/50\n",
      "12/12 [==============================] - 0s 5ms/step - loss: 2399.9617 - val_loss: 8000.2622\n",
      "Epoch 13/50\n",
      "12/12 [==============================] - 0s 5ms/step - loss: 2388.9194 - val_loss: 7986.3862\n",
      "Epoch 14/50\n",
      "12/12 [==============================] - 0s 3ms/step - loss: 2383.2515 - val_loss: 7973.9990\n",
      "Epoch 15/50\n",
      "12/12 [==============================] - 0s 3ms/step - loss: 2377.0486 - val_loss: 7962.8188\n",
      "Epoch 16/50\n",
      "12/12 [==============================] - 0s 5ms/step - loss: 2372.3306 - val_loss: 7954.1953\n",
      "Epoch 17/50\n",
      "12/12 [==============================] - 0s 4ms/step - loss: 2369.2825 - val_loss: 7946.6025\n",
      "Epoch 18/50\n",
      "12/12 [==============================] - 0s 5ms/step - loss: 2364.2703 - val_loss: 7942.8389\n",
      "Epoch 19/50\n",
      "12/12 [==============================] - 0s 4ms/step - loss: 2361.3081 - val_loss: 7942.8628\n",
      "Epoch 20/50\n",
      "12/12 [==============================] - 0s 5ms/step - loss: 2358.3665 - val_loss: 7940.8789\n",
      "Epoch 21/50\n",
      "12/12 [==============================] - 0s 5ms/step - loss: 2354.2932 - val_loss: 7937.1777\n",
      "Epoch 22/50\n",
      "12/12 [==============================] - 0s 4ms/step - loss: 2351.3564 - val_loss: 7934.7852\n",
      "Epoch 23/50\n",
      "12/12 [==============================] - 0s 5ms/step - loss: 2349.0132 - val_loss: 7931.3711\n",
      "Epoch 24/50\n",
      "12/12 [==============================] - 0s 5ms/step - loss: 2345.8608 - val_loss: 7930.4922\n",
      "Epoch 25/50\n",
      "12/12 [==============================] - 0s 5ms/step - loss: 2343.2444 - val_loss: 7931.0679\n",
      "Epoch 26/50\n",
      "12/12 [==============================] - 0s 3ms/step - loss: 2339.5933 - val_loss: 7927.4663\n",
      "Epoch 27/50\n",
      "12/12 [==============================] - 0s 5ms/step - loss: 2337.6555 - val_loss: 7924.7412\n",
      "Epoch 28/50\n",
      "12/12 [==============================] - 0s 3ms/step - loss: 2334.4104 - val_loss: 7924.7734\n",
      "Epoch 29/50\n",
      "12/12 [==============================] - 0s 4ms/step - loss: 2332.6509 - val_loss: 7925.0747\n",
      "Epoch 30/50\n",
      "12/12 [==============================] - 0s 4ms/step - loss: 2328.8726 - val_loss: 7924.2202\n",
      "Epoch 31/50\n",
      "12/12 [==============================] - 0s 4ms/step - loss: 2327.3474 - val_loss: 7927.2397\n",
      "Epoch 32/50\n",
      "12/12 [==============================] - 0s 4ms/step - loss: 2323.9705 - val_loss: 7927.1152\n",
      "Epoch 33/50\n",
      "12/12 [==============================] - 0s 5ms/step - loss: 2321.2361 - val_loss: 7925.8413\n",
      "Epoch 34/50\n",
      "12/12 [==============================] - 0s 4ms/step - loss: 2318.6199 - val_loss: 7926.0889\n",
      "Epoch 35/50\n",
      "12/12 [==============================] - 0s 5ms/step - loss: 2317.1487 - val_loss: 7927.2734\n",
      "Epoch 36/50\n",
      "12/12 [==============================] - 0s 4ms/step - loss: 2314.9399 - val_loss: 7932.5273\n",
      "Epoch 37/50\n",
      "12/12 [==============================] - 0s 5ms/step - loss: 2310.1355 - val_loss: 7924.5747\n",
      "Epoch 38/50\n",
      "12/12 [==============================] - 0s 3ms/step - loss: 2305.5168 - val_loss: 7923.9902\n",
      "Epoch 39/50\n",
      "12/12 [==============================] - 0s 5ms/step - loss: 2304.0037 - val_loss: 7927.2749\n",
      "Epoch 40/50\n",
      "12/12 [==============================] - 0s 5ms/step - loss: 2300.7092 - val_loss: 7922.8140\n",
      "Epoch 41/50\n",
      "12/12 [==============================] - 0s 4ms/step - loss: 2298.9998 - val_loss: 7923.1523\n",
      "Epoch 42/50\n",
      "12/12 [==============================] - 0s 4ms/step - loss: 2296.6914 - val_loss: 7924.2998\n",
      "Epoch 43/50\n",
      "12/12 [==============================] - 0s 4ms/step - loss: 2294.8440 - val_loss: 7925.5903\n",
      "Epoch 44/50\n",
      "12/12 [==============================] - 0s 4ms/step - loss: 2292.0125 - val_loss: 7931.0190\n",
      "Epoch 45/50\n",
      "12/12 [==============================] - 0s 6ms/step - loss: 2290.0403 - val_loss: 7931.6738\n",
      "Epoch 46/50\n",
      "12/12 [==============================] - 0s 5ms/step - loss: 2287.5166 - val_loss: 7933.3862\n",
      "Epoch 47/50\n",
      "12/12 [==============================] - 0s 5ms/step - loss: 2285.0198 - val_loss: 7933.2266\n",
      "Epoch 48/50\n",
      "12/12 [==============================] - 0s 5ms/step - loss: 2282.4080 - val_loss: 7934.9614\n",
      "Epoch 49/50\n",
      "12/12 [==============================] - 0s 5ms/step - loss: 2281.5061 - val_loss: 7933.1396\n",
      "Epoch 50/50\n",
      "12/12 [==============================] - 0s 4ms/step - loss: 2276.9304 - val_loss: 7934.7148\n"
     ]
    }
   ],
   "source": [
    "history = model.fit(training_data_prepared, train_label, \n",
    "                    validation_data = (test_data_prepared, test_label), epochs=50)"
   ]
  },
  {
   "cell_type": "markdown",
   "id": "fZD8FlqtEPfT",
   "metadata": {
    "id": "fZD8FlqtEPfT"
   },
   "source": [
    "<a name='3-5'></a>\n",
    "\n",
    "## 3.5 Evaluating a Model"
   ]
  },
  {
   "cell_type": "markdown",
   "id": "TUOlu65YEif6",
   "metadata": {
    "id": "TUOlu65YEif6"
   },
   "source": [
    "After we have trained the model, the next step is to evaluate it. \n",
    "\n",
    "But first off, we can plot the loss versus the epochs to see how it performed. Plotting the model metrics is a fundamental step in performing the error analysis. \n",
    "\n",
    "`loss` and `val_loss` are contained in `history.history` and the number of epochs are in `history.epoch`. "
   ]
  },
  {
   "cell_type": "code",
   "execution_count": 34,
   "id": "yMg2Zo3rEif-",
   "metadata": {
    "colab": {
     "base_uri": "https://localhost:8080/",
     "height": 337
    },
    "id": "yMg2Zo3rEif-",
    "outputId": "6fdc75ea-4129-4090-8fb5-dacf1c24f54f"
   },
   "outputs": [
    {
     "data": {
      "text/plain": [
       "<matplotlib.axes._subplots.AxesSubplot at 0x7f8c8b06fe50>"
      ]
     },
     "execution_count": 34,
     "metadata": {},
     "output_type": "execute_result"
    },
    {
     "data": {
      "image/png": "[encoded data removed]",
      "text/plain": [
       "<Figure size 720x360 with 1 Axes>"
      ]
     },
     "metadata": {
      "needs_background": "light"
     },
     "output_type": "display_data"
    }
   ],
   "source": [
    "loss_df = pd.DataFrame(history.history)\n",
    "\n",
    "# Plot loss vs epochs\n",
    "\n",
    "loss_df.plot(figsize=(10,5))"
   ]
  },
  {
   "cell_type": "code",
   "execution_count": 35,
   "id": "q2co33ICNWKo",
   "metadata": {
    "colab": {
     "base_uri": "https://localhost:8080/"
    },
    "id": "q2co33ICNWKo",
    "outputId": "88398532-4ffd-45a7-e38f-3dcfb7ac66e9"
   },
   "outputs": [
    {
     "name": "stdout",
     "output_type": "stream",
     "text": [
      "5/5 [==============================] - 0s 2ms/step - loss: 7934.7148\n"
     ]
    },
    {
     "data": {
      "text/plain": [
       "7934.71484375"
      ]
     },
     "execution_count": 35,
     "metadata": {},
     "output_type": "execute_result"
    }
   ],
   "source": [
    "model.evaluate(test_data_prepared, test_label)"
   ]
  },
  {
   "cell_type": "markdown",
   "id": "nyhlBiJeGDoS",
   "metadata": {
    "id": "nyhlBiJeGDoS"
   },
   "source": [
    "The results are not impressive. Let's try to think why the model is not doing well. There are some few things to draw from the graph above. \n",
    "\n",
    "* Ideally, both validation and training loss should decrease during training. If training doesn't decrease, it's very likely that the input features don't contain enough information to predict the output. \n",
    "\n",
    "* Both `loss` and `val_loss` didn't improve alot, and there is no evidence that training for more epochs will improve the results. Quite the opposite, there is evidence that it will not improve.\n",
    "\n",
    "* How about adding more layers, or neurons? There is a notion that a model is as good as the data it was trained on. In most cases, the sure thing to improve or add more data.\n",
    "\n",
    "Let's see what we can improve."
   ]
  },
  {
   "cell_type": "markdown",
   "id": "vh8WP3z-VwnI",
   "metadata": {
    "id": "vh8WP3z-VwnI"
   },
   "source": [
    "<a name='3-6'></a>\n",
    "\n",
    "## 3.6 Improving the Model"
   ]
  },
  {
   "cell_type": "markdown",
   "id": "EPwS-esEV7ii",
   "metadata": {
    "id": "EPwS-esEV7ii"
   },
   "source": [
    "This data is very skewed. The burned area of the forest varies from 0.00 to 1090.84 but it's skewed to ward 0. Take a look at it again below..."
   ]
  },
  {
   "cell_type": "code",
   "execution_count": 37,
   "id": "ILd6CEsmWutk",
   "metadata": {
    "colab": {
     "base_uri": "https://localhost:8080/",
     "height": 296
    },
    "id": "ILd6CEsmWutk",
    "outputId": "6d46b91f-fa29-4668-c769-8f9df66af2b4"
   },
   "outputs": [
    {
     "data": {
      "text/plain": [
       "<matplotlib.axes._subplots.AxesSubplot at 0x7f8ce932f5d0>"
      ]
     },
     "execution_count": 37,
     "metadata": {},
     "output_type": "execute_result"
    },
    {
     "data": {
      "image/png": "[encoded data removed]",
      "text/plain": [
       "<Figure size 432x288 with 1 Axes>"
      ]
     },
     "metadata": {
      "needs_background": "light"
     },
     "output_type": "display_data"
    }
   ],
   "source": [
    "sns.kdeplot(data=train_data, x='area', color='red')"
   ]
  },
  {
   "cell_type": "markdown",
   "id": "nIwKjBaHWxJ3",
   "metadata": {
    "id": "nIwKjBaHWxJ3"
   },
   "source": [
    "As the data source suggested, it may make sense to model it with logarithmic loss. Let's use `LogCosh class` that is available in [Keras Regression losses](https://keras.io/api/losses/regression_losses/#logcosh-class). That type of loss function computes the logarithm of the hyperbolic cosine of the prediction error.\n",
    "\n",
    "Also, as the most values of the target label `area` falls between 0 and 1, we can use the `sigmoid` activation function so that the output of the network doesn't swing above such range. \n",
    "\n"
   ]
  },
  {
   "cell_type": "code",
   "execution_count": 59,
   "id": "oigmddtYZFqn",
   "metadata": {
    "id": "oigmddtYZFqn"
   },
   "outputs": [],
   "source": [
    "model_2 = keras.models.Sequential([\n",
    "                                 \n",
    "            # The first layers must specify the input shape always\n",
    "            keras.layers.Dense(12, activation='relu', input_shape=input_shape),\n",
    "            keras.layers.Dense(6, activation='relu'),\n",
    "\n",
    "            # The last layer usually doesn't have activation function in regression\n",
    "            keras.layers.Dense(1, activation='sigmoid')                \n",
    "\n",
    "])\n",
    "\n",
    "# Now we compile the model\n",
    "model_2.compile(loss='log_cosh', optimizer='adam')"
   ]
  },
  {
   "cell_type": "code",
   "execution_count": 60,
   "id": "HyNdo_NtZRX_",
   "metadata": {
    "colab": {
     "base_uri": "https://localhost:8080/"
    },
    "id": "HyNdo_NtZRX_",
    "outputId": "fe41f3af-3069-4045-e0bf-534366abbafc"
   },
   "outputs": [
    {
     "name": "stdout",
     "output_type": "stream",
     "text": [
      "Epoch 1/50\n",
      "12/12 [==============================] - 1s 13ms/step - loss: 11.5257 - val_loss: 14.5699\n",
      "Epoch 2/50\n",
      "12/12 [==============================] - 0s 3ms/step - loss: 11.5059 - val_loss: 14.5482\n",
      "Epoch 3/50\n",
      "12/12 [==============================] - 0s 4ms/step - loss: 11.4805 - val_loss: 14.5220\n",
      "Epoch 4/50\n",
      "12/12 [==============================] - 0s 5ms/step - loss: 11.4523 - val_loss: 14.4939\n",
      "Epoch 5/50\n",
      "12/12 [==============================] - 0s 5ms/step - loss: 11.4251 - val_loss: 14.4703\n",
      "Epoch 6/50\n",
      "12/12 [==============================] - 0s 5ms/step - loss: 11.4017 - val_loss: 14.4518\n",
      "Epoch 7/50\n",
      "12/12 [==============================] - 0s 5ms/step - loss: 11.3838 - val_loss: 14.4395\n",
      "Epoch 8/50\n",
      "12/12 [==============================] - 0s 3ms/step - loss: 11.3710 - val_loss: 14.4299\n",
      "Epoch 9/50\n",
      "12/12 [==============================] - 0s 5ms/step - loss: 11.3635 - val_loss: 14.4229\n",
      "Epoch 10/50\n",
      "12/12 [==============================] - 0s 5ms/step - loss: 11.3571 - val_loss: 14.4192\n",
      "Epoch 11/50\n",
      "12/12 [==============================] - 0s 3ms/step - loss: 11.3530 - val_loss: 14.4164\n",
      "Epoch 12/50\n",
      "12/12 [==============================] - 0s 5ms/step - loss: 11.3500 - val_loss: 14.4147\n",
      "Epoch 13/50\n",
      "12/12 [==============================] - 0s 3ms/step - loss: 11.3472 - val_loss: 14.4145\n",
      "Epoch 14/50\n",
      "12/12 [==============================] - 0s 3ms/step - loss: 11.3447 - val_loss: 14.4134\n",
      "Epoch 15/50\n",
      "12/12 [==============================] - 0s 3ms/step - loss: 11.3421 - val_loss: 14.4125\n",
      "Epoch 16/50\n",
      "12/12 [==============================] - 0s 5ms/step - loss: 11.3404 - val_loss: 14.4112\n",
      "Epoch 17/50\n",
      "12/12 [==============================] - 0s 5ms/step - loss: 11.3383 - val_loss: 14.4111\n",
      "Epoch 18/50\n",
      "12/12 [==============================] - 0s 3ms/step - loss: 11.3368 - val_loss: 14.4110\n",
      "Epoch 19/50\n",
      "12/12 [==============================] - 0s 5ms/step - loss: 11.3355 - val_loss: 14.4111\n",
      "Epoch 20/50\n",
      "12/12 [==============================] - 0s 4ms/step - loss: 11.3342 - val_loss: 14.4114\n",
      "Epoch 21/50\n",
      "12/12 [==============================] - 0s 5ms/step - loss: 11.3332 - val_loss: 14.4112\n",
      "Epoch 22/50\n",
      "12/12 [==============================] - 0s 4ms/step - loss: 11.3320 - val_loss: 14.4116\n",
      "Epoch 23/50\n",
      "12/12 [==============================] - 0s 4ms/step - loss: 11.3310 - val_loss: 14.4113\n",
      "Epoch 24/50\n",
      "12/12 [==============================] - 0s 5ms/step - loss: 11.3302 - val_loss: 14.4119\n",
      "Epoch 25/50\n",
      "12/12 [==============================] - 0s 5ms/step - loss: 11.3293 - val_loss: 14.4125\n",
      "Epoch 26/50\n",
      "12/12 [==============================] - 0s 4ms/step - loss: 11.3287 - val_loss: 14.4121\n",
      "Epoch 27/50\n",
      "12/12 [==============================] - 0s 5ms/step - loss: 11.3279 - val_loss: 14.4134\n",
      "Epoch 28/50\n",
      "12/12 [==============================] - 0s 5ms/step - loss: 11.3271 - val_loss: 14.4139\n",
      "Epoch 29/50\n",
      "12/12 [==============================] - 0s 3ms/step - loss: 11.3264 - val_loss: 14.4145\n",
      "Epoch 30/50\n",
      "12/12 [==============================] - 0s 5ms/step - loss: 11.3256 - val_loss: 14.4154\n",
      "Epoch 31/50\n",
      "12/12 [==============================] - 0s 4ms/step - loss: 11.3251 - val_loss: 14.4155\n",
      "Epoch 32/50\n",
      "12/12 [==============================] - 0s 5ms/step - loss: 11.3243 - val_loss: 14.4163\n",
      "Epoch 33/50\n",
      "12/12 [==============================] - 0s 4ms/step - loss: 11.3238 - val_loss: 14.4172\n",
      "Epoch 34/50\n",
      "12/12 [==============================] - 0s 5ms/step - loss: 11.3233 - val_loss: 14.4174\n",
      "Epoch 35/50\n",
      "12/12 [==============================] - 0s 5ms/step - loss: 11.3228 - val_loss: 14.4190\n",
      "Epoch 36/50\n",
      "12/12 [==============================] - 0s 5ms/step - loss: 11.3223 - val_loss: 14.4194\n",
      "Epoch 37/50\n",
      "12/12 [==============================] - 0s 5ms/step - loss: 11.3218 - val_loss: 14.4196\n",
      "Epoch 38/50\n",
      "12/12 [==============================] - 0s 5ms/step - loss: 11.3213 - val_loss: 14.4186\n",
      "Epoch 39/50\n",
      "12/12 [==============================] - 0s 5ms/step - loss: 11.3208 - val_loss: 14.4175\n",
      "Epoch 40/50\n",
      "12/12 [==============================] - 0s 4ms/step - loss: 11.3203 - val_loss: 14.4177\n",
      "Epoch 41/50\n",
      "12/12 [==============================] - 0s 3ms/step - loss: 11.3197 - val_loss: 14.4182\n",
      "Epoch 42/50\n",
      "12/12 [==============================] - 0s 4ms/step - loss: 11.3193 - val_loss: 14.4187\n",
      "Epoch 43/50\n",
      "12/12 [==============================] - 0s 4ms/step - loss: 11.3188 - val_loss: 14.4193\n",
      "Epoch 44/50\n",
      "12/12 [==============================] - 0s 5ms/step - loss: 11.3183 - val_loss: 14.4207\n",
      "Epoch 45/50\n",
      "12/12 [==============================] - 0s 6ms/step - loss: 11.3178 - val_loss: 14.4205\n",
      "Epoch 46/50\n",
      "12/12 [==============================] - 0s 5ms/step - loss: 11.3172 - val_loss: 14.4200\n",
      "Epoch 47/50\n",
      "12/12 [==============================] - 0s 5ms/step - loss: 11.3168 - val_loss: 14.4202\n",
      "Epoch 48/50\n",
      "12/12 [==============================] - 0s 4ms/step - loss: 11.3164 - val_loss: 14.4203\n",
      "Epoch 49/50\n",
      "12/12 [==============================] - 0s 5ms/step - loss: 11.3162 - val_loss: 14.4223\n",
      "Epoch 50/50\n",
      "12/12 [==============================] - 0s 4ms/step - loss: 11.3158 - val_loss: 14.4234\n"
     ]
    }
   ],
   "source": [
    "history = model_2.fit(training_data_prepared, train_label, \n",
    "                    validation_data = (test_data_prepared, test_label), epochs=50)"
   ]
  },
  {
   "cell_type": "code",
   "execution_count": 61,
   "id": "uXOqmAiMfHOh",
   "metadata": {
    "colab": {
     "base_uri": "https://localhost:8080/",
     "height": 337
    },
    "id": "uXOqmAiMfHOh",
    "outputId": "0078b834-e792-42a3-8b62-f98fef981d62"
   },
   "outputs": [
    {
     "data": {
      "text/plain": [
       "<matplotlib.axes._subplots.AxesSubplot at 0x7f8c9778b290>"
      ]
     },
     "execution_count": 61,
     "metadata": {},
     "output_type": "execute_result"
    },
    {
     "data": {
      "image/png": "[encoded data removed]",
      "text/plain": [
       "<Figure size 720x360 with 1 Axes>"
      ]
     },
     "metadata": {
      "needs_background": "light"
     },
     "output_type": "display_data"
    }
   ],
   "source": [
    "loss_df = pd.DataFrame(history.history)\n",
    "\n",
    "# Plot loss vs epochs\n",
    "\n",
    "loss_df.plot(figsize=(10,5))"
   ]
  },
  {
   "cell_type": "code",
   "execution_count": 62,
   "id": "d77qp66ChGrB",
   "metadata": {
    "colab": {
     "base_uri": "https://localhost:8080/"
    },
    "id": "d77qp66ChGrB",
    "outputId": "2dd78348-3a50-4081-80ff-fe5a414f25c8"
   },
   "outputs": [
    {
     "name": "stdout",
     "output_type": "stream",
     "text": [
      "5/5 [==============================] - 0s 3ms/step - loss: 18.7532\n"
     ]
    },
    {
     "data": {
      "text/plain": [
       "18.75318717956543"
      ]
     },
     "execution_count": 62,
     "metadata": {},
     "output_type": "execute_result"
    }
   ],
   "source": [
    "model.evaluate(test_data_prepared, test_label)"
   ]
  },
  {
   "cell_type": "markdown",
   "id": "6bhEnsQqNEmS",
   "metadata": {
    "id": "6bhEnsQqNEmS"
   },
   "source": [
    "<a name='3-7'></a>\n",
    "\n",
    "## 3.7 Saving and Loading a model"
   ]
  },
  {
   "cell_type": "markdown",
   "id": "BoN-N6yNNMqK",
   "metadata": {
    "id": "BoN-N6yNNMqK"
   },
   "source": [
    "If something went well, from training to evaluating to improving a model, you would want to save it. \n",
    "\n",
    "Here is how to save a model and how to load a saved model. The model will be saved in HDF5 `format`. When the model is saved in such format, the whole model things are saved. "
   ]
  },
  {
   "cell_type": "code",
   "execution_count": null,
   "id": "mo-NVNHRNIp0",
   "metadata": {
    "id": "mo-NVNHRNIp0"
   },
   "outputs": [],
   "source": [
    "model.save('forest_model.h5')"
   ]
  },
  {
   "cell_type": "markdown",
   "id": "htzej8JaOwiB",
   "metadata": {
    "id": "htzej8JaOwiB"
   },
   "source": [
    "And loading the model is simple too..."
   ]
  },
  {
   "cell_type": "code",
   "execution_count": null,
   "id": "2ZBPS83dOvXA",
   "metadata": {
    "id": "2ZBPS83dOvXA"
   },
   "outputs": [],
   "source": [
    "loaded_model = keras.models.load_model('forest_model.h5')"
   ]
  },
  {
   "cell_type": "markdown",
   "id": "AFq80B7jhbho",
   "metadata": {
    "id": "AFq80B7jhbho"
   },
   "source": [
    "You can make predictions on a loaded model. "
   ]
  },
  {
   "cell_type": "markdown",
   "id": "JL1emoFCQ3v2",
   "metadata": {
    "id": "JL1emoFCQ3v2"
   },
   "source": [
    "<a name='3-8'></a>\n",
    "\n",
    "## 3.8 Final Notes"
   ]
  },
  {
   "cell_type": "markdown",
   "id": "03YHhwcrQ-pC",
   "metadata": {
    "id": "03YHhwcrQ-pC"
   },
   "source": [
    "It has been a quite long journey, from fitting a straight line to building a neural network for a real world dataset. \n",
    "\n",
    "Ideally, for all datasets we used, neural networks would not be a suitable model. But because we are learning, it makes sense to start simple for the sake of understanding the latter. \n",
    "\n",
    "In the next lab, we will do classification with neural networks. Later we will go deep into areas that neural networks have shown potential such as computer vision and natural language processing, and that's where we will practice all possible techniques of improving the results of the neural networks."
   ]
  },
  {
   "cell_type": "markdown",
   "id": "Xwl8zemTSVx2",
   "metadata": {
    "id": "Xwl8zemTSVx2"
   },
   "source": [
    "## [BACK TO TOP](#0)"
   ]
  },
  {
   "cell_type": "code",
   "execution_count": null,
   "id": "6EuyW3AVSbL4",
   "metadata": {
    "id": "6EuyW3AVSbL4"
   },
   "outputs": [],
   "source": []
  }
 ],
 "metadata": {
  "colab": {
   "collapsed_sections": [],
   "name": "7.3 Neural Networks for Regression with TensorFlow.ipynb",
   "provenance": []
  },
  "kernelspec": {
   "display_name": "Python 3",
   "language": "python",
   "name": "python3"
  },
  "language_info": {
   "codemirror_mode": {
    "name": "ipython",
    "version": 3
   },
   "file_extension": ".py",
   "mimetype": "text/x-python",
   "name": "python",
   "nbconvert_exporter": "python",
   "pygments_lexer": "ipython3",
   "version": "3.7.10"
  }
 },
 "nbformat": 4,
 "nbformat_minor": 5
}
